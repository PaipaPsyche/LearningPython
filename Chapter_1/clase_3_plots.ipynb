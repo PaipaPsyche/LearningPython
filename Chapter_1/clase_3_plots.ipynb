{
 "cells": [
  {
   "cell_type": "markdown",
   "metadata": {},
   "source": [
    "# PLOTS, FILES Y UN POCO MÁS...\n",
    "\n",
    "Ya que he introducido el proceso para generar numeros, calcular otros numeros derivados de estos con funciones e incluso impartir condiciones sobre estos, es necesario también presentar una forma de visualizar los resultados. Es por esto que en esta clase se presentará un *abrebocas* a  graficar con python, más específicamente con la librería **matplotlib**.\n",
    "\n",
    "Otro concepto importante a considerar en esta clase es leer y escribir archivos con python. Esto es indispensable en la mayoría de los usos que se le dan a python en un contexto científico y permite hacer tareas que van desde graficar un set de datos hasta hacer análisis estadísticos de datos y alimentar programas con información en tiempo real del mundo exterior.\n",
    "\n",
    "Antes, vamos a ver unas cuantas utlidades más de Python :"
   ]
  },
  {
   "cell_type": "markdown",
   "metadata": {},
   "source": [
    "## UTILIDADES\n",
    "\n",
    "### Input\n",
    "La utilidad **input** es usada para que el usuario del script pueda introducir valores al programa sin necesidad de alterar el código. **Importante** remarcar que el ususario del script (quien le da un uso) no es necesariamente el progrmaador (quien creo el código y la lógica asociada). Poniendolo en práctica, si se ejecuta dentro de un script o un Notebok el siguiente comando :"
   ]
  },
  {
   "cell_type": "markdown",
   "metadata": {},
   "source": [
    "\n",
    "`````python\n",
    "input(\"Introduce tu nombre : \")\n",
    "`````\n",
    "\n",
    "Aparecerá en consola o en el espacio de salida del Notebook el siguiente mensaje:\n",
    "\n",
    "````\n",
    "Introduce tu nombre : ___________________________\n",
    "````\n",
    "\n",
    "Donde el espacio de la línea continua es editable. Una vez introduzco mi nombre en la línea y oprimo \"Enter\", me retorna el valor que introduje.\n"
   ]
  },
  {
   "cell_type": "code",
   "execution_count": 1,
   "metadata": {},
   "outputs": [
    {
     "name": "stdout",
     "output_type": "stream",
     "text": [
      "Introduce tu nombre : PaipaPsyche\n"
     ]
    },
    {
     "data": {
      "text/plain": [
       "'PaipaPsyche'"
      ]
     },
     "execution_count": 1,
     "metadata": {},
     "output_type": "execute_result"
    }
   ],
   "source": [
    "input(\"Introduce tu nombre : \")"
   ]
  },
  {
   "cell_type": "markdown",
   "metadata": {},
   "source": [
    "Como se puede inferir, **input** es una función y esta a su vez retorna un valor, por lo cual se puede almacenar en otra variable. **Importante** tener en cuenta que la salida de la función **input** es una cadena de caracteres o **string**, por lo cual se debe tratar correctamente antes de usarse en un cálculo."
   ]
  },
  {
   "cell_type": "code",
   "execution_count": 2,
   "metadata": {},
   "outputs": [
    {
     "name": "stdout",
     "output_type": "stream",
     "text": [
      "Introduce un valor enetero : 20\n",
      "El triple de ese valor es  60\n"
     ]
    }
   ],
   "source": [
    "variable_a  = int(input(\"Introduce un valor enetero : \"))\n",
    "print(\"El triple de ese valor es \",3*variable_a)"
   ]
  },
  {
   "cell_type": "markdown",
   "metadata": {},
   "source": [
    "Se usa el cambio de tipo a **int** para evitar inconvenientes de este tipo:"
   ]
  },
  {
   "cell_type": "code",
   "execution_count": 3,
   "metadata": {
    "scrolled": true
   },
   "outputs": [
    {
     "name": "stdout",
     "output_type": "stream",
     "text": [
      "Introduce un valor enetero : 20\n",
      "El triple de ese valor es  202020\n"
     ]
    }
   ],
   "source": [
    "variable_a  =input(\"Introduce un valor enetero : \")  # no se cambia el tipo a int\n",
    "print(\"El triple de ese valor es \",3*variable_a)"
   ]
  },
  {
   "cell_type": "markdown",
   "metadata": {},
   "source": [
    "**Otro ejemplo :**"
   ]
  },
  {
   "cell_type": "code",
   "execution_count": 4,
   "metadata": {},
   "outputs": [
    {
     "name": "stdout",
     "output_type": "stream",
     "text": [
      "Introduce un valor enetero : 20\n",
      "Introduce un valor enetero : 45\n",
      "La suma de estos valores es  65\n"
     ]
    }
   ],
   "source": [
    "variable_a  = int(input(\"Introduce un valor enetero : \"))\n",
    "variable_b  = int(input(\"Introduce un valor enetero : \"))\n",
    "print(\"La suma de estos valores es \",variable_a + variable_b)"
   ]
  },
  {
   "cell_type": "markdown",
   "metadata": {},
   "source": [
    "### assert\n",
    "Los **assert** se usan para hacer afirmaciones que deben ser ciertas para continuar con el programa. Estas declaraciones son útiles para detectar errores en el código o notificar errores por mal manejo del usuario. A esta afirmación se puede asociar un mensaje de error que saltará en consola cuando el **assert** NO se cumpla:"
   ]
  },
  {
   "cell_type": "code",
   "execution_count": 5,
   "metadata": {},
   "outputs": [
    {
     "name": "stdout",
     "output_type": "stream",
     "text": [
      "Todo en orden\n"
     ]
    }
   ],
   "source": [
    "variable_a  = 100\n",
    "\n",
    "assert variable_a>50 , \"La variable no es mayor a 50\"\n",
    "print(\"Todo en orden\")"
   ]
  },
  {
   "cell_type": "code",
   "execution_count": 6,
   "metadata": {},
   "outputs": [
    {
     "ename": "AssertionError",
     "evalue": "La variable no es menor a 50",
     "output_type": "error",
     "traceback": [
      "\u001b[1;31m---------------------------------------------------------------------------\u001b[0m",
      "\u001b[1;31mAssertionError\u001b[0m                            Traceback (most recent call last)",
      "\u001b[1;32m<ipython-input-6-0d50140e45e4>\u001b[0m in \u001b[0;36m<module>\u001b[1;34m\u001b[0m\n\u001b[1;32m----> 1\u001b[1;33m \u001b[1;32massert\u001b[0m \u001b[0mvariable_a\u001b[0m\u001b[1;33m<\u001b[0m\u001b[1;36m50\u001b[0m \u001b[1;33m,\u001b[0m \u001b[1;34m\"La variable no es menor a 50\"\u001b[0m\u001b[1;33m\u001b[0m\u001b[1;33m\u001b[0m\u001b[0m\n\u001b[0m\u001b[0;32m      2\u001b[0m \u001b[0mprint\u001b[0m\u001b[1;33m(\u001b[0m\u001b[1;34m\"Todo en orden\"\u001b[0m\u001b[1;33m)\u001b[0m\u001b[1;33m\u001b[0m\u001b[1;33m\u001b[0m\u001b[0m\n",
      "\u001b[1;31mAssertionError\u001b[0m: La variable no es menor a 50"
     ]
    }
   ],
   "source": [
    "assert variable_a<50 , \"La variable no es menor a 50\"\n",
    "print(\"Todo en orden\")"
   ]
  },
  {
   "cell_type": "markdown",
   "metadata": {},
   "source": [
    "Nótese que en el último caso NO se imprimió el mensaje *\"Todo en orden\"* puesto que el **AssertionError** saltó primero y detuvo la ejecución del código."
   ]
  },
  {
   "cell_type": "markdown",
   "metadata": {},
   "source": [
    "### break y continue \n",
    "Muchas veces en un loop se está aplicando alguna operación sobre los valores del loop, ya sean elementos de un arreglo o números, y se quieren omitir algunos valores o se quiere detener el loop si alguna condición se cumple. En estos casos es preciso usar declaraciones como **continue** para hacer un salto de iteración y  **break** para poner un alto al loop.\n",
    "\n",
    "\n",
    "**Por ejemplo**, quiero iterar sobre los numeros naturales del 0 al 20 omitiendo los numeros divisibles en 5 (Es decir, que su residuo de division en 5, o módulo 5, es cero)."
   ]
  },
  {
   "cell_type": "code",
   "execution_count": 7,
   "metadata": {},
   "outputs": [
    {
     "name": "stdout",
     "output_type": "stream",
     "text": [
      "inicio iteracion\n",
      "inicio iteracion\n",
      "1\n",
      "iteracion exitosa\n",
      "inicio iteracion\n",
      "2\n",
      "iteracion exitosa\n",
      "inicio iteracion\n",
      "3\n",
      "iteracion exitosa\n",
      "inicio iteracion\n",
      "4\n",
      "iteracion exitosa\n",
      "inicio iteracion\n",
      "inicio iteracion\n",
      "6\n",
      "iteracion exitosa\n",
      "inicio iteracion\n",
      "7\n",
      "iteracion exitosa\n",
      "inicio iteracion\n",
      "8\n",
      "iteracion exitosa\n",
      "inicio iteracion\n",
      "9\n",
      "iteracion exitosa\n",
      "inicio iteracion\n",
      "inicio iteracion\n",
      "11\n",
      "iteracion exitosa\n",
      "inicio iteracion\n",
      "12\n",
      "iteracion exitosa\n",
      "inicio iteracion\n",
      "13\n",
      "iteracion exitosa\n",
      "inicio iteracion\n",
      "14\n",
      "iteracion exitosa\n",
      "inicio iteracion\n",
      "inicio iteracion\n",
      "16\n",
      "iteracion exitosa\n",
      "inicio iteracion\n",
      "17\n",
      "iteracion exitosa\n",
      "inicio iteracion\n",
      "18\n",
      "iteracion exitosa\n",
      "inicio iteracion\n",
      "19\n",
      "iteracion exitosa\n",
      "FIN\n"
     ]
    }
   ],
   "source": [
    "for  i in range(20): #para los numeros del 0 al 40\n",
    "    print(\"inicio iteracion\")\n",
    "    if(i%5 == 0): #si el numero es divisible por 5\n",
    "        continue # continue a la siguiente iteracion (elsiguiente numero)\n",
    "    else:  # si no \n",
    "        print(i) # imprima el numero\n",
    "    \n",
    "    print(\"iteracion exitosa\") # independientemente del \"if\", imprimir este mensaje\n",
    "\n",
    "print(\"FIN\")\n",
    "        "
   ]
  },
  {
   "cell_type": "markdown",
   "metadata": {},
   "source": [
    "**Importante** notar que en los casos de 0, 5, 10, 15 NO se imprimio el mensaje *\"iteracion exitosa\"* incluso si este era independiente del **if**. Esto sucede porque al momento de leer la declaración **continue** el loop salta al siguiente número de una vez, sin considerar lo que hay después en esa misma iteración. "
   ]
  },
  {
   "cell_type": "markdown",
   "metadata": {},
   "source": [
    "Ahora, suponga que queremos leer una secuencia de números desconocida en orden e imprimir su valor. Esto **siempre y cuando** no se haya leido ningun numero mayor a 0.5."
   ]
  },
  {
   "cell_type": "code",
   "execution_count": 8,
   "metadata": {},
   "outputs": [
    {
     "name": "stdout",
     "output_type": "stream",
     "text": [
      "inicio iteracion\n",
      "0.0\n",
      "iteracion exitosa\n",
      "inicio iteracion\n",
      "0.038461538461538464\n",
      "iteracion exitosa\n",
      "inicio iteracion\n",
      "0.07692307692307693\n",
      "iteracion exitosa\n",
      "inicio iteracion\n",
      "0.11538461538461539\n",
      "iteracion exitosa\n",
      "inicio iteracion\n",
      "0.15384615384615385\n",
      "iteracion exitosa\n",
      "inicio iteracion\n",
      "0.19230769230769232\n",
      "iteracion exitosa\n",
      "inicio iteracion\n",
      "0.23076923076923078\n",
      "iteracion exitosa\n",
      "inicio iteracion\n",
      "0.2692307692307693\n",
      "iteracion exitosa\n",
      "inicio iteracion\n",
      "0.3076923076923077\n",
      "iteracion exitosa\n",
      "inicio iteracion\n",
      "0.34615384615384615\n",
      "iteracion exitosa\n",
      "inicio iteracion\n",
      "0.38461538461538464\n",
      "iteracion exitosa\n",
      "inicio iteracion\n",
      "0.42307692307692313\n",
      "iteracion exitosa\n",
      "inicio iteracion\n",
      "0.46153846153846156\n",
      "iteracion exitosa\n",
      "inicio iteracion\n",
      "0.5\n",
      "iteracion exitosa\n",
      "inicio iteracion\n",
      "FIN\n"
     ]
    }
   ],
   "source": [
    "import numpy as np\n",
    "\n",
    "X = np.linspace(0,1,27) #generar 27 decimales entre 0 y 1\n",
    "\n",
    "for num in X: # para cada numero del arreglo X\n",
    "    print(\"inicio iteracion\")\n",
    "    if(num>0.5): #si el numero es mayor a 0.5\n",
    "        break # detener el \"for\"\n",
    "    else: # si no\n",
    "        print(num) # imprimir el numero\n",
    "    print(\"iteracion exitosa\")\n",
    "\n",
    "print(\"FIN\")"
   ]
  },
  {
   "cell_type": "markdown",
   "metadata": {},
   "source": [
    "Note que solo siguio el ciclo hasta 0.5, a pesar de que X tenia valores superiores y el **for** se especificó para todos los numeros en X. En el momento en el que el código lee el **break** detiene el loop y pasa de largo a cualquier código que haya después de este. Es por esto que sí lee \"inicio iteracion\" pero al momento de leer el **if** , y por ende el **break**, solo pasa al código que hay despues del **for**.\n",
    "\n",
    "**Importante** tener en cuenta que estas declaraciones tambien sirven para los loops **while**."
   ]
  },
  {
   "cell_type": "markdown",
   "metadata": {},
   "source": [
    "### quit()\n",
    "El comando quit (más que eso, es una función sin argumentos) se usa para detener el código en determinado punto. Donde sea dentro del código, si se llega a leer la línea:\n",
    "\n",
    "````python\n",
    "quit()\n",
    "````\n",
    "\n",
    "Se detendrá la ejecución de todo el código, sin importar que proceso se esté llevando a cabo.\n",
    "\n",
    "**Importante** remarcar que se DEBE leer la linea para que el comando funcione. Si la línea se encuentra dentro de un **if** que no se cumple, no se ejecuta su función. \n",
    "Esta utilidad sirve, por ejemplo, para revisar el código y detectar problemas. Muchas veces se tiene un código que se demora mucho en *correr* y sólo se quieren revisar cambios hechos en la primera parte de este. Para ahorrar tiempo, en lugar de dejar que se ejecute TODO el código cada vez que se quiera ver un resultado, se puede usar  un **quit()** en la parte donde se quiere cortar el código y así no se tiene que compilar todo, solo la parte de interés."
   ]
  },
  {
   "cell_type": "markdown",
   "metadata": {},
   "source": [
    "### split"
   ]
  },
  {
   "cell_type": "markdown",
   "metadata": {},
   "source": [
    "Se usa para generar particiones en cadenas de caracteres (o strings) a partir de un caracter (o cadena de caracteres) determinado. Para hacerlo más claro, acá hay un ejemplo:"
   ]
  },
  {
   "cell_type": "code",
   "execution_count": 9,
   "metadata": {},
   "outputs": [],
   "source": [
    "frase = \"para duque es importante querer al queso que le di aquel dia en el buque azul\""
   ]
  },
  {
   "cell_type": "code",
   "execution_count": 10,
   "metadata": {},
   "outputs": [
    {
     "data": {
      "text/plain": [
       "['para',\n",
       " 'duque',\n",
       " 'es',\n",
       " 'importante',\n",
       " 'querer',\n",
       " 'al',\n",
       " 'queso',\n",
       " 'que',\n",
       " 'le',\n",
       " 'di',\n",
       " 'aquel',\n",
       " 'dia',\n",
       " 'en',\n",
       " 'el',\n",
       " 'buque',\n",
       " 'azul']"
      ]
     },
     "execution_count": 10,
     "metadata": {},
     "output_type": "execute_result"
    }
   ],
   "source": [
    "frase.split(\" \") #se separa la frase en cada \"espacio\" del texto"
   ]
  },
  {
   "cell_type": "code",
   "execution_count": 11,
   "metadata": {},
   "outputs": [
    {
     "data": {
      "text/plain": [
       "['para du',\n",
       " ' es importante ',\n",
       " 'rer al ',\n",
       " 'so ',\n",
       " ' le di a',\n",
       " 'l dia en el bu',\n",
       " ' azul']"
      ]
     },
     "execution_count": 11,
     "metadata": {},
     "output_type": "execute_result"
    }
   ],
   "source": [
    "frase.split(\"que\") #se separa la frase usando los caracteres \"que\" como separador"
   ]
  },
  {
   "cell_type": "code",
   "execution_count": 12,
   "metadata": {},
   "outputs": [
    {
     "data": {
      "text/plain": [
       "['para duqu',\n",
       " ' ',\n",
       " 's important',\n",
       " ' qu',\n",
       " 'r',\n",
       " 'r al qu',\n",
       " 'so qu',\n",
       " ' l',\n",
       " ' di aqu',\n",
       " 'l dia ',\n",
       " 'n ',\n",
       " 'l buqu',\n",
       " ' azul']"
      ]
     },
     "execution_count": 12,
     "metadata": {},
     "output_type": "execute_result"
    }
   ],
   "source": [
    "frase.split(\"e\") #se usa la letra \"e\" como separador"
   ]
  },
  {
   "cell_type": "markdown",
   "metadata": {},
   "source": [
    "**Recuerde** que para separar caracter por caracter solo hace falta:"
   ]
  },
  {
   "cell_type": "code",
   "execution_count": 13,
   "metadata": {},
   "outputs": [
    {
     "data": {
      "text/plain": [
       "['a', 'm', 'o', ' ', 'e', 'l', ' ', 'q', 'u', 'e', 's', 'o']"
      ]
     },
     "execution_count": 13,
     "metadata": {},
     "output_type": "execute_result"
    }
   ],
   "source": [
    "frase  = \"amo el queso\"\n",
    "list(frase)"
   ]
  },
  {
   "cell_type": "markdown",
   "metadata": {},
   "source": [
    "**Importante** notar que tanto list como split retornan listas y que estas listas pueden ser almacenadas en variables y recorridas como cualquier variable contenedora. "
   ]
  },
  {
   "cell_type": "markdown",
   "metadata": {},
   "source": [
    "### Round\n",
    "\n",
    "Hay una forma de *\"redondear\"* números fáclmente, sean decimales o enteros muy grandes, con el método **round()**. "
   ]
  },
  {
   "cell_type": "code",
   "execution_count": 14,
   "metadata": {},
   "outputs": [
    {
     "name": "stdout",
     "output_type": "stream",
     "text": [
      "0.13541666666666666\n",
      "62748517\n"
     ]
    }
   ],
   "source": [
    "variable_float = 13/96\n",
    "variable_int = 13**7\n",
    "print(variable_float)\n",
    "print(variable_int)"
   ]
  },
  {
   "cell_type": "code",
   "execution_count": 15,
   "metadata": {},
   "outputs": [
    {
     "data": {
      "text/plain": [
       "0.1354"
      ]
     },
     "execution_count": 15,
     "metadata": {},
     "output_type": "execute_result"
    }
   ],
   "source": [
    "round(variable_float,4)  #redondear a 4 cifras decimales (diez-milécimas)"
   ]
  },
  {
   "cell_type": "code",
   "execution_count": 16,
   "metadata": {},
   "outputs": [
    {
     "data": {
      "text/plain": [
       "62748500"
      ]
     },
     "execution_count": 16,
     "metadata": {},
     "output_type": "execute_result"
    }
   ],
   "source": [
    "round(variable_int,-2) # redondear a 2 ordenes de 10 (centenas)"
   ]
  },
  {
   "cell_type": "code",
   "execution_count": 17,
   "metadata": {},
   "outputs": [
    {
     "data": {
      "text/plain": [
       "0.1"
      ]
     },
     "execution_count": 17,
     "metadata": {},
     "output_type": "execute_result"
    }
   ],
   "source": [
    "round(variable_float,1)  #redondear a 1 cifra decimal (décimas)"
   ]
  },
  {
   "cell_type": "code",
   "execution_count": 18,
   "metadata": {},
   "outputs": [
    {
     "data": {
      "text/plain": [
       "62700000"
      ]
     },
     "execution_count": 18,
     "metadata": {},
     "output_type": "execute_result"
    }
   ],
   "source": [
    "round(variable_int,-5)  #redondear a 5 ordenes de 10 (cientos de miles)"
   ]
  },
  {
   "cell_type": "markdown",
   "metadata": {},
   "source": [
    "Note como se usan argumentos positivos para las cifras decimales y negativos para los espacios enteros."
   ]
  },
  {
   "cell_type": "markdown",
   "metadata": {},
   "source": [
    "## Manejo de Archivos \n",
    "\n",
    "Me atrevo a decir que la mayoría de las veces que un científico, ingeniero o incluso diseñador, hace uso de Python es para **procesar** algún tipo de dato: tablas con números, texto, imágenes, audio, señales e incluso retroalimentación en tiempo real de redes sociales. Estos datos usualmente son generados **fuera** del código de Python por algún agente externo y requieren ser **procesados o analizados**. Para poder introducir estos datos a un código de Python e incluso poder almacenar nuevos datos generados por un código es preciso aprender a **manejar archivos** desde el código de python mismo.\n",
    "\n",
    "Para comenzar, determinemos como abrir un archivo y qué uso se le dará despues de abierto.\n"
   ]
  },
  {
   "cell_type": "code",
   "execution_count": 19,
   "metadata": {},
   "outputs": [],
   "source": [
    "archivo_temperatura  = open(\"temp_SaoPaulo.txt\",\"r\")"
   ]
  },
  {
   "cell_type": "markdown",
   "metadata": {},
   "source": [
    "Veamos esta línea con detenimiento: con **open** declaramos que queremos abrir un archivo o ,más especificamente, que se quiere crear un vinculo entre el código y este archivo. como primer argumento entra el path o dirección del archivo en si mismo que en este caso es *\"temp_SaoPaulo.txt\"* (En breve hablaremos de los path). Pero ¿Qué significa este segundo argumento *\"r\"*? Con este argumento se determina el uso que se le dará al archivo:\n",
    "\n",
    "| **nombre** |**modo**|    **descripción**                | **exception**                   |\n",
    "|------------|-------|------------------------------------|---------------------------------|\n",
    "| read       |  \"r\"  | extraer información del archivo    |error si el archivo no existe    |\n",
    "| write      |  \"w\"  | escribir información en el archivo |crea el archivo si no existe     |\n",
    "| append     |  \"a\"  | agregar información al archivo     |crea el archivo si no existe     |\n",
    "| create     |  \"x\"  | crear el archivo                   |error si el archivo ya existe    |\n",
    "\n",
    "\n",
    "A esto se le puede sumar una letra adicional: si se quiere trabajar con **texto solamente \"t\"** o si se quiere trabajar con **datos binarios \"b\"**. Esta última se usa para tratar infomración codificada que o es legible para el humano pero si para el computador así como  imágenes u objetos. Si se quisiera leer un archivo con codificación binaria se usaría el modo **\"rb\"**.\n",
    "\n",
    "\n",
    "**[GP]** Es buena costumbre nombrar a los arcivos de texto y scripts con nombres descriptivos para evitar confusiones. Nombres de archivos como \"TTsp.txt\" o \"datos.txt\" no sirven mucho al momento de estar buscando desesperadamente estos datos en un posible futuro. Es mejor poner nombres *medianamente* largos pero con suficiente información para reconocer el contenido del archivo sin tener que abrirlo.  \n"
   ]
  },
  {
   "cell_type": "markdown",
   "metadata": {},
   "source": [
    "dicho esto, se infiere que en la línea de código escrita se leyó la información almacenada en el archivo. ¿Y que sucede con esta información?¿en que forma se almacena y como se pede usar?"
   ]
  },
  {
   "cell_type": "code",
   "execution_count": 20,
   "metadata": {},
   "outputs": [
    {
     "data": {
      "text/plain": [
       "<_io.TextIOWrapper name='temp_SaoPaulo.txt' mode='r' encoding='cp1252'>"
      ]
     },
     "execution_count": 20,
     "metadata": {},
     "output_type": "execute_result"
    }
   ],
   "source": [
    "archivo_temperatura"
   ]
  },
  {
   "cell_type": "markdown",
   "metadata": {},
   "source": [
    "Al llamar la variable nos retorna un objeto del tipo *io.TextIOWrapper*. Con este objeto yo no puedo formular operaciones ni mucho menos hacer calculos matemáticos. Para extraer información del TextIOWrapper es preciso aber algunos métodos. \n",
    "\n",
    "El primero es leer todo el archivo y así *\"ojear\"* un poco el contenido de este:  "
   ]
  },
  {
   "cell_type": "code",
   "execution_count": 21,
   "metadata": {},
   "outputs": [
    {
     "data": {
      "text/plain": [
       "'1.0 34.6 237.4\\n2.0 35.8 221.5\\n3.0 33.5 160.5\\n4.0 32.0 72.6\\n5.0 29.7 71.4\\n6.0 29.4 50.1\\n7.0 29.3 43.9\\n8.0 33.2 39.6\\n9.0 35.2 70.7\\n10.0 34.5 126.9\\n11.0 34.6 145.8\\n12.0 33.9 200.7\\n'"
      ]
     },
     "execution_count": 21,
     "metadata": {},
     "output_type": "execute_result"
    }
   ],
   "source": [
    "archivo_temperatura.read()"
   ]
  },
  {
   "cell_type": "markdown",
   "metadata": {},
   "source": [
    "**Importante** recordar que si en un string aparecen los caracteres **\"\\n\"** implican un salto de línea, es decir, pasar de una linea a la siguiente abajo en el archivo.   \n",
    "\n",
    "\n",
    "Si se observa con detenimiento se puede ver que el archivo se trata de 3 numero separados por espacios en cada linea, de tal forma que la primera línea sería | 1.0 | 34.6 | 237.4 | ,  la segunda linea sería| 2.0 | 35.8 | 221.5 | y así sucesivamente.\n",
    "\n",
    "\n",
    "Ahora, si le pido otra vez al archivo ser leido, ocurre lo siguiente:"
   ]
  },
  {
   "cell_type": "code",
   "execution_count": 22,
   "metadata": {},
   "outputs": [
    {
     "data": {
      "text/plain": [
       "''"
      ]
     },
     "execution_count": 22,
     "metadata": {},
     "output_type": "execute_result"
    }
   ],
   "source": [
    "archivo_temperatura.read()"
   ]
  },
  {
   "cell_type": "markdown",
   "metadata": {},
   "source": [
    "Ya no hay nada.\n",
    "\n",
    "Esto no sucede porque el archivo haya quedado vacío o algo similar, sino porque el código usa un **cursor de lectura** para leer el archivo. Una vez leyó todo, el cursor queda al final del archivo y ya no queda más por leer. Una forma de volver a poner este cursor al principio del archivo es con **seek()**."
   ]
  },
  {
   "cell_type": "code",
   "execution_count": 23,
   "metadata": {},
   "outputs": [
    {
     "data": {
      "text/plain": [
       "0"
      ]
     },
     "execution_count": 23,
     "metadata": {},
     "output_type": "execute_result"
    }
   ],
   "source": [
    "archivo_temperatura.seek(0)"
   ]
  },
  {
   "cell_type": "code",
   "execution_count": 24,
   "metadata": {},
   "outputs": [
    {
     "data": {
      "text/plain": [
       "'1.0 34.6 237.4\\n2.0 35.8 221.5\\n3.0 33.5 160.5\\n4.0 32.0 72.6\\n5.0 29.7 71.4\\n6.0 29.4 50.1\\n7.0 29.3 43.9\\n8.0 33.2 39.6\\n9.0 35.2 70.7\\n10.0 34.5 126.9\\n11.0 34.6 145.8\\n12.0 33.9 200.7\\n'"
      ]
     },
     "execution_count": 24,
     "metadata": {},
     "output_type": "execute_result"
    }
   ],
   "source": [
    "archivo_temperatura.read()"
   ]
  },
  {
   "cell_type": "markdown",
   "metadata": {},
   "source": [
    "Si bien se sabe diferenciar en el texto de lectura cuando hay un salto de línea, poder interpretar los datos a partir de esto es molesto ya que hay que generar un split para cada salto de linea. Otro metodo de lectura es almacenar una lista con el contenido de cada línea. Para ello:"
   ]
  },
  {
   "cell_type": "code",
   "execution_count": 25,
   "metadata": {},
   "outputs": [
    {
     "data": {
      "text/plain": [
       "['1.0 34.6 237.4\\n',\n",
       " '2.0 35.8 221.5\\n',\n",
       " '3.0 33.5 160.5\\n',\n",
       " '4.0 32.0 72.6\\n',\n",
       " '5.0 29.7 71.4\\n',\n",
       " '6.0 29.4 50.1\\n',\n",
       " '7.0 29.3 43.9\\n',\n",
       " '8.0 33.2 39.6\\n',\n",
       " '9.0 35.2 70.7\\n',\n",
       " '10.0 34.5 126.9\\n',\n",
       " '11.0 34.6 145.8\\n',\n",
       " '12.0 33.9 200.7\\n']"
      ]
     },
     "execution_count": 25,
     "metadata": {},
     "output_type": "execute_result"
    }
   ],
   "source": [
    "archivo_temperatura  = open(\"temp_SaoPaulo.txt\",\"r\") # se importan los datos\n",
    "\n",
    "lista_lineas  = archivo_temperatura.readlines() \n",
    "\n",
    "lista_lineas"
   ]
  },
  {
   "cell_type": "markdown",
   "metadata": {},
   "source": [
    "Acá as lineas aún tienen el separador de linea anexo al final."
   ]
  },
  {
   "cell_type": "markdown",
   "metadata": {},
   "source": [
    "El objeto *\"TextIOWrapper\"* puede compararse con un iterable también, y por ende se pueden recorrer sus lineas com si fueran los objetos contables del contenedor iterable. es decir: "
   ]
  },
  {
   "cell_type": "code",
   "execution_count": 26,
   "metadata": {},
   "outputs": [
    {
     "name": "stdout",
     "output_type": "stream",
     "text": [
      "1.0 34.6 237.4\n",
      "\n",
      "2.0 35.8 221.5\n",
      "\n",
      "3.0 33.5 160.5\n",
      "\n",
      "4.0 32.0 72.6\n",
      "\n",
      "5.0 29.7 71.4\n",
      "\n",
      "6.0 29.4 50.1\n",
      "\n",
      "7.0 29.3 43.9\n",
      "\n",
      "8.0 33.2 39.6\n",
      "\n",
      "9.0 35.2 70.7\n",
      "\n",
      "10.0 34.5 126.9\n",
      "\n",
      "11.0 34.6 145.8\n",
      "\n",
      "12.0 33.9 200.7\n",
      "\n"
     ]
    }
   ],
   "source": [
    "archivo_temperatura  = open(\"temp_SaoPaulo.txt\",\"r\") # importar los datos\n",
    "\n",
    "for linea in archivo_temperatura: #para cada elemento del archivo\n",
    "    print(linea)"
   ]
  },
  {
   "cell_type": "markdown",
   "metadata": {},
   "source": [
    "Así, usando splits y cambios de tipo se pueden usar los datos del archivo de forma lógica y matemática:"
   ]
  },
  {
   "cell_type": "code",
   "execution_count": 27,
   "metadata": {},
   "outputs": [
    {
     "name": "stdout",
     "output_type": "stream",
     "text": [
      "1.0 2.0\n",
      "2.0 4.0\n",
      "3.0 6.0\n",
      "4.0 8.0\n",
      "5.0 10.0\n",
      "6.0 12.0\n",
      "7.0 14.0\n",
      "8.0 16.0\n",
      "9.0 18.0\n",
      "10.0 20.0\n",
      "11.0 22.0\n",
      "12.0 24.0\n"
     ]
    }
   ],
   "source": [
    "archivo_temperatura  = open(\"temp_SaoPaulo.txt\",\"r\") # importar los datos\n",
    "\n",
    "for linea in archivo_temperatura: #para cada elemento del archivo\n",
    "    valores  = linea.split(\" \") # separar por cada espacio\n",
    "    x = float(valores[0]) #tomar el primer valor como float\n",
    "    \n",
    "    print(x,2*x)  # imporimer el valor y el doble del valor "
   ]
  },
  {
   "cell_type": "markdown",
   "metadata": {},
   "source": [
    "#### Tipos de dato\n",
    "\n",
    "Para ponerlo simple: si se puede poner en un archivo, entonces es un dato. Desde textos del Quijote hasta datos del telescopio hubble, si se puede plasmar en un archivo es un dato. Ahora, el tipo de dato y el uso que se le de es lo que varía: yo no puedo hacer análisis sintácticos sobre datos del hubble ni cromatografía sobre un tramo de texto del Quijote.\n",
    "\n",
    "### Numpy ayuda \n",
    "\n",
    "Cuando se trata de valores numéricos organizados en una tabla, numpy ofrece una herramienta para reconocer facilmente valores numéricos y estrcturarlos como tal:"
   ]
  },
  {
   "cell_type": "code",
   "execution_count": 28,
   "metadata": {},
   "outputs": [],
   "source": [
    "archivo_temperatura = np.loadtxt(\"temp_SaoPaulo.txt\",delimiter=\" \")"
   ]
  },
  {
   "cell_type": "code",
   "execution_count": 29,
   "metadata": {},
   "outputs": [
    {
     "data": {
      "text/plain": [
       "array([[  1. ,  34.6, 237.4],\n",
       "       [  2. ,  35.8, 221.5],\n",
       "       [  3. ,  33.5, 160.5],\n",
       "       [  4. ,  32. ,  72.6],\n",
       "       [  5. ,  29.7,  71.4],\n",
       "       [  6. ,  29.4,  50.1],\n",
       "       [  7. ,  29.3,  43.9],\n",
       "       [  8. ,  33.2,  39.6],\n",
       "       [  9. ,  35.2,  70.7],\n",
       "       [ 10. ,  34.5, 126.9],\n",
       "       [ 11. ,  34.6, 145.8],\n",
       "       [ 12. ,  33.9, 200.7]])"
      ]
     },
     "execution_count": 29,
     "metadata": {},
     "output_type": "execute_result"
    }
   ],
   "source": [
    "archivo_temperatura"
   ]
  },
  {
   "cell_type": "markdown",
   "metadata": {},
   "source": [
    "La función **loadtxt()** de *Numpy* permite leer datos directamente de un archivo de texto y hacer la separación de valores basandose en el valor *\"delimiter\"* que se ingrese como parámetro. Esta función retorna un vector o matriz de Numpy con los valores solicitados **si todo esta en orden**.\n",
    "\n",
    "**Importante** tener en cuenta que hay varios motivos por los cuales **loadtxt()** podría fallar: Las columnas o filas son de diferente longitud, no todos los valores pueden ser interpretados como numéricos, el delimitador es errado, entre otros. Si este es el caso, conviene revisar el archivo para determinar la causa del error o simplemente usar un método manual para extraer los datos. \n",
    "\n",
    "**Importante** recordar que este método solo se debe usar sobre datos numéricos. NO puede usarse ara hacer tratamiento de variables de texto u objetos."
   ]
  },
  {
   "cell_type": "markdown",
   "metadata": {},
   "source": [
    "### Absolute & Relative Paths\n",
    "\n",
    "La traducción literal de path es *\"camino\"*, que en el caso de la localización de archivos algo tiene que ver. En computación un *path* es la forma de señalar la **dirección exacta** de localización de un archivo o una carpeta con un conjuto de carcteres. Si ha usado omputadores por un buen tiempo alguna vez se habrá cruzado con un path de la forma :\n",
    "\n",
    "````\n",
    "C:\\Users\\PaipaPsyche\\Desktop\\PythonFiles\\temp_SaoPaulo.txt\n",
    "````\n",
    "\n",
    "Este, por ejemlo, es el **path absoluto** en mi computador para el archivo que estamos tratando. Es absoluto porque referencia la dirección al archivo **desde el origen en el disco mismo (C:)**.\n",
    "\n",
    "Si yo uso e path absolto para importar el archivo a python, este lo lee sin problemas:\n",
    "\n",
    "\n",
    "````python\n",
    "archivo_temperatura = open(\"C:\\Users\\PaipaPsyche\\Desktop\\PythonFiles\\temp_SaoPaulo.txt\",\"r\")\n",
    "````\n",
    "\n",
    "Al comienzo cuando se llamaba al archivo con el path *\"temp_SaoPaulo.txt\"* se estaba usando un **path relativo**. Es relativo  ya que tanto el script del código como el archivo están en la misma carpeta. El path relativo referencia al archivo **a partir de la dirección del script que se está ejecutando**. Si, por ejemplo, el archivo estuviera dentro de una carpeta adicional llamada *\"Datos\"* el path relativo sería:\n",
    "\n",
    "````python\n",
    "archivo_temperatura = open(\"Datos\\temp_SaoPaulo.txt\",\"r\")\n",
    "````\n",
    "\n",
    "Esto ya que el código tendria que primero visitar la carpeta adicional (que se encuentra en la misma carpeta que el script) y luego si abrir el archivo. En este caso hipotético, el path absoluto sería:\n",
    "````python\n",
    "archivo_temperatura = open(\"C:\\Users\\PaipaPsyche\\Desktop\\PythonFiles\\Datos\\temp_SaoPaulo.txt\",\"r\")\n",
    "````\n",
    "\n",
    "El archivo esta dentro de la carpeta \"Datos\", en la carpeta \"PythonFiles\" están el script y la carpeta \"Datos\", en la carpeta \"Desktop\" está la carpeta \"PythonFiles\" y así sucesivamente.\n",
    "\n",
    "Si por el contrario el archivo NO se encuentra una carpeta adicional a la del script, sino una carpeta *mas arriba* que el script ( es decir en Desktop), el path relativo sería:\n",
    "\n",
    "````python\n",
    "archivo_temperatura = open(\"..\\temp_SaoPaulo.txt\",\"r\")\n",
    "\n",
    "````\n",
    "En la carpeta \"PythonFiles\" está el script , en la carpeta \"Desktop\" está la carpeta \"PythonFiles\" y el archivo, y así sucesivamente.\n",
    "La notación de los dos puntos **\"..\"** denota que hay que moverse una carpeta hacia arriba o *\"hacia atrás\"*."
   ]
  },
  {
   "cell_type": "markdown",
   "metadata": {},
   "source": [
    "### Cerrar el Archivo\n",
    "Cuando se manejan archivos hay que tener algo claro:\n",
    "\n",
    "**TODOS LOS ARCHIVOS QUE SE ABREN DEBEN CERRARSE !!**\n",
    "\n",
    "Es importante tener esto claro pues olvidar este último paso es el comienzo de muchos dolores de cabeza. Es importate siempre cerrar los vinculos del código con cualuier archivo que se tenga abierto con el método **open()** pues de lo contrario el kernel de Python se va a llenar de archivos abiertos o se puede sobreescribr información valiosa por accidente. Para cerrar el archivo basta con:"
   ]
  },
  {
   "cell_type": "code",
   "execution_count": 30,
   "metadata": {},
   "outputs": [],
   "source": [
    "archivo_temperatura  = open(\"temp_SaoPaulo.txt\",\"r\") # se importan los datos\n",
    "\n",
    "lista_lineas  = archivo_temperatura.readlines() # se almacenan las lineas dentro del archivo\n",
    "\n",
    "archivo_temperatura.close() # se cierra el archivo"
   ]
  },
  {
   "cell_type": "markdown",
   "metadata": {},
   "source": [
    "**Importante** saber que el método **close()** se usa sobre objetos que se abrieron desde python **directamente**. El método **loadtxt()** de *Numpy* abre el archivo , importa los datos y cierra el vinculo con el archivo (llamado *thread*) por sí mismo. Es por eso que en ese caso, entre otros, NO es necesario cerrar el archivo *manualmente*. "
   ]
  },
  {
   "cell_type": "markdown",
   "metadata": {},
   "source": [
    "### Escribir archivos\n",
    "\n",
    "En Python se pueden generar datos para muchas situaciones y en muchos formatos. Muchas veces se requiere usar estos datos más de una vez  o incluso en otros compiladores o programas. Python también puede escribir archivos y no es muy diferente a como se leen. Pongo un ejemlo práctico para introducir el tema: \n",
    "\n",
    "\n",
    "#### Serie Armónica\n",
    "La serie armónica es aquella serie formada por la suma de los inversos multiplicativos de los numeros naturales a partir del 1. Se llama la serie armónica porque se le asocia con la longitud de onda y la frecuencia en vibraciones fundamentales de las cuerdas, que estan relacionadas con el inverso unitario de la longitud de la cuerda misma.\n",
    "\n",
    "$                   \\sum_{k=1}^{\\infty}\\frac{1}{k}=1 + \\frac{1}{2} + \\frac{1}{3} + \\frac{1}{4} + ...$ \n",
    "\n",
    "\n",
    "Suponga que queremos saber el valor de la serie hasta un valor N de tope. Es decir, el valor $S_{N}$ :\n",
    "\n",
    "$S_{N} = \\sum_{k=1}^{N}\\frac{1}{k}=1 + \\frac{1}{2} + ... + \\frac{1}{N-1} + \\frac{1}{N}$\n",
    "\n",
    "Y aún más interesante, se quiere hacer una función que pueda guardar en un archivo de texto con dos columnas (separadas por espacio) el valor e N junto con el valor de $S_{N}$ para cada N entre 1 y un $N_{max}$ que entra por parámetro a la función.\n",
    "Es decir que si se proporciona $N_{max} = 3$ a la función, el archivo se deberia ver así:\n",
    "\n",
    "1  $N_{1}$\n",
    "\n",
    "2  $N_{2}$\n",
    "\n",
    "3  $N_{3}$\n",
    "\n",
    "##### Desarrollo\n",
    "\n",
    "Comenzamos definiendo la función para obtener el valor de $S_{N}$:\n"
   ]
  },
  {
   "cell_type": "code",
   "execution_count": 31,
   "metadata": {},
   "outputs": [],
   "source": [
    "def suma_armonica(N):\n",
    "    total_suma = 0  # inicializamos el valor total de la suma en 0\n",
    "    for  k in range(1,N+1): #esto recorre los numeros desde el 1 (incluyendolo) hasta N+1 (sin incluir N+1, solo hasta N)\n",
    "        total_suma = total_suma + 1/k #para cada iteracion se suma 1/k\n",
    "    return total_suma #retorna el valor total de la suma"
   ]
  },
  {
   "cell_type": "markdown",
   "metadata": {},
   "source": [
    "Si todo está en orden, es cierto que:\n",
    "\n",
    "\n",
    "$S_{1}=1$\n",
    "\n",
    "$S_{2}=1.5$\n",
    "\n",
    "$S_{3}=1.8333$..."
   ]
  },
  {
   "cell_type": "code",
   "execution_count": 32,
   "metadata": {},
   "outputs": [
    {
     "data": {
      "text/plain": [
       "1.0"
      ]
     },
     "execution_count": 32,
     "metadata": {},
     "output_type": "execute_result"
    }
   ],
   "source": [
    "suma_armonica(1)"
   ]
  },
  {
   "cell_type": "code",
   "execution_count": 33,
   "metadata": {},
   "outputs": [
    {
     "data": {
      "text/plain": [
       "1.5"
      ]
     },
     "execution_count": 33,
     "metadata": {},
     "output_type": "execute_result"
    }
   ],
   "source": [
    "suma_armonica(2)"
   ]
  },
  {
   "cell_type": "code",
   "execution_count": 34,
   "metadata": {},
   "outputs": [
    {
     "data": {
      "text/plain": [
       "1.8333333333333333"
      ]
     },
     "execution_count": 34,
     "metadata": {},
     "output_type": "execute_result"
    }
   ],
   "source": [
    "suma_armonica(3)"
   ]
  },
  {
   "cell_type": "markdown",
   "metadata": {},
   "source": [
    "Ya que todo está bien, estudiemos la lógica del archivo. También debe usarse un loop pero, más importante aún, en la función misma se debe abrir, escribir y cerrar el archivo.\n",
    "\n",
    "**Importante** recordar que:\n",
    "\n",
    "* Al abrir un archivo en modo escritura que **NO existe**, este se crea en la carpeta destino con el nombre especificado.\n",
    "\n",
    "* **TODO** archivo abierto debe cerrarse.\n",
    "\n",
    "* Los strings se pueden sumar entre si para formar strings más largos. Sin embargo, para adicionar un valor numérico al string primero debe ser cambado de tipo a string (por ahora, màs adelante veremos una forma màs eficiente de hacerlo).\n",
    "\n",
    "* La forma de simbolizar un salto de línea en un string es con los caracteres \"**\\n**\".\n"
   ]
  },
  {
   "cell_type": "code",
   "execution_count": 35,
   "metadata": {},
   "outputs": [],
   "source": [
    "def archivo_suma_armonica (N_max):\n",
    "    nombre_archivo  = \"suma_armonica_\"+str(N_max)+\".txt\"  #crea el nombre con Nmax introducido\n",
    "    archivo_destino = open(nombre_archivo,\"w\") # vamos a escribir en el archivo \n",
    "    \n",
    "    for N in range(1,N_max+1):  # Recorre N desde 1 hasta N_max\n",
    "        \n",
    "        S_N = suma_armonica(N) # se crea el numero S_N\n",
    "        \n",
    "        linea = str(N) + \" \"+str(S_N)+\"\\n\" #linea = N + espacio + S_N + salto de linea\n",
    "        print(linea)\n",
    "        \n",
    "        archivo_destino.write(linea)  # ESCRIBIR EN EL ARCHIVO\n",
    "        \n",
    "    archivo_destino.close() # se cierra el archivo"
   ]
  },
  {
   "cell_type": "code",
   "execution_count": 36,
   "metadata": {},
   "outputs": [
    {
     "name": "stdout",
     "output_type": "stream",
     "text": [
      "1 1.0\n",
      "\n",
      "2 1.5\n",
      "\n",
      "3 1.8333333333333333\n",
      "\n",
      "4 2.083333333333333\n",
      "\n",
      "5 2.283333333333333\n",
      "\n",
      "6 2.4499999999999997\n",
      "\n",
      "7 2.5928571428571425\n",
      "\n",
      "8 2.7178571428571425\n",
      "\n",
      "9 2.8289682539682537\n",
      "\n",
      "10 2.9289682539682538\n",
      "\n"
     ]
    }
   ],
   "source": [
    "archivo_suma_armonica(10) # verificamos su funcionamiento ...."
   ]
  },
  {
   "cell_type": "markdown",
   "metadata": {},
   "source": [
    "Y , verificando en los **archivos locales**, hay un archivo de texto **NUEVO** llamado *\"suma_armonica_10.txt\"* con las líneas mostradas arriba. \n",
    "\n",
    "Note que el comando usado para escribir en el archivo es **write()** y que esribe en el archivo **SIN** hacer por si mismo el cambio de línea. Es preciso poner el salto de línea de **forma manual** en este tipo de implementación.\n"
   ]
  },
  {
   "cell_type": "code",
   "execution_count": null,
   "metadata": {},
   "outputs": [],
   "source": []
  }
 ],
 "metadata": {
  "kernelspec": {
   "display_name": "Python 3",
   "language": "python",
   "name": "python3"
  },
  "language_info": {
   "codemirror_mode": {
    "name": "ipython",
    "version": 3
   },
   "file_extension": ".py",
   "mimetype": "text/x-python",
   "name": "python",
   "nbconvert_exporter": "python",
   "pygments_lexer": "ipython3",
   "version": "3.7.3"
  }
 },
 "nbformat": 4,
 "nbformat_minor": 2
}
