{
 "cells": [
  {
   "cell_type": "markdown",
   "metadata": {},
   "source": [
    "   # LÓGICA Y LOOPS\n",
    "\n",
    "Ya que hablamos un poco de estructuras organizadas de información (como los vectores y las listas) y de el uso de funciones, surgen necesidades que no se pueden satisafecer con lo que se ha aprendido hasta el momento. Python tiene herramientas para solucionar problemas que , como veremos, surgen a partir de necesidades más complejas de los programadores. Herramientas que sirven para hacer recorridos largos de forma automática o definir condiciones en el desarrollo de un proceso."
   ]
  },
  {
   "cell_type": "markdown",
   "metadata": {},
   "source": [
    "### Lógica\n",
    "Es de esperarse que la programación tenga lógica, sobre todo cuando la computación está fundamentanda en esta. En lo que a python concierne, se usa el concepto de [**Álgebra de Boole**](https://es.wikipedia.org/wiki/%C3%81lgebra_de_Boole) o **Lógica Booleana**. Esta no es más que un esquema matemático para definir la lógica de operadores y compuertas en computación.\n",
    "\n",
    "En el contexto del programador inexperto, la logica boolana corresponde a la interpretanción de cualquier enunciado que pueda ser reducido a Verdadero (**True**) o Falso (**False**). Estos son valores que ya hemos visto antes en el curso y que corresponden a variables de tipo *boolean*. Para poner un ejemplo, miremos que pasa en python cuando en vez de hacer operaciones tratamos de comparar elementos o hacer afirmaciones:"
   ]
  },
  {
   "cell_type": "code",
   "execution_count": 1,
   "metadata": {},
   "outputs": [
    {
     "data": {
      "text/plain": [
       "False"
      ]
     },
     "execution_count": 1,
     "metadata": {},
     "output_type": "execute_result"
    }
   ],
   "source": [
    "1>2      # 1 mayor que 2"
   ]
  },
  {
   "cell_type": "code",
   "execution_count": 2,
   "metadata": {},
   "outputs": [
    {
     "data": {
      "text/plain": [
       "False"
      ]
     },
     "execution_count": 2,
     "metadata": {},
     "output_type": "execute_result"
    }
   ],
   "source": [
    "500 < 5*10 # 500 menor que 5*10 = 50"
   ]
  },
  {
   "cell_type": "code",
   "execution_count": 3,
   "metadata": {},
   "outputs": [
    {
     "data": {
      "text/plain": [
       "True"
      ]
     },
     "execution_count": 3,
     "metadata": {},
     "output_type": "execute_result"
    }
   ],
   "source": [
    "100 > 10 # 100 mayor que 10"
   ]
  },
  {
   "cell_type": "markdown",
   "metadata": {},
   "source": [
    "Acá se presentan los operadores *mayor que* (>) y *menor que* (<) siendo usados en **afirmaciones lógicas** que son respondidas con un valor booleano. Al expresar afirmaciones falsas, el valor retornado es *False* y de igual forma al presentar afirmaciones ciertas el valor respuesta es *True*. \n",
    "\n",
    "existen mas operadores lógicos, enter ellos:"
   ]
  },
  {
   "cell_type": "code",
   "execution_count": 4,
   "metadata": {},
   "outputs": [
    {
     "data": {
      "text/plain": [
       "False"
      ]
     },
     "execution_count": 4,
     "metadata": {},
     "output_type": "execute_result"
    }
   ],
   "source": [
    "100 == 200  #100 es igual a 200"
   ]
  },
  {
   "cell_type": "code",
   "execution_count": 5,
   "metadata": {},
   "outputs": [
    {
     "data": {
      "text/plain": [
       "True"
      ]
     },
     "execution_count": 5,
     "metadata": {},
     "output_type": "execute_result"
    }
   ],
   "source": [
    "100 == 10*10 #100 = 10*10"
   ]
  },
  {
   "cell_type": "code",
   "execution_count": 6,
   "metadata": {},
   "outputs": [
    {
     "data": {
      "text/plain": [
       "False"
      ]
     },
     "execution_count": 6,
     "metadata": {},
     "output_type": "execute_result"
    }
   ],
   "source": [
    "300 >= 50*10  #300 mayor o igual que 50*10"
   ]
  },
  {
   "cell_type": "code",
   "execution_count": 7,
   "metadata": {},
   "outputs": [
    {
     "data": {
      "text/plain": [
       "True"
      ]
     },
     "execution_count": 7,
     "metadata": {},
     "output_type": "execute_result"
    }
   ],
   "source": [
    "300 <= 301 #300 menor o igual a 301 "
   ]
  },
  {
   "cell_type": "code",
   "execution_count": 8,
   "metadata": {},
   "outputs": [
    {
     "data": {
      "text/plain": [
       "True"
      ]
     },
     "execution_count": 8,
     "metadata": {},
     "output_type": "execute_result"
    }
   ],
   "source": [
    "100 != 200 #100 diferente a 200"
   ]
  },
  {
   "cell_type": "markdown",
   "metadata": {},
   "source": [
    "En cada uno de estos casos se está evaluando un solo enunciado, es decir, solo se evalua una **condición**. pero ¿Qué pasa si se quiere evaluar más de un enunciado? y si se pudiera evaluar más de uno ... ¿Cómo se *mezclaría* la condición de verdad de cada una para determinar la condición de verdad deseada?\n",
    "\n",
    "Introduciendo otros operadores lógicos: **or**   y   **and**.\n",
    "\n",
    "#### OR lógico\n",
    "OR, como su traducción del inglés lo indica, se refiere al *condicional que es cierto si almenos uno de sus elementos es cierto*, es decir que es cierto *si y solo si* alguno de los enunciados que le conforma es cierto. \n",
    "\n",
    "Un ejemplo de la vida cotidiana es: *\"Comer manzanas o peras me hace feliz\"*. Mi *Felicidad* hipotética es válidad si recibo manzanas **O** peras. Es válida si almenos una es cierta. \n",
    "\n",
    "En términos más ... computacionales:"
   ]
  },
  {
   "cell_type": "code",
   "execution_count": 9,
   "metadata": {},
   "outputs": [
    {
     "data": {
      "text/plain": [
       "False"
      ]
     },
     "execution_count": 9,
     "metadata": {},
     "output_type": "execute_result"
    }
   ],
   "source": [
    "(100 > 200) or (50 > 100) #100 mayor que 200 O 50 mayor que 100 (ambas son falsas)"
   ]
  },
  {
   "cell_type": "code",
   "execution_count": 10,
   "metadata": {},
   "outputs": [
    {
     "data": {
      "text/plain": [
       "True"
      ]
     },
     "execution_count": 10,
     "metadata": {},
     "output_type": "execute_result"
    }
   ],
   "source": [
    "(100 > 200) or (500 == 5*100) #100 mayor que 200 O 500 igual que 5*100  (una verdadera una falsa)"
   ]
  },
  {
   "cell_type": "code",
   "execution_count": 11,
   "metadata": {},
   "outputs": [
    {
     "data": {
      "text/plain": [
       "True"
      ]
     },
     "execution_count": 11,
     "metadata": {},
     "output_type": "execute_result"
    }
   ],
   "source": [
    "100 == 10*10 or 4<10 # 100 igual que 10*10 o 4 menor que 10 (ambas verdaderas)"
   ]
  },
  {
   "cell_type": "markdown",
   "metadata": {},
   "source": [
    "**[GP]** si bien los parentesis rodeando cada enunciado no son necesarios, es mejor tenerlos para organización del código y evitar futuras confusiones. \n",
    "\n",
    "La *compuerta lógica* OR tambien puede ser expresada con una línea vertical:"
   ]
  },
  {
   "cell_type": "code",
   "execution_count": 12,
   "metadata": {},
   "outputs": [
    {
     "data": {
      "text/plain": [
       "True"
      ]
     },
     "execution_count": 12,
     "metadata": {},
     "output_type": "execute_result"
    }
   ],
   "source": [
    "(100 > 200) | (500 == 5*100) #100 mayor que 200 O 500 igual que 5*100  (una verdadera una falsa)"
   ]
  },
  {
   "cell_type": "markdown",
   "metadata": {},
   "source": [
    "**IMPORTANTE** recordar que los valores booleanos pueden ser representados en notación binaria y viceversa con conversores de tipo."
   ]
  },
  {
   "cell_type": "code",
   "execution_count": 13,
   "metadata": {},
   "outputs": [
    {
     "data": {
      "text/plain": [
       "False"
      ]
     },
     "execution_count": 13,
     "metadata": {},
     "output_type": "execute_result"
    }
   ],
   "source": [
    "bool(0) #valor booleano de 0"
   ]
  },
  {
   "cell_type": "code",
   "execution_count": 14,
   "metadata": {},
   "outputs": [
    {
     "data": {
      "text/plain": [
       "True"
      ]
     },
     "execution_count": 14,
     "metadata": {},
     "output_type": "execute_result"
    }
   ],
   "source": [
    "bool(1) #valor booleano de 1"
   ]
  },
  {
   "cell_type": "code",
   "execution_count": 15,
   "metadata": {},
   "outputs": [
    {
     "data": {
      "text/plain": [
       "1"
      ]
     },
     "execution_count": 15,
     "metadata": {},
     "output_type": "execute_result"
    }
   ],
   "source": [
    "int(True) #valor entero de True"
   ]
  },
  {
   "cell_type": "code",
   "execution_count": 16,
   "metadata": {},
   "outputs": [
    {
     "data": {
      "text/plain": [
       "0"
      ]
     },
     "execution_count": 16,
     "metadata": {},
     "output_type": "execute_result"
    }
   ],
   "source": [
    "int(False) #valor entero de False"
   ]
  },
  {
   "cell_type": "markdown",
   "metadata": {},
   "source": [
    "#### AND lógico\n",
    "A diferencia de OR, AND se refiere al *condicional que es cierto si todos sus elementos son ciertos*, es decir que es cierto *si y solo si* todos los enunciados que le conforman son ciertos.\n",
    "\n",
    "Ejemplo: *\"Comer manzanas y peras me hace feliz\"*. Mi Felicidad hipotética es válidad si recibo manzanas Y peras. Es válida si las dos son ciertas."
   ]
  },
  {
   "cell_type": "code",
   "execution_count": 17,
   "metadata": {},
   "outputs": [
    {
     "data": {
      "text/plain": [
       "False"
      ]
     },
     "execution_count": 17,
     "metadata": {},
     "output_type": "execute_result"
    }
   ],
   "source": [
    "(100 > 200) or (50 > 100) #100 mayor que 200 Y 50 mayor que 100 (ambas son falsas)"
   ]
  },
  {
   "cell_type": "code",
   "execution_count": 18,
   "metadata": {},
   "outputs": [
    {
     "data": {
      "text/plain": [
       "False"
      ]
     },
     "execution_count": 18,
     "metadata": {},
     "output_type": "execute_result"
    }
   ],
   "source": [
    "(100 > 200) and (500 == 5*100) #100 mayor que 200 Y 500 igual que 5*100  (una verdadera una falsa)"
   ]
  },
  {
   "cell_type": "code",
   "execution_count": 19,
   "metadata": {},
   "outputs": [
    {
     "data": {
      "text/plain": [
       "True"
      ]
     },
     "execution_count": 19,
     "metadata": {},
     "output_type": "execute_result"
    }
   ],
   "source": [
    "100 == 10*10 and 4<10 # 100 igual que 10*10 Y 4 menor que 10 (ambas verdaderas)"
   ]
  },
  {
   "cell_type": "markdown",
   "metadata": {},
   "source": [
    "La compuerta lógica AND también puede ser expresada con un '&':"
   ]
  },
  {
   "cell_type": "code",
   "execution_count": 20,
   "metadata": {
    "scrolled": true
   },
   "outputs": [
    {
     "data": {
      "text/plain": [
       "True"
      ]
     },
     "execution_count": 20,
     "metadata": {},
     "output_type": "execute_result"
    }
   ],
   "source": [
    "(100 == 10*10) & (4<10)"
   ]
  },
  {
   "cell_type": "markdown",
   "metadata": {},
   "source": [
    "#### Comprobando más enunciados\n",
    "No solo enunciados de comparación entre cantidades se pueden comprobar, también está permitido hacer más afirmaciones que pueden ser verificadas como verdaderas  o no:"
   ]
  },
  {
   "cell_type": "code",
   "execution_count": 21,
   "metadata": {},
   "outputs": [],
   "source": [
    "lista_rock = [\"Iggy Pop\",\"Axel Rose\",\"Jim Morrison\",\"Jimmy Hendrix\"] #lista de prueba"
   ]
  },
  {
   "cell_type": "code",
   "execution_count": 22,
   "metadata": {},
   "outputs": [
    {
     "data": {
      "text/plain": [
       "True"
      ]
     },
     "execution_count": 22,
     "metadata": {},
     "output_type": "execute_result"
    }
   ],
   "source": [
    "\"Iggy Pop\" in lista_rock #Iggy está en la lista"
   ]
  },
  {
   "cell_type": "markdown",
   "metadata": {},
   "source": [
    "**¿Qué cree usted que le pregunté a Python?** En efecto! verifiqué que un elemento existiera dentro de la lista. Esta es una herramienta que más adelante nos será de utilidad. El comando **in** se refiere a la existencia de un elemento dentro de un *iterable*, que por el momento lo tomaremos en cuenta como un elemento con un numero **contable** de valores. Las listas, arreglos, diccionarios y los elemnto de tipo *map* son ejemplos de iterables."
   ]
  },
  {
   "cell_type": "code",
   "execution_count": 23,
   "metadata": {},
   "outputs": [
    {
     "data": {
      "text/plain": [
       "False"
      ]
     },
     "execution_count": 23,
     "metadata": {},
     "output_type": "execute_result"
    }
   ],
   "source": [
    "\"Kurt Cobain\" in lista_rock #Kurt no está en la lista"
   ]
  },
  {
   "cell_type": "code",
   "execution_count": 24,
   "metadata": {},
   "outputs": [],
   "source": [
    "dict_elementos = {\"Hidrogeno\":1, \"Helio\":2, \"Litio\":3, \"Berilio\":4, \"Boro\":5} #dicionario de elementos"
   ]
  },
  {
   "cell_type": "code",
   "execution_count": 25,
   "metadata": {},
   "outputs": [
    {
     "data": {
      "text/plain": [
       "True"
      ]
     },
     "execution_count": 25,
     "metadata": {},
     "output_type": "execute_result"
    }
   ],
   "source": [
    "\"Boro\" in dict_elementos #Boro es un elemento en el diccionario"
   ]
  },
  {
   "cell_type": "code",
   "execution_count": 26,
   "metadata": {},
   "outputs": [
    {
     "data": {
      "text/plain": [
       "False"
      ]
     },
     "execution_count": 26,
     "metadata": {},
     "output_type": "execute_result"
    }
   ],
   "source": [
    "2 in dict_elementos #a pesar de que 2 es un valor asociado a un elemento del diccionario\n",
    "#no es un elemento de diccionario en si mismo"
   ]
  },
  {
   "cell_type": "markdown",
   "metadata": {},
   "source": [
    "Otro enunciado a comprobar es afirmar el tipo de una variable:"
   ]
  },
  {
   "cell_type": "code",
   "execution_count": 27,
   "metadata": {},
   "outputs": [
    {
     "data": {
      "text/plain": [
       "True"
      ]
     },
     "execution_count": 27,
     "metadata": {},
     "output_type": "execute_result"
    }
   ],
   "source": [
    "type(5) is int #se introuce la afirmacion is"
   ]
  },
  {
   "cell_type": "code",
   "execution_count": 28,
   "metadata": {},
   "outputs": [
    {
     "data": {
      "text/plain": [
       "True"
      ]
     },
     "execution_count": 28,
     "metadata": {},
     "output_type": "execute_result"
    }
   ],
   "source": [
    "type(5)==int #que al parecer....es equivalente a =="
   ]
  },
  {
   "cell_type": "markdown",
   "metadata": {},
   "source": [
    "La afirmación **is** implica que dos elementos apuntan al mismo objeto en memoria. **==** implica que dos valores son iguales. Recordemos la notación de slices que vimos al introducir las listas:"
   ]
  },
  {
   "cell_type": "code",
   "execution_count": 29,
   "metadata": {},
   "outputs": [],
   "source": [
    "lista_A = [2,4,6,8] #se define la lista A\n",
    "lista_B = lista_A   #La lista B se define como la misma list A\n",
    "lista_C = lista_A[:] #la lista C se define como un slice de principio a fin de la lista A\n"
   ]
  },
  {
   "cell_type": "markdown",
   "metadata": {},
   "source": [
    "es decir que la lista C se define como una lista **diferente** (una copia) a la lista A, a pesar de tener los mismos valores:"
   ]
  },
  {
   "cell_type": "code",
   "execution_count": 30,
   "metadata": {},
   "outputs": [
    {
     "name": "stdout",
     "output_type": "stream",
     "text": [
      "[2, 4, 6, 8]\n",
      "[2, 4, 6, 8]\n",
      "[2, 4, 6, 8]\n"
     ]
    }
   ],
   "source": [
    "print(lista_A)\n",
    "print(lista_B)\n",
    "print(lista_C)"
   ]
  },
  {
   "cell_type": "code",
   "execution_count": 31,
   "metadata": {},
   "outputs": [
    {
     "data": {
      "text/plain": [
       "True"
      ]
     },
     "execution_count": 31,
     "metadata": {},
     "output_type": "execute_result"
    }
   ],
   "source": [
    "lista_A is lista_B"
   ]
  },
  {
   "cell_type": "code",
   "execution_count": 32,
   "metadata": {},
   "outputs": [
    {
     "data": {
      "text/plain": [
       "True"
      ]
     },
     "execution_count": 32,
     "metadata": {},
     "output_type": "execute_result"
    }
   ],
   "source": [
    "lista_A == lista_B"
   ]
  },
  {
   "cell_type": "markdown",
   "metadata": {},
   "source": [
    "En el caso de la lista B que se define como la misma lista A ambos enunciados son equivalentes. Ahora vemaos que pasa con la lista C:"
   ]
  },
  {
   "cell_type": "code",
   "execution_count": 33,
   "metadata": {},
   "outputs": [
    {
     "data": {
      "text/plain": [
       "False"
      ]
     },
     "execution_count": 33,
     "metadata": {},
     "output_type": "execute_result"
    }
   ],
   "source": [
    "lista_A is lista_C"
   ]
  },
  {
   "cell_type": "code",
   "execution_count": 34,
   "metadata": {},
   "outputs": [
    {
     "data": {
      "text/plain": [
       "True"
      ]
     },
     "execution_count": 34,
     "metadata": {},
     "output_type": "execute_result"
    }
   ],
   "source": [
    "lista_A == lista_C"
   ]
  },
  {
   "cell_type": "markdown",
   "metadata": {},
   "source": [
    "**RECORDAR** que al hacer slices se crean **copias parciales** de la lista que se *corta*. Esto implica que se crea un nuevo objeto en memoria incluso si se copia *toda* la lista como en este caso. Es importante tener en cuenta cuándo esto sucede puesto que muchas veces definir una variable como igual a otra hace que se refiera al mismo objeto en memoria , como las listas A y B. Esto a veces trae problemas: si se quiere modificar la lista B, es psoible que se modifique la lista A puesto que se trata del mismo objeto. mientras que al modificar la lista C solo modifica a esta ya que es un pbjeto diferente. "
   ]
  },
  {
   "cell_type": "markdown",
   "metadata": {},
   "source": [
    "#### NOT lógico\n",
    "Los enunciados lógicos también se pueden negar, y para ello esta el operador lógico **not**, cuya única función es negar el enunciado en cuestión."
   ]
  },
  {
   "cell_type": "code",
   "execution_count": 35,
   "metadata": {},
   "outputs": [
    {
     "data": {
      "text/plain": [
       "False"
      ]
     },
     "execution_count": 35,
     "metadata": {},
     "output_type": "execute_result"
    }
   ],
   "source": [
    "not True"
   ]
  },
  {
   "cell_type": "code",
   "execution_count": 36,
   "metadata": {},
   "outputs": [
    {
     "data": {
      "text/plain": [
       "False"
      ]
     },
     "execution_count": 36,
     "metadata": {},
     "output_type": "execute_result"
    }
   ],
   "source": [
    "a = 5\n",
    "b = 10\n",
    "\n",
    "a > b  # a es mayor a b, es decir 5 > 10 (Falso)"
   ]
  },
  {
   "cell_type": "code",
   "execution_count": 37,
   "metadata": {},
   "outputs": [
    {
     "data": {
      "text/plain": [
       "True"
      ]
     },
     "execution_count": 37,
     "metadata": {},
     "output_type": "execute_result"
    }
   ],
   "source": [
    "not a > b   # negar 5 > 10"
   ]
  },
  {
   "cell_type": "markdown",
   "metadata": {},
   "source": [
    "### Condicionales\n",
    "\n",
    "Como su nombre lo indica los **condicionales** verifican el cumplimiento de una condición para desarrollar una parte específica del proceso. En el caso de la programación,  se verifica la validez *(True or False)* para un enunciado, y de cumplirse se procede con un proceso subordinado."
   ]
  },
  {
   "cell_type": "markdown",
   "metadata": {},
   "source": [
    "#### sentencia IF   o    IF statement\n",
    "Este tipo de condicional **segrega** un bloque de cigo como proceso subordinado y lo ejecuta **si y solo si** la condicion establecida se cumple. \n",
    "\n",
    "Ejemplo cotidiano: *\"Si me demoro en salir de casa, voy a perder el bus\"*. El evento de *perder el bus* depende unicamente del condicional *demorarse en salir de casa*. Si perdí el bus es porque me demoré en salir,y así mismo, si me demoré en salir entonces voy perder el bus.\n",
    "\n",
    "Para usar el condicional *\"if\"* se escribe la palabra if, seguida de la condicion a cumplirse. El código subordinado se escribe a partir de la linea siguiente y todo el bloque **con indentación** puesto que es precisamentre subordinado:"
   ]
  },
  {
   "cell_type": "code",
   "execution_count": 38,
   "metadata": {},
   "outputs": [
    {
     "name": "stdout",
     "output_type": "stream",
     "text": [
      "4 es menor a 5\n"
     ]
    }
   ],
   "source": [
    "#se escribe la condicion, se finaliza con DOS PUNTOS para cerrar la sentencia IF\n",
    "if(4 < 5):  #  4 es menor a 5\n",
    "    print(\"4 es menor a 5\") # si la condicion se cumple , se imprime el mensaje"
   ]
  },
  {
   "cell_type": "code",
   "execution_count": 39,
   "metadata": {},
   "outputs": [],
   "source": [
    "#se escribe la condicion, se finaliza con DOS PUNTOS para cerrar la sentencia IF\n",
    "# se puede omitir el parentesis\n",
    "if 4 > 5:  #  4 es mayor a 5\n",
    "    print(\"4 es mayor a 5\") # si la condicion se cumple , se imprime el mensaje"
   ]
  },
  {
   "cell_type": "markdown",
   "metadata": {},
   "source": [
    "Como se puede observar, el código subordinado (en este caso se trata del print) se ejecuta unicamente si se cumple la condición.\n",
    "\n",
    "**[GP]** Es mejor usar los parentesis en la declaración de la sentencia para conservar el orden. como veremos en breve, las afirmaciones condicionales pueden se compuestas y conservar el orden de operaciones en estos caso es más complejo sin usar parentesis. Estos permiten delimitar cada enunciado por aparte y facilitar la interpretación.\n",
    "\n",
    "**IMPORTANTE** NO olvidar los dos puntos al final de la sentencia e indentar las lineas de códio subordinado. Tambien es prudente notar que escribir en python es casi como escribir ordenes en inglés. La interpretabilidad del código en Python es un regalo del Dios de cada religión.\n",
    "\n",
    "Tambien puede existir el caso de *\"nested if's\"*:"
   ]
  },
  {
   "cell_type": "code",
   "execution_count": 40,
   "metadata": {},
   "outputs": [
    {
     "name": "stdout",
     "output_type": "stream",
     "text": [
      "estan 2 y 4\n"
     ]
    }
   ],
   "source": [
    "lista_prueba = [2,4,6,8,0]\n",
    "\n",
    "if(2 in lista_prueba):\n",
    "    #los siguientes 2 if estan subordinados al if de la linea anterior (note la indentacion hacia la derecha)\n",
    "    if(4 in lista_prueba):\n",
    "        print(\"estan 2 y 4\") #esta linea esta subordinada al if de 4, que a su vez esta subordinado al if de 2\n",
    "    if(3 in lista_prueba):\n",
    "        #este if NO esta subordinado al if de 4, pero si al de 2. el de 4 y 3 estan al mismo nivel\n",
    "        print(\"estan 2 y 3\")"
   ]
  },
  {
   "cell_type": "markdown",
   "metadata": {},
   "source": [
    "Para que el código subordinado del IF se ejecute, basta con que su condición sea cierta, incluso si esta es compuesta:"
   ]
  },
  {
   "cell_type": "code",
   "execution_count": 41,
   "metadata": {},
   "outputs": [
    {
     "name": "stdout",
     "output_type": "stream",
     "text": [
      "ambas se cumplen!\n"
     ]
    }
   ],
   "source": [
    "if ( 100 == 10*10 and 6 in lista_prueba): # 100 = 10*10 y 6 en lista_prueba\n",
    "    print(\"ambas se cumplen!\")"
   ]
  },
  {
   "cell_type": "code",
   "execution_count": 42,
   "metadata": {},
   "outputs": [
    {
     "name": "stdout",
     "output_type": "stream",
     "text": [
      "alguna se cumle!\n"
     ]
    }
   ],
   "source": [
    "if(4<2 or 0 in lista_prueba): #4 menor a 2 o 0 en lista_prueba\n",
    "    print(\"alguna se cumle!\")"
   ]
  },
  {
   "cell_type": "markdown",
   "metadata": {},
   "source": [
    "Veamos un enuncaido compuesto más complejo:"
   ]
  },
  {
   "cell_type": "code",
   "execution_count": 43,
   "metadata": {},
   "outputs": [
    {
     "name": "stdout",
     "output_type": "stream",
     "text": [
      "...algo se cumple\n"
     ]
    }
   ],
   "source": [
    "if ( ( 4 > 2 ) and ((6 in lista_prueba) or (5 in lista_prueba)) ) :\n",
    "    print(\"...algo se cumple\")"
   ]
  },
  {
   "cell_type": "markdown",
   "metadata": {},
   "source": [
    "#### Y si hay mas casos . . .\n",
    "¿Qué pasa cuando se quieren evaluar dos o más casos? ¿o que pasa cuando se quiere hacer algo al respecto en caso de no cumplirse la condición? Bueno, para eso se tiene el **else**. Este elemento se usa cuando también se quiere hacer una operación o tarea cuando la condición lógica del *if* no se cumple:"
   ]
  },
  {
   "cell_type": "code",
   "execution_count": 44,
   "metadata": {},
   "outputs": [],
   "source": [
    "def funcion_A (n):\n",
    "    if (n < 10):\n",
    "        print(\"menor a 10\")\n",
    "    else:\n",
    "        print(\"mayor a 10 \")\n",
    "    "
   ]
  },
  {
   "cell_type": "code",
   "execution_count": 45,
   "metadata": {},
   "outputs": [
    {
     "name": "stdout",
     "output_type": "stream",
     "text": [
      "menor a 10\n"
     ]
    }
   ],
   "source": [
    "funcion_A(8) # se cumple la condicion del if, entonces se ejecuta el codigo subordinado"
   ]
  },
  {
   "cell_type": "code",
   "execution_count": 46,
   "metadata": {},
   "outputs": [
    {
     "name": "stdout",
     "output_type": "stream",
     "text": [
      "mayor a 10 \n"
     ]
    }
   ],
   "source": [
    "funcion_A(19) # NO se cumple la condición del if, entonces se cumple el codigo subordinado de else."
   ]
  },
  {
   "cell_type": "markdown",
   "metadata": {},
   "source": [
    "La función en cuestión tiene un gran problema que tal vez usted ya ha notado, y es el siguiente:"
   ]
  },
  {
   "cell_type": "code",
   "execution_count": 47,
   "metadata": {},
   "outputs": [
    {
     "name": "stdout",
     "output_type": "stream",
     "text": [
      "mayor a 10 \n"
     ]
    }
   ],
   "source": [
    "funcion_A(10)"
   ]
  },
  {
   "cell_type": "markdown",
   "metadata": {},
   "source": [
    "Cuando se le proporciona como parámetro el 10, lo clasifica como mayor a 10 puesto que la condición para ser clasificado como \"menor a 10\" es sólo que sea menor. Cualquier otro caso (mayor o igual) es clasificado como \"mayor a 10\". Entonces se tienen dos posibilidades: la primera es hacer un *nested if* :"
   ]
  },
  {
   "cell_type": "code",
   "execution_count": 48,
   "metadata": {},
   "outputs": [],
   "source": [
    "def funcion_A (n):\n",
    "    if (n < 10):\n",
    "        print(\"menor a 10\")\n",
    "    else:\n",
    "        if(n == 10):\n",
    "            print(\"es 10\")\n",
    "        else:\n",
    "            print(\"mayor a 10 \")\n",
    "    "
   ]
  },
  {
   "cell_type": "code",
   "execution_count": 49,
   "metadata": {},
   "outputs": [
    {
     "name": "stdout",
     "output_type": "stream",
     "text": [
      "menor a 10\n",
      "es 10\n",
      "mayor a 10 \n"
     ]
    }
   ],
   "source": [
    "funcion_A(8)\n",
    "funcion_A(10)\n",
    "funcion_A(12)"
   ]
  },
  {
   "cell_type": "markdown",
   "metadata": {},
   "source": [
    "El *nested if* parce funcionar de maravilla, pero es desordenado para ser una tarea simple. La segunda opción es contraer el *nesting* causado por el *if* subordinado al *else* en lo que se llama un condicional *else if*  o, usando la contracción de python para este enunciado, el condicional **elif**: "
   ]
  },
  {
   "cell_type": "code",
   "execution_count": 50,
   "metadata": {},
   "outputs": [],
   "source": [
    "def funcion_A (n):\n",
    "    if (n < 10): # si n es menor a 10 entonces ... \n",
    "        print(\"menor a 10\")\n",
    "    elif (n==10): # si no se cumple, entonces miremos si es igual a 10 . . . \n",
    "        print(\"es 10\")\n",
    "    else: # y si no se cumple ninguna, pues . , ,\n",
    "        print(\"mayor a 10\")"
   ]
  },
  {
   "cell_type": "code",
   "execution_count": 51,
   "metadata": {},
   "outputs": [
    {
     "name": "stdout",
     "output_type": "stream",
     "text": [
      "menor a 10\n",
      "es 10\n",
      "mayor a 10\n"
     ]
    }
   ],
   "source": [
    "funcion_A(8)\n",
    "funcion_A(10)\n",
    "funcion_A(12)"
   ]
  },
  {
   "cell_type": "markdown",
   "metadata": {},
   "source": [
    "**IMPORTANTE** tener en cuenta que no se pueden tener *elif* o *else* en el código si que se haya declarado antes un if, ya que estos condicionales son auxiliares al *if* en caso de que este no se cumpla.\n",
    "\n",
    "Se peuden tener tantos *elif* dependientes en cascada como se desee. "
   ]
  },
  {
   "cell_type": "code",
   "execution_count": 52,
   "metadata": {},
   "outputs": [],
   "source": [
    "def funcion_A (n):\n",
    "    if (n < 10): # si n es menor a 10 entonces ... \n",
    "        print(\"menor a 10\")\n",
    "    elif (n==10): # si no se cumple, entonces miremos si es igual a 10 . . . \n",
    "        print(\"es 10\")\n",
    "    elif(n==12): # si no se han cumplido las anteriores, miremos si es igual a 12...\n",
    "        print(\"es 12\")\n",
    "    elif(n==19): # si no se han cumplido las anteriores, miremos si es igual a 19...\n",
    "        print(\"es 19\")\n",
    "    else: # y si no se cumple ninguna, pues . , ,\n",
    "        print(\"mayor a 10\")"
   ]
  },
  {
   "cell_type": "code",
   "execution_count": 53,
   "metadata": {},
   "outputs": [
    {
     "name": "stdout",
     "output_type": "stream",
     "text": [
      "menor a 10\n",
      "es 10\n",
      "es 12\n",
      "es 19\n",
      "mayor a 10\n"
     ]
    }
   ],
   "source": [
    "funcion_A(8)\n",
    "funcion_A(10)\n",
    "funcion_A(12)\n",
    "funcion_A(19)\n",
    "funcion_A(22)\n"
   ]
  },
  {
   "cell_type": "markdown",
   "metadata": {},
   "source": [
    "Otro aspecto importante es siempre saber si lo que se quiere es un *elif* o simplemente otro *if*. La diferencia radica en la exclusividad. Cuando se usa *if-elif* se tiene en cuenta que la condición del *elif* se va a evaluar **solamente** cuando las condiciones anteriores han fallado. Si se usa otro *if* este se evaluará independiente de si *if* anteriores han fallado  o no. Por ejemplo :"
   ]
  },
  {
   "cell_type": "code",
   "execution_count": 54,
   "metadata": {},
   "outputs": [],
   "source": [
    "def funcion_A(n):\n",
    "    if(n < 10):  #si n es menor a 10\n",
    "        print(\"menor a 10\")\n",
    "    elif(2*n < 30): #si no es asi, mirar si el doble de n es menor a 30\n",
    "        print(\"doble menor a 30\")\n",
    "    else: #si no se cumple nada, enonces ...\n",
    "        print(\"numero grande\")\n",
    "        \n",
    "def funcion_B(n):\n",
    "    if(n < 10):  #si n es menor a 10\n",
    "        print(\"menor a 10\")\n",
    "    if(2*n < 30): #si el doble de n es menor a 30\n",
    "        print(\"doble menor a 30\")\n",
    "    else: #si no se cumple, enonces ...\n",
    "        print(\"numero grande\")\n",
    "        \n",
    "    "
   ]
  },
  {
   "cell_type": "code",
   "execution_count": 55,
   "metadata": {},
   "outputs": [
    {
     "name": "stdout",
     "output_type": "stream",
     "text": [
      "menor a 10\n",
      "doble menor a 30\n",
      "numero grande\n"
     ]
    }
   ],
   "source": [
    "funcion_A(8)\n",
    "funcion_A(12)\n",
    "funcion_A(18)"
   ]
  },
  {
   "cell_type": "code",
   "execution_count": 56,
   "metadata": {},
   "outputs": [
    {
     "name": "stdout",
     "output_type": "stream",
     "text": [
      "menor a 10\n",
      "doble menor a 30\n",
      "doble menor a 30\n",
      "numero grande\n"
     ]
    }
   ],
   "source": [
    "funcion_B(8) # este caso va a pasar por los dos if (n<10 y 2*n<30)\n",
    "funcion_B(12)\n",
    "funcion_B(18)"
   ]
  },
  {
   "cell_type": "markdown",
   "metadata": {},
   "source": [
    "Como se ve, si hay diferencia en usar uno u otro. Esto es importante recalcarlo ya que muchos errores de programador aprendiz vienen por no saber el nivel de **exclusividad** entre condicionales y el nivel de segregación  que se quiere para cada caso a tener en cuenta.\n",
    "\n",
    "**IMPORTANTE** recordar que las condiciones del *elif* NO tiene que estar necesariamente definidas sobre la misma variable que el *if* al que responden."
   ]
  },
  {
   "cell_type": "markdown",
   "metadata": {},
   "source": [
    "#### Función Factorial\n",
    "\n",
    "La función factorial de un numero entero corresponde a la multiplicación de todos los enteros menores o iguales a dicho numero y mayores a cero. Se denota con un signo de exclamación al lado del numero entero en cuestión. Es decir,\n",
    "\n",
    "$5! = 5 \\cdot 4 \\cdot 3 \\cdot 2 \\cdot 1  = 120$ \n",
    "\n",
    "También, \n",
    "\n",
    "$0! = 1$\n",
    "\n",
    "En este orden de ideas, una forma de mostrar la función general es:\n",
    "\n",
    " $n! = \\prod_{n}^{i = 1} i$\n",
    "\n",
    "Si se detiene a mirar bien la función factorial, en particular el caso de $5!$, es facil notar que:\n",
    "\n",
    "$5! = 5 \\cdot 4! = 5 \\cdot 4 \\cdot 3! =$. . .\n",
    "\n",
    "O, dicho de una manera más formal:\n",
    "\n",
    "$n! = n \\cdot (n-1)!$\n",
    "\n",
    "A este tipo de funciones que se pueden definir respecto a si mismas se les llama **funciones recursivas** y en programación suponen una herramienta demasiado poderosa: **La recursividad**. \n",
    "\n",
    "Continuando con el ejemplo de la función factorial y ya habiendo mencionado en la sección anterior la posibilidad de llamar una función dentro de la función misma, veamos cono esto se puede complementar con la lógica para hacer una función **recursiva** útil. "
   ]
  },
  {
   "cell_type": "code",
   "execution_count": 57,
   "metadata": {},
   "outputs": [],
   "source": [
    "def factorial(n):\n",
    "    if( n == 0):\n",
    "        return 1  #el factorial de 0 es 1\n",
    "    else:\n",
    "        return n * factorial(n-1) # si n es diferente de 0, retorne n por el factorial de (n-1)"
   ]
  },
  {
   "cell_type": "markdown",
   "metadata": {},
   "source": [
    "Ahora, probemos la función:"
   ]
  },
  {
   "cell_type": "code",
   "execution_count": 58,
   "metadata": {},
   "outputs": [
    {
     "name": "stdout",
     "output_type": "stream",
     "text": [
      "1\n",
      "24\n",
      "120\n"
     ]
    }
   ],
   "source": [
    "print(factorial(0)) # 0! = 1\n",
    "print(factorial(4)) # 4! = 24\n",
    "print(factorial(5)) # 0! = 120\n"
   ]
  },
  {
   "cell_type": "markdown",
   "metadata": {},
   "source": [
    "### LOOPS\n",
    "\n",
    "Finalmente es hora de aprender lo que, a mi parecer, es la herramienta más poderosa de python : **Los Loops**.\n",
    "Esta herramienta ofrece la posibilidad de *iterar* sobre diferentes valores de forma ordenada. ¿Qué quiero decir con 'iterar'? Bueno, se trata de cumplir una funcion varias veces. Una y otra y otra vez.\n",
    "Al igual que cuando se tratra de lógica, las lineas de código escritas cuando se trata de loops son bastante parecidas a oraciones coherentes en inglés. Esto facilita mucho la tarea de programar al momento de querer formular  sentencias con loops.\n",
    "Pero, si un loop trata de hace una tarea de forma repetitiva ¿Cuándo se debe detener la iteración? ¿En qué momento se debe parar? Esto depende de **condiciones lógicas** que se definen en la declaración del loop y que **se deben** respetar para seguir iterando. De esto se hablará a profundidad en las siguientes definiciones.\n",
    "\n",
    "\n",
    "#### While Loop\n",
    "Como su homonimo en inglés, **while** corresponde a un loop que se seguirá ejecutando **mientras** una condición se cumpla. Como ya se mencionó, estas condiciones son sentencias lógicas que deben ser verdaderas o *True* para que se pueda seguir ejecutando la tarea. Veamos un ejemplo básico:"
   ]
  },
  {
   "cell_type": "code",
   "execution_count": 59,
   "metadata": {},
   "outputs": [
    {
     "name": "stdout",
     "output_type": "stream",
     "text": [
      "0\n",
      "1\n",
      "2\n",
      "3\n",
      "4\n",
      "5\n",
      "6\n",
      "7\n",
      "8\n",
      "9\n"
     ]
    }
   ],
   "source": [
    "i =  0   #Variable i\n",
    "\n",
    "while i<10 : #mientras i siga siendo menor a 10\n",
    "    print(i)  #imprimir i en cada iteracion\n",
    "    i = i+1  #y sumarle 1 a i en cada iteracion\n",
    "    "
   ]
  },
  {
   "cell_type": "markdown",
   "metadata": {},
   "source": [
    "Como vemos, la sentencia *while* se detuvo en el momento en que *i* pasa a ser igual a 10. En ese momento, i ya no cumple la sentencia lógica *i < 10* y el loop se detiene.\n",
    "Es importante tener en cuenta que el condicional del loop puede usar **cualquier** tipo de sentencia lógica. Un ejemplo un poco más bizarro:\n",
    "\n",
    "```python\n",
    "while True:\n",
    "    print(10)\n",
    "```\n",
    "Analice bien lo que estoy tratando de plantearle. La sentencia lógica en este caso se trata de **True** que evidentemente siempre es cierta. Esto implica un loop infinito que haría que se imprimiera en consola el numero 10 por tiempo idefinido. Si quiere intentarlo en su computadora es bajo su propio riesgo.\n",
    "\n",
    "\n",
    "**Recuerde** que se pueden *matar* procesos desde consola con el comando **Ctrl + C** (Linux)\n",
    "\n",
    "Otros ejemplos de loop *while* son:"
   ]
  },
  {
   "cell_type": "code",
   "execution_count": 60,
   "metadata": {},
   "outputs": [
    {
     "name": "stdout",
     "output_type": "stream",
     "text": [
      "El doble de  0 esta en la lista.\n",
      "El doble de  1 esta en la lista.\n",
      "El doble de  2 esta en la lista.\n",
      "El doble de  3 esta en la lista.\n",
      "El doble de  4 esta en la lista.\n",
      "El doble de  5 esta en la lista.\n"
     ]
    }
   ],
   "source": [
    "lista_prueba = [0,2,4,6,8,10]\n",
    "i = 0\n",
    "#en cada iteracion se aumenta i en uno y se verifica si su doble esta en la lista\n",
    "while (2*i in lista_prueba):\n",
    "    print(\"El doble de \", i , \"esta en la lista.\")\n",
    "    i = i+1"
   ]
  },
  {
   "cell_type": "code",
   "execution_count": 61,
   "metadata": {
    "scrolled": true
   },
   "outputs": [
    {
     "name": "stdout",
     "output_type": "stream",
     "text": [
      "El eclipse lunar\n",
      "l eclipse lunar\n",
      " eclipse lunar\n",
      "eclipse lunar\n",
      "clipse lunar\n",
      "lipse lunar\n",
      "ipse lunar\n",
      "pse lunar\n",
      "se lunar\n",
      "e lunar\n",
      " lunar\n",
      "lunar\n",
      "unar\n",
      "nar\n",
      "ar\n",
      "r\n"
     ]
    }
   ],
   "source": [
    "i = 0\n",
    "string_prueba = \"El eclipse lunar\" \n",
    "\n",
    "while ( i < len(string_prueba) ):\n",
    "    print(string_prueba[i:])\n",
    "    i=i+1"
   ]
  },
  {
   "cell_type": "markdown",
   "metadata": {},
   "source": [
    "**[GP]** También es conveniente usar parántesis en la condición del loop. De nuevo, se trata de evitar confusiones y mantener un poco el orden dentro del código."
   ]
  },
  {
   "cell_type": "markdown",
   "metadata": {},
   "source": [
    "#### For Loop\n",
    "el loop **for** es un poco más complejo que el loop while puesto que ya tiene su condición para parar incluida en el enunciado. Por lo general se usa para recorrer **iterables** o contenedores de forma ordenada o con cierta lógica. El primer ejemplo útil es poder iterar sobre cantidades numéricas, para ello usaremos el *iterable* **range**:"
   ]
  },
  {
   "cell_type": "code",
   "execution_count": 62,
   "metadata": {},
   "outputs": [
    {
     "name": "stdout",
     "output_type": "stream",
     "text": [
      "10\n",
      "11\n",
      "12\n",
      "13\n",
      "14\n"
     ]
    }
   ],
   "source": [
    "for i in range(10,15):\n",
    "    print(i)"
   ]
  },
  {
   "cell_type": "markdown",
   "metadata": {},
   "source": [
    "**range** define un espacio de numeros enteros entre el primer argumento (incluyendolo) y el segundo argumento (sin incluirlo). Si el no se asigna el primer valor, se asume como 0:"
   ]
  },
  {
   "cell_type": "code",
   "execution_count": 63,
   "metadata": {},
   "outputs": [
    {
     "name": "stdout",
     "output_type": "stream",
     "text": [
      "0\n",
      "1\n",
      "2\n",
      "3\n",
      "4\n",
      "5\n",
      "6\n",
      "7\n",
      "8\n",
      "9\n"
     ]
    }
   ],
   "source": [
    "for i in range(10):\n",
    "    print(i)"
   ]
  },
  {
   "cell_type": "markdown",
   "metadata": {},
   "source": [
    "**IMPORTANTE** recordar que el iterable *range* es de la clase *range* y por ende no es un objeto tan facil de manipular, a menos que se transforma lista o se use con iteradores como *while* o *for*:"
   ]
  },
  {
   "cell_type": "code",
   "execution_count": 64,
   "metadata": {},
   "outputs": [
    {
     "name": "stdout",
     "output_type": "stream",
     "text": [
      "range(0, 10)\n"
     ]
    }
   ],
   "source": [
    "print(range(10))"
   ]
  },
  {
   "cell_type": "code",
   "execution_count": 65,
   "metadata": {},
   "outputs": [
    {
     "name": "stdout",
     "output_type": "stream",
     "text": [
      "[0, 1, 2, 3, 4, 5, 6, 7, 8, 9]\n"
     ]
    }
   ],
   "source": [
    "print( list(range(10)) )"
   ]
  },
  {
   "cell_type": "markdown",
   "metadata": {},
   "source": [
    "**for** sirve para iterar sobre contenedores o arreglos:"
   ]
  },
  {
   "cell_type": "code",
   "execution_count": 66,
   "metadata": {},
   "outputs": [
    {
     "name": "stdout",
     "output_type": "stream",
     "text": [
      "a\n",
      "b\n",
      "c\n",
      "d\n",
      "e\n"
     ]
    }
   ],
   "source": [
    "lista_prueba = [\"a\",\"b\",\"c\",\"d\",\"e\"]\n",
    "\n",
    "for letra in lista_prueba: #para cada elemento de la lista, se hace ...\n",
    "    print(letra)"
   ]
  },
  {
   "cell_type": "code",
   "execution_count": 67,
   "metadata": {
    "scrolled": true
   },
   "outputs": [
    {
     "name": "stdout",
     "output_type": "stream",
     "text": [
      "2.0\n",
      "2.142857142857143\n",
      "2.2857142857142856\n",
      "2.4285714285714284\n",
      "2.571428571428571\n",
      "2.7142857142857144\n",
      "2.857142857142857\n",
      "3.0\n",
      "3.142857142857143\n",
      "3.2857142857142856\n",
      "3.4285714285714284\n",
      "3.571428571428571\n",
      "3.7142857142857144\n",
      "3.8571428571428568\n",
      "4.0\n"
     ]
    }
   ],
   "source": [
    "import numpy as np\n",
    "espacio_lineal = np.linspace(1,2,15) #espacio lineal de 15 valores distribuidos de 1 a 2\n",
    "for num in espacio_lineal:\n",
    "    print(2*num)"
   ]
  },
  {
   "cell_type": "markdown",
   "metadata": {},
   "source": [
    "El *for* se puede usar para generar valores basandose en una regla matemática arbitraria, lo cual supone una herramienta enorme a la hora de tratar problemas numericos complejos. También puede ser usada para recorrer arreglos basandose en su indice."
   ]
  },
  {
   "cell_type": "code",
   "execution_count": 68,
   "metadata": {},
   "outputs": [
    {
     "name": "stdout",
     "output_type": "stream",
     "text": [
      "[1, 4, 7, 10, 13, 16, 19, 22, 25, 28, 31, 34, 37, 40, 43, 46, 49, 52, 55, 58, 61, 64, 67, 70, 73, 76, 79, 82, 85, 88, 91, 94, 97, 100, 103, 106, 109, 112, 115, 118, 121, 124, 127, 130, 133, 136, 139, 142, 145, 148]\n"
     ]
    }
   ],
   "source": [
    "lista_prueba = []\n",
    "\n",
    "for  i in range(50): #recorre el loop desde 0 (incluyendole) hasta 50 (sin incluirle)\n",
    "    lista_prueba.append( 3*(i+1)-2) # se le agrega el valor de 3*(i-1) - 2 a la lista para cada i entre 0 y 49\n",
    "\n",
    "print(lista_prueba)\n",
    "    "
   ]
  },
  {
   "cell_type": "markdown",
   "metadata": {},
   "source": [
    "Los *Loops* también se pueden **anidar** dentro de otros loops, creando *nested loops*. Estos tienen diversos usos, pero los más comunes tienen que ver con **recorrer arreglos, matrices y demás estructuras de datos**:"
   ]
  },
  {
   "cell_type": "code",
   "execution_count": 69,
   "metadata": {},
   "outputs": [
    {
     "name": "stdout",
     "output_type": "stream",
     "text": [
      "ANTES = \n",
      "[[0. 0. 0. 0. 0.]\n",
      " [0. 0. 0. 0. 0.]\n",
      " [0. 0. 0. 0. 0.]\n",
      " [0. 0. 0. 0. 0.]\n",
      " [0. 0. 0. 0. 0.]]\n",
      "DESPUES = \n",
      "[[0. 1. 2. 3. 4.]\n",
      " [1. 2. 3. 4. 5.]\n",
      " [2. 3. 4. 5. 6.]\n",
      " [3. 4. 5. 6. 7.]\n",
      " [4. 5. 6. 7. 8.]]\n"
     ]
    }
   ],
   "source": [
    "MAT = np.zeros([5,5]) #matriz de ceros de 5 x 5\n",
    "print (\"ANTES = \")\n",
    "print(MAT)\n",
    "for i in range(5): \n",
    "    for j in range(5): # el loop sobre j se cumple de 0 a 5 para cada iteracion del loop sobre i\n",
    "        MAT[i,j] = i+j  #para cada coordenada i,j de la matriz, se asigna el valor i+j\n",
    "        \n",
    "print(\"DESPUES = \")\n",
    "print(MAT)"
   ]
  },
  {
   "cell_type": "markdown",
   "metadata": {},
   "source": [
    "## RESUMEN\n",
    "\n",
    "* Existen formas de *crear, negar, operar y verificar* **enunciados lógicos** en python. Estos enunciados son clave para el desarrollo de un programa y su uso es **ilimitado**.\n",
    "\n",
    "\n",
    "* **La recursividad, la logica y los Loops** se puede combinar para cumplir funciones más complejas. Con el tiempo ver la *lógica oculta* de programas más sofisticados se hace más facil de ver cuando se conocen los ladrillos con los que estan construidos.\n",
    "\n",
    "\n",
    "* Los Loops permiten hacer una tarea *repetidas veces* **siempre y cuando se este cumpliendo una condición**. Estos facilitan mucho realizar cálculos sobre listas largas o la generación de nuevos valores basandose en una regla de operación.\n",
    "\n",
    "\n",
    "* **Los Loops y operaciones lógicas tienen mucho potencial** para crear funciones más potentes que las que se han visto hasta el momento, todo depende de la audacia del programador."
   ]
  },
  {
   "cell_type": "markdown",
   "metadata": {},
   "source": [
    "## EJERCICIOS\n",
    "\n",
    "La base de todo aprendizaje es implementar lo aprendido. Para aplicar lo aprendido en esta clase puede realizar los ejercicios correspondientes a la clase 2 de la [hoja de ejercicios](https://github.com/PaipaPsyche/LearningPython/blob/master/Chapter_1/Ejercicios/Ejercicios_C1.ipynb). "
   ]
  }
 ],
 "metadata": {
  "kernelspec": {
   "display_name": "Python 3",
   "language": "python",
   "name": "python3"
  },
  "language_info": {
   "codemirror_mode": {
    "name": "ipython",
    "version": 3
   },
   "file_extension": ".py",
   "mimetype": "text/x-python",
   "name": "python",
   "nbconvert_exporter": "python",
   "pygments_lexer": "ipython3",
   "version": "3.6.5"
  }
 },
 "nbformat": 4,
 "nbformat_minor": 2
}
