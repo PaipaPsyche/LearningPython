{
 "cells": [
  {
   "cell_type": "markdown",
   "metadata": {},
   "source": [
    "# INTRODUCCION A PYTHON\n",
    "\n",
    "Python es un leguaje de programacion creado por **Guido van Rossum** en el *Centrum Wiskunde & Informatica* a finales de los 80's. La gran premisa de python como *novedoso* es la de crear un lenguaje que permita un codigo **legible e intuitivo** para programadores inexpertos y el publico general.\n",
    "\n",
    "## LA PROGRAMACION\n",
    "Se define la programacion de computadores como :\n",
    "\n",
    "> \"el proceso de desarrollo e implementacion de un grupo consciso de instrucciones que se le proporcionan a un computador con el fin de lograr una tarea. Las tareas pueden ir desde calculos simples y automatiacion de procesos hasta creacion de imágenes y analisis elaborados de bases de datos\". [[Ref.]](http://www.businessdictionary.com/definition/computer-programming.html)\n",
    "\n",
    "Con el fin de proporcionarle la informacion necesaria al computador para que pueda completar la tarea, es necesario hacerlo de forma que el computador pueda interpretarla a niveles muy basicos de la computacion (Especificacion de bits a usar para almacenar datos, referenciar la posicion en memoria de otro objeto, definir _ticks_ del procesador para determinados procesos, etc). Es facil intuir que siendo un programador, experto o novato, es dificil proporcionarle la informacion de esta forma a la maquina.\n",
    "Es por eso que se necesitan interpretes que sean mas manejables para la intuicion humana y que pueda traducir las ordenes al lenguaje que habla la maquina. Estos interpretes son los  **Lenguajes de Programamcion** .\n",
    "\n",
    "## LENGUAJES DE PROGRAMACION Y VENTAJAS COMPARATIVAS \n",
    "Supongamos que se le proporciona un computador *en blanco*, es decir con ningun programa, y que desea imprimir en la pantalla las familiares palabras : \n",
    "\n",
    "> Hola mundo!\n",
    "\n",
    "No es intuitivo. A pesar de ser una funcion simple para las maquinas con la capacidad de procesamiento contemporanea, No es simple determinar como hacer que la maquina complete la tarea. Es por eso que se necesita una forma de proporcionar instrucciones al computador de forma que agrupe funciones de mas **bajo nivel** con el objetivo de simplificar su implementacion conjunta. \n",
    "\n",
    "\n",
    "### Alto y Bajo nivel\n",
    "\n",
    "Cuando se habla de instrucciones de Alto y bajo nivel se hace referencia al nivel de agregacion de estas instrucciones basicas dentro de funciones mas complejas. Por ejemplo, supongamos que quiero hacer la funcion de exponencial usada en matematicas. Esto implica que si recibo como **parametros de entrada** cualesquiera numeros *(a , b)*, espero de vuelta el valor $a^b$ .\n",
    "\n",
    "Esta tarea tiene un nivel de complejidad moderado, puesto que para eponenciar hay que enseñarle al computador a multiplicar, y para esto primero debe poder sumar. La suma de numeros en computacion se procesa en *Base binaria* y se usan algoritmos muy especificos que manejan la informacion bit por bit. \n",
    "\n",
    "Volviendo al problema del exponencial, definir una funcion de alto y bajo nivel depende del nivel de abstraccion del metodo en si mismo. en este caso, se esperaria en cada caso soluciones de la forma:\n",
    "\n",
    "#### Alto nivel\n",
    "Una funcion de alto nivel en este caso seria una funcion simple que se llama y retorna el valor esperado, por ejemplo:\n",
    "\n",
    "```javascript\n",
    "answer = pow(a,b)\n",
    "```\n",
    "\n",
    "\n",
    "\n",
    "#### Bajo nivel\n",
    "En este caso habria una coleccion mas grande de instrucciones que posiblemente esten dirigidas al disco duro y procesador. Señalar donde comienza y termina el espacio en memoria referente a cada numero y se disponen de muchas mas ordenes que son mas simples.\n",
    "\n",
    "```\n",
    "MOVE TO bitsize bit_allocator A\n",
    "MOVE TO bitsize bit_allocator B\n",
    "USE FUNC(suma) IN mem_allocator ...\n",
    "DELETE bitsize bit_allocator  ...\n",
    "```\n",
    "\n",
    "\n",
    "### Variedades de lenguajes \n",
    "Los lenguajes de programacion **tambien se pueden segregar** como alto y bajo nivel segun el nivel de agregacion de las funciones que se usan en cada uno. En el caso de **Python** estamos hablando de un lenguaje de alto nivel en donde hacer graficas, operaciones y definir objetos abtractos suele resumierse a unas cuantas lineas de codigo\n",
    "\n",
    "En este orden de ideas, es prudente marcar la diferencia entre lenguajes de programacion como *diferentes grupos de comandos cuyo objetivo es lidiar con  el problema de la comunicacion computador-humano*. Esto implica que cada lenguaje de programacion tiene su propia notacion, orden de comandos y separadores especiales para que el **compilador** pueda leer las instrucciones dadas en el orden requerido. Esto **NO** afecta de ninguna manera la logica en si misma de la tarea, es decir, que si se quisiera ejecutar la msima tarea en diferentes lenguajes de programacion no habria razon para creer que la logica o el resultado sean distintos. En el caso de querer imprimir *\"Hola mundo!\"*, por ejemplo, se tienen los siguientes comando en python y Javascript:\n",
    "\n",
    "* Python:\n",
    "```python\n",
    "print(\"Hola mundo!\")\n",
    "```\n",
    "\n",
    "* javascript:\n",
    "```javascript\n",
    "console.log(\"Hola mundo!\");\n",
    "```\n",
    "\n",
    "####  Ventajas comparativas\n",
    "La diferencia de lenguaje a lenguaje por lo general está marcada en el proposito o uso principal que se les de. Algunos lenguajes vienen mejor adaptados para interactuar con diferentes entornos, como por ejemplo paginas web o clusters para correr programas en simultaneo. Dos ejemplos comunes de diferencias sutiles en lenguajes de programacion son Python y javascript.\n",
    "\n",
    "**Python** en general es un lenguaje muy versatil, con facilidad para calculos numericos, personalizar graficas, manejar sets de datos de manera mas intuitiva, aplicaciones de inteligencia artifical y machine Learning, entre otros usos. **Javascript** tambien es un lenguaje muy versatil en cuanto a logica de programacion y posibles usos en la industria, pero en este caso viene mejor acondicionado para ser compatible con la logica de paginas Web.\n",
    "\n",
    "\n",
    "Los lenguajes de programacion mas conocidos y sus respectivos usos comunes son:\n",
    "* **python** : Analisis y visualizacion de datos, inteligencia artificial y aprendizaje automatico, simulaciones, computacion cientifica. \n",
    "* **javascript** : Visualizacion de datos y de simulaciones en tiempo real, logica de paginas web, aprendizaje automatico, aplicaciones y gadgets.\n",
    "* **R** : Analisis y visualizacion de datos abordando el marco desde un punto de vista estadistico, computacion cientifica, aprendizaje automatico.\n",
    "* **C/C++** : Computacion cientifica de alto rendimiento, calculos numericos grandes. \n",
    "* **MATLAB**: Computaion cientifica, sistemas de ecuaciones, problemas de discretizacion y uso de matrices."
   ]
  },
  {
   "cell_type": "markdown",
   "metadata": {},
   "source": [
    "## Good Practice\n",
    "Cuando en programación se habla de una **buena práctica** usualmente se está hablando de habitos que un programador debe tener a la hora de programar para evitar confusión al momento de re-leer el código o hacer que alguien más lo entienda. También se usan para hacer el código más presentable y agradable de leer. En el manual se mencionarán algunas buenas prácticas con el indicador **[GP]**. Son consejos para tener buenos hábitos de programación y que no son necesarios para que el código compile, pero si para ser respetado como programador."
   ]
  },
  {
   "cell_type": "markdown",
   "metadata": {},
   "source": [
    "# INSTALACION Y SOFTWARE\n",
    "\n",
    "\"The best way to learn a programming language is by writing programs in it\"\n",
    "\n",
    " *Dennis Ritchie*"
   ]
  },
  {
   "cell_type": "markdown",
   "metadata": {},
   "source": [
    "### Windows\n",
    "\n",
    "Para windows se tiene el (Environment) Entorno  [Anaconda](https://www.anaconda.com/distribution/) que permite desarrollar tareas de Python y R en editores que trae incormporados en un desktop interactivo. En cuanto a **Python** se usa la verisión más reciente, **Python 3.6**. se usaran 3 herramientas principalmente:\n",
    "* **JupyterLab** : Es una maquina virtual que permite correr scripts en linea al igual que consola interactiva de jupyter notebook.\n",
    "* **Jupyter Notebook** : Se corre en el navegador y permite interactuar con los Jupyter Notebooks de python: editarlos, crearlos, correrlos y eliminarlos. (Recomendado para escribir Notebooks)\n",
    "* **Spyder** : Es un editor de texto que es amigable con python y además tiene incormporada una consola interactiva de python para el tratamiento de variables. (Recomendado para escribir scripts)\n",
    "\n",
    "### Ubuntu\n",
    "\n",
    "Para ubuntu se requiere primero instalar Python, para ello hay diversos tutoriales en internet respecto a como proceder.\n",
    "\n",
    "* Para instalar [Anaconda](https://www.digitalocean.com/community/tutorials/how-to-install-anaconda-on-ubuntu-18-04-quickstart).\n",
    "* Para instalar [Notebook y Python](https://hostadvice.com/how-to/how-to-install-jupyter-notebook-on-ubuntu-18-04-vps-or-dedicated-server/)."
   ]
  },
  {
   "cell_type": "markdown",
   "metadata": {},
   "source": [
    "## ARCHIVOS PYTHON: SCRIPTS Y NOTEBOOKS \n",
    "En cualquier lenguaje de programacion se manejan archivos que contienen el codigo con las instrucciones a ejecutarse. Python tambien permite ejecutar comandos directos desde consola cuando se tiene esta propiedad instalada. Es mucho mas sencillo usar esta version interactiva en Ubuntu que en Windows. En general para programar cualquier distribución basada en linux suele ser mejor y más accesible que Windows.\n",
    "\n",
    "> **IMPORTANTE**: En python *LA INDENTACIÓN ES ESCENCIAL*. Más adelante veremos como esos espacios en blanco al principio de cada línea influye en la estructura del código y el orden de lectura del mismo. Por el momento es importante recordar que los espacios que hay al principio de la linea no son en vano y que uno fuera de lugar puede ser detectado como un error.\n",
    "\n",
    "#### python interactivo\n",
    "basta con escribir en consola : \n",
    "```python\n",
    "python3\n",
    "```\n",
    "Para desplegar el modo interactivo de la consola:\n",
    "\n",
    "```\n",
    "Python 3.5.2 (default, May 3 2019, 16:20:00) \n",
    "[GCC 5.4.0 20160609] on linux\n",
    "Type \"help\", \"copyright\", \"credits\" or \"license\" for more information.\n",
    ">>> \n",
    "```\n",
    "\n",
    "Con esto, se inicia en consola una sesion interactiva en la cual se pueden pasar comandos directos y que se leen en orden:\n",
    "\n",
    "```python\n",
    ">>> a = 5\n",
    ">>> b = 6\n",
    ">>> a + b\n",
    "11\n",
    ">>> a * b\n",
    "30\n",
    ">>> b - a\n",
    "1\n",
    ">>> 10 * a + b\n",
    "56\n",
    "```\n",
    "\n",
    "Este modo es recomanedable para comprbar calculos rapidamente o correr codigos que no requieran mucho analisis. Cuando se esta estrucutando una funcion o un codigo con una tarea especifica y compleja es mejor usar scripts o notebooks.\n",
    "\n",
    "### SCRIPTS\n",
    "\n",
    "\n",
    "*En informática, un script, archivo de órdenes, archivo de procesamiento por lotes o, cada vez más aceptado en círculos profesionales y académicos, guion, es un programa usualmente simple, que por lo regular se almacena en un archivo de texto plano.*\n",
    "\n",
    "-[Wikipedia](https://es.wikipedia.org/wiki/Script)\n",
    "\n",
    "Cuando se habla de scripts se trata de archivos con ordenes o comandos escritos de forma estruturada con el fin de cumplir una tarea. Este conjunto de instrucciones se da al ordenador en un lenguaje de programacion especifico y por ende la extensión del archivo viene como consecuencia del lenguaje que se use. De igual forma el compilador con el que cuente el computador debe ser capaz de interpretar este lenguaje y asi llevar a cabo las instrucciones proporcionadas. Cabe recalcar que por lo general los archivos **NO** tienen lenguajes mixtos en su ejecucion, lo que signifca que un archivo escrito en determinado lenguaje solo puede tener entradas en dicho lenguaje y no de varios.\n",
    "\n",
    "Para los leguajes de programacián más frecuentes, se tiene que las extensiones para archivos son:\n",
    "\n",
    "* **Python (script)** : archivo.py\n",
    "* **Python (notebook)** : archivo.ipynb \n",
    "* **C** : archivo.c\n",
    "* **C++** : archivo.cpp\n",
    "* **MATLAB** : archivo.m\n",
    "* **javascript** : archivo.js\n",
    "\n",
    "El caso de los notebooks es uno particular. Si bien son codigo ejecutable y legible para algunos interpretes, no tiene un compilador que se encargue de ejecutarlo todo como un script. Esto se debe a su caracter de ejecución modular que se discutirá más adelante.  \n",
    "\n",
    "En el caso de python, los scripts (en este caso *script1.py* ) son archivos de la forma:\n",
    "\n",
    "---\n",
    "```python\n",
    "\n",
    "#script 1\n",
    "import numpy as np\n",
    "\n",
    "a = 5\n",
    "b = 20\n",
    "\n",
    "print(\"Hello World!\")\n",
    "print(np.sqrt(a*b))\n",
    "\n",
    "```\n",
    "---\n",
    "y se ejecutan desde cosola como :\n",
    "\n",
    "```\n",
    "python3 script1.py\n",
    "```\n",
    "\n",
    "resultando en el siguiente mensaje impreso en consola:\n",
    "\n",
    "```\n",
    "Hello World!\n",
    "10\n",
    "```\n",
    "\n",
    "Si ya tiene una experiencia programando sabra que el comando *sqrt* por lo general se usa en los lenguajes de programación como la función *raiz cuadrada*. El codigo de *script.py* se encarga de imprimir las palabras \"Hello Wolrd!\" y posteriormente de imprimir en consola la raiz cuadrada de 5 * 20 = 100, es decir, 10.\n",
    "\n",
    "#### comentarios\n",
    "\n",
    "Los comentarios son cadenas de texto que **el compilador lee pero no interpreta** y que sirven para hacer anotaciones en el codigo sobre el funcionamiento de una funcion, el significado de trozos de codigo o simplement eespecificaciones proporcionadas por el programador. En el caso de *script1.py* se tiene una linea de codigo cuyo objetivo no es claro:\n",
    "\n",
    "```python\n",
    "#script 1\n",
    "```\n",
    "Esto es solo la epsecificacion del titulo del codigo, pero simplemente podria ser cualquier otra anotación y no afecta el funcionamiento del codigo:\n",
    "```python\n",
    "#script 1\n",
    "#este script imprime un mensaje en palabras\n",
    "#y tambien imprime la raiz cuadrada de 20 * 5\n",
    "```\n",
    "Si usted es avisapado, se habrá dado cuenta que para escribir un comentario en Python, la linea debe comenzar con un '#'. Estos comentarios tambien pueden venir en la misma linea donde ya hay codigo:\n",
    "\n",
    "\n",
    "---\n",
    "```python\n",
    "\n",
    "#script 1\n",
    "import numpy as np\n",
    "\n",
    "a = 5 #variable a\n",
    "b = 20  #variable b\n",
    "\n",
    "print(\"Hello World!\") #imprime el mensaje que se requiere\n",
    "print(np.sqrt(a*b)) #imprime la raiz solicitada\n",
    "\n",
    "```\n",
    "---\n",
    "\n",
    "\n",
    "Notese que se **importa una libreria** al principio del script. Estas se usan con el fin de obtener herramientas adicionales para hacer operaciones o ahorrarse la construccion autonoma de metodos que se usan freuentemente y alguien más ya programó de forma eficiente. esto también se tocará a fondo más adelante. \n",
    "\n",
    "\n",
    "### NOTEBOOKS\n",
    "\n",
    "Los notebooks de Python son archivos que permiten compilar codigo de forma interactiva y con la posibilidad de generar anotaciones ya sea con *Markdown Language* o con entradas de *LaTex*. Esto permite tener literalmente un cuaderno con \"apuntes\" y codigo ejecutado por partes. Estos notebooks cuentan con un *Kernel* que, en lo que a esta introducción concierne, no son sino la memoria y procesamiento del codigo.\n",
    "\n",
    "Los notebooks permiten varios tipos de celda entre los cuales se encuentran las *celdas de Codigo* en donde se ejecuta codigo con logica de python, y las *Celdas Markdown* (como esta) que se usan para escritura organizada y con titulos.\n",
    "\n",
    "Los notebooks permiten ejecutar codigo por **celdas** y a diferencia de un script no se necesita que este escrito en orden siempre y cuando se ejecute en un orden logico. Es decir, en un script puedo tener:\n",
    "\n",
    "---\n",
    "```python\n",
    "\n",
    "#script 2\n",
    "import numpy as np\n",
    "\n",
    "a = 5\n",
    "print (a)\n",
    "print(b)\n",
    "b = 20\n",
    "\n",
    "```\n",
    "---\n",
    "que al ejecutarlo arroja:\n",
    "```\n",
    "5\n",
    "NameError: name 'b' is not defined\n",
    "```\n",
    "Esto ocurre porque al momento que se pide que se imprima 'b' no se habia definido y el script estaria solicitando al computador imprimir una variable que aun no conoce. En un notebook (como este que esta leyendo) se pueden tener celdas escritas en desorden pero que si son ejecutadas en el orden adecuado no deberian arrojar problemas. En un notebook la celda que se esté editando se puede ejecutar con **Ctrl+Enter**. por ejemplo, las siguientes 3 celdas de este notebook se ejecutaron el el orden que se indica en cada una:"
   ]
  },
  {
   "cell_type": "code",
   "execution_count": 1,
   "metadata": {},
   "outputs": [
    {
     "ename": "NameError",
     "evalue": "name 'c' is not defined",
     "output_type": "error",
     "traceback": [
      "\u001b[0;31m---------------------------------------------------------------------------\u001b[0m",
      "\u001b[0;31mNameError\u001b[0m                                 Traceback (most recent call last)",
      "\u001b[0;32m<ipython-input-1-9201b582ab9d>\u001b[0m in \u001b[0;36m<module>\u001b[0;34m()\u001b[0m\n\u001b[1;32m      1\u001b[0m \u001b[0;31m## tercera celda ejecutada\u001b[0m\u001b[0;34m\u001b[0m\u001b[0;34m\u001b[0m\u001b[0m\n\u001b[0;32m----> 2\u001b[0;31m \u001b[0mc\u001b[0m\u001b[0;34m+\u001b[0m\u001b[0ma\u001b[0m\u001b[0;34m\u001b[0m\u001b[0m\n\u001b[0m",
      "\u001b[0;31mNameError\u001b[0m: name 'c' is not defined"
     ]
    }
   ],
   "source": [
    "## tercera celda ejecutada\n",
    "c+a"
   ]
  },
  {
   "cell_type": "code",
   "execution_count": 2,
   "metadata": {},
   "outputs": [],
   "source": [
    "## primera celda ejecutada\n",
    "a = 20\n",
    "b = 10"
   ]
  },
  {
   "cell_type": "code",
   "execution_count": 3,
   "metadata": {},
   "outputs": [],
   "source": [
    "## segunda celda ejecutada\n",
    "\n",
    "c = a/b"
   ]
  },
  {
   "cell_type": "markdown",
   "metadata": {},
   "source": [
    "Notese como cada celda tiene una operacion que ayuda a lograr el resultado final de '22', sin embargo no estan en el orden que uno esperaria de un script. En resumen , es importante ejecutar las celdas de los notebooks en orden. Otro error frecuente es el **NO** actualizar las variables en orden llevando a resultados erroneos. Si se edita la celda despues de que fue ejecutada, es necesario volverla a ejecutar para que el Kernel reconozca la nueva variable, por ejemplo:"
   ]
  },
  {
   "cell_type": "code",
   "execution_count": 4,
   "metadata": {},
   "outputs": [],
   "source": [
    "## primera celda ejecutada\n",
    "a = 5\n",
    "b = 100\n",
    "\n",
    "## de aqui en adelante se tiene codigo adicionado despues de que la celda fue ejecutada pero no se vuelve a ejecutar\n",
    "\n",
    "b = 200\n"
   ]
  },
  {
   "cell_type": "code",
   "execution_count": 5,
   "metadata": {},
   "outputs": [
    {
     "data": {
      "text/plain": [
       "1000"
      ]
     },
     "execution_count": 5,
     "metadata": {},
     "output_type": "execute_result"
    }
   ],
   "source": [
    "#Este es codigo que se ejecuta antes de que la primera celda sea ejecutada de nuevo despues de la edicion\n",
    "a * b"
   ]
  },
  {
   "cell_type": "code",
   "execution_count": 6,
   "metadata": {},
   "outputs": [
    {
     "data": {
      "text/plain": [
       "1000"
      ]
     },
     "execution_count": 6,
     "metadata": {},
     "output_type": "execute_result"
    }
   ],
   "source": [
    "#este es codigo que se ejecuta depues de que la primera celda sea ejecutada de nuevo despues de la edicion\n",
    "a * b"
   ]
  },
  {
   "cell_type": "markdown",
   "metadata": {},
   "source": [
    "Es confuso al principio tener en cuenta el orden de ejecucion del notebook, mas si no se mantiene el orden durante la escritura del codigo. Si lo nota, hay unos indicadores al lado izquierdo de las celdas de codigo que dicen 'In [12]:', por ejemplo. Estos numeros vienen dados por el orden en que se han ejecutado las casillas, al igual que sus respectivos outputs que vienen etiquetados como 'Out[12]:' segun la casilla a la que perteneza.\n",
    "\n",
    "\n",
    "### Recomendaciones y Trabajo posterior\n",
    "\n",
    "* **Control de versiones Git** : Para mantener un repositorio en internet a modo de nube con el codigo que se vaya ecribiendo se recomienda usar control de versiones Git (Junto con Github) que permite ver un paso a paso de la evolucion de codigo y revertirlo a versiones anteriores si es requerido. Es recomendado instruirse en Git para llevar el codigo que se usa en el curso asi como poder descargar contenido de otros repositorios.\n",
    "\n",
    "* **Tutoriales de Internet**: en internet hay muchos foros dispuestos a resolver dudas sobre programacion desde temas sencillos y dudas freecuentes hasta problemas mas especificos y complejos. Uno de estos es **StackOverflow**, una comunidad con plataformas donde la gente hace preguntas relacionadas a programación y otros usuarios las responden según su experiencia. Otra forma de resolver dudas frecuentes es usar videos de **Youtube** para instruirse en temas más puntuales e  incluso temas de actualidad en la programación. Estoy tratando de hacer el curso lo más completo  posible, sin embargo me es imposible resolver dudas puntuales respecto a su computador o requerimientos para instalar, ecribir o ejecutar elementos relacionados a python, es por eso que promuevo el uso de internet para complementar lo aprendido.\n",
    "\n",
    "* **Auto completado** : El notebook de python tiene una función de autocompletado. Es decir que si quiero llamar una variable llamada \"tequila\", podría escribir 'tequi' y oprimir **tab** para recibir sugerencias de auto completado, entre las cuales estaria muy posiblemente 'tequila'.\n",
    "\n",
    "---\n",
    "---\n",
    "\n",
    "#### Trabajo complementario\n",
    "* Averiguar y aprender respecto al uso correcto de Git/Github y su compatibilidad con su Sistema Operativo.\n",
    "* Instalar lo necesario para poder comenzar con ejercicios de práctica para el curso.\n"
   ]
  }
 ],
 "metadata": {
  "kernelspec": {
   "display_name": "Python 3",
   "language": "python",
   "name": "python3"
  },
  "language_info": {
   "codemirror_mode": {
    "name": "ipython",
    "version": 3
   },
   "file_extension": ".py",
   "mimetype": "text/x-python",
   "name": "python",
   "nbconvert_exporter": "python",
   "pygments_lexer": "ipython3",
   "version": "3.6.5"
  }
 },
 "nbformat": 4,
 "nbformat_minor": 2
}
