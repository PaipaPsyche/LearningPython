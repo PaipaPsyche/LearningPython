{
 "cells": [
  {
   "cell_type": "markdown",
   "metadata": {},
   "source": [
    "# EJERCICIOS\n",
    "## CAPITULO 1\n",
    "\n",
    "El capitulo 1 del Manual está diseñado para dar una leve introducción a python. Es posible que al comienzo no sea tan intuitivo seguir la lógica de programar, pero lo importante es aprender y mejorar. En esta carpeta hay un script de prueba en python llamado **prueba_python.py** con un modelo muy básico de como deberia estar estructurado y funcionar un script. \n",
    "\n",
    "Recuerde que para *correr* un script de python en **un computador con Python instalado** basta con ejecutarlo desde la consola como:\n",
    "```\n",
    "python prueba_python.py\n",
    "```\n",
    "o si se quiere correr con la ultima version de python exclusivamente :\n",
    "```\n",
    "python3 prueba_python.py\n",
    "```\n",
    "**RECUERDE** que esto solo es valido si la consola está abierta en la misma carpeta que el script.\n",
    "\n",
    "En realidad, basta con usar el **path absoluto** del script para correrlo desde cualquier ubicación en consola:\n",
    "\n",
    "```\n",
    "python C:\\user\\santaclaus\\Documents\\python\\prueba_python.py\n",
    "```\n",
    "#### *EJERCICIO 0*\n",
    "\n",
    "Ejecutar el script **prueba_python.py** en su computador. Una vez hecho esto, ya puede seguir con los demás ejercicios.\n",
    "\n",
    "\n",
    "\n",
    "**DISCLAIMER:** En varios ejercicios se solicita *\"Escribir un script\"*. NO tiene que escribir un script para cada numeral de cada clase. Con un solo script por clase no se acaba el mundo. "
   ]
  },
  {
   "cell_type": "markdown",
   "metadata": {},
   "source": [
    "### CLASE 1 - VARIABLES\n",
    "\n",
    "\n",
    "* **A)** Escriba un script que imprima en consola los numeros del 1 al 10.\n",
    "* **B)** Escriba un script que imprima en consola un diccionario con los siguientes precios:\n",
    "\n",
    "| Televisor  | Precio USD |\n",
    "|------------|------------|\n",
    "| Kalley     | 524        |\n",
    "| Samsung    | 760        |\n",
    "| LG         | 650        |\n",
    "| Panasonic  | 600        |\n",
    "| Challenger | 489        |\n",
    "| Sony       | 836        |\n",
    "| Vaio       | 744        |\n",
    "| Daewoo     | 546        |\n",
    "\n",
    "* **C)** Escriba un script que imprima en consola el valor de la  función $\\sin (4x) \\cos(x) + \\left( \\frac{x}{5} \\right) ^2 +5 $ para **cien puntos** en el intervalo [ -4$\\pi$ , 4$\\pi$ ]. También debe imprimir por aparte solo los valores que sean inferiores a 7, imprimiendo antes *\"Estos valores son menores a 7\"*. \n",
    "\n",
    "* **D)** Escriba un script que imprima en consola una [matriz mágica](https://es.wikipedia.org/wiki/Cuadrado_m%C3%A1gico) de 4x4 . Cabe resaltar que no debe hacer ningùn cálculo, solo escribirla. También debe imprimir en consola la matriz transpuesta.\n",
    "* **E)** En la clase se vio cómo crear un numero complejo en python. Escriba una matriz de 3x3 con valores complejos y reales, tanto decimales como enteros. Imprima dicha matriz en consola , al igual que dicha matriz multiplicada por otro numero complejo de su elección también. ¿Obtiene lo esperado?  Recuerde que la forma general de los numeros complejos es $a + ib$ donde **a**  y  __b__  son numeros reales. i es la unidad compleja tal que $i^2 = -1$. Así:\n",
    "\n",
    "$(a+ib) \\cdot (c+id) = (ac-bd)+i\\cdot(ad+bc)$"
   ]
  },
  {
   "cell_type": "markdown",
   "metadata": {},
   "source": [
    "### CLASE 2 - LOOPS\n",
    "\n",
    "\n",
    "* **A)** Escriba un script que imprima en consola los numeros del 1 al 10 usando loops.\n",
    "* **B)** Escriba un script que imprima para cada numero entre 50 y 150 si se trata de un numero par o impar.\n",
    "* **C)** La **secuencia de Fibonacci** es una secuencia ordenada creciente de números descrita por Lenardo de Pisa. Siendo los dos primeros valores de la secuencia 0 y 1, los demás numeros de la secuencia se generan a partir de la suma de los dos anteriores, de esta forma la secuencia se escribe:\n",
    "\n",
    "                    0 , 1 , 1 , 2 , 3 , 5 , 8 , 13 , 21 , 34 , 55 , 89 , 144 . . .\n",
    "                    \n",
    "Cree una función recursiva tal que reciba como **parámetro único** un numero entero mayor o igual a cero y retorne dicho término de la secuencia Fibonacci, es decir:\n",
    "\n",
    "**F(0)** = 0  ,  **F(1)** = 1  ,  **F(2)** = 1  ,  **F(3)** = 2  ,  **F(4)** = 3  ,  **F(5)** = 5  ,. . . \n",
    "\n",
    "Si el numero proporcionado es menor a cero, retorne el valor -1 e imrpima en consola \"el número proporcionado es menor a cero\". escriba la función en un script y en este mismo archivo imprima los resultados de :\n",
    "\n",
    "**F(6) , F(9) , F(12) , F(-2) , F(20)**\n"
   ]
  },
  {
   "cell_type": "code",
   "execution_count": null,
   "metadata": {},
   "outputs": [],
   "source": []
  }
 ],
 "metadata": {
  "kernelspec": {
   "display_name": "Python 3",
   "language": "python",
   "name": "python3"
  },
  "language_info": {
   "codemirror_mode": {
    "name": "ipython",
    "version": 3
   },
   "file_extension": ".py",
   "mimetype": "text/x-python",
   "name": "python",
   "nbconvert_exporter": "python",
   "pygments_lexer": "ipython3",
   "version": "3.6.5"
  }
 },
 "nbformat": 4,
 "nbformat_minor": 2
}
