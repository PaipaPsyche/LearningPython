{
 "cells": [
  {
   "cell_type": "markdown",
   "metadata": {},
   "source": [
    "# VARIABLES Y FUNCIONES\n",
    "\n",
    "Python como lenguaje de programaciòn ofrece muchas ventajas en comparacion a otros lenguajes, y una de ellas es que **es un lenguaje legible e intuitivo.** Es decir que no tiene por qué parecer lenguaje extraterrestre para cualquier programador inexperto e incluso para cualquier persona que no sepa de programación en lo absoluto. \n",
    "En esta clase se va a explorar un poco el concepto de variable, como se declaran y usan de manera adecuada. Además se abordará el tema del uso de librerias y sus respectivas funciones en conjunto con las variables definidas.\n",
    "\n",
    "## VARIABLES\n",
    "\n",
    "Una variable es un espacio que se asigna en la memoria para determinar el valor de un tokken que se especifica por el programador, por ejemplo:"
   ]
  },
  {
   "cell_type": "code",
   "execution_count": 1,
   "metadata": {
    "scrolled": true
   },
   "outputs": [
    {
     "name": "stdout",
     "output_type": "stream",
     "text": [
      "5\n",
      "12.6\n",
      "63.0\n",
      "4.603174603174604\n"
     ]
    }
   ],
   "source": [
    "# la variable A se define con el valor 5\n",
    "A = 5\n",
    "#la variable B se define con el valor 12.6\n",
    "B = 12.6\n",
    "#la variable C se define como el producto de A y B , es decir el producto de 5 y 12.6\n",
    "C = A * B\n",
    "# la variable D se define como la diferencia entre C y A ponderada por el valor de B \n",
    "D = (C-A)/B\n",
    "\n",
    "# se imprimen las variables en orden (A,B,C,D)\n",
    "print( A )\n",
    "print( B )  \n",
    "print( C )\n",
    "print( D )"
   ]
  },
  {
   "cell_type": "code",
   "execution_count": 2,
   "metadata": {},
   "outputs": [
    {
     "name": "stdout",
     "output_type": "stream",
     "text": [
      "A =  5\n",
      "B =  12.6\n",
      "C =  63.0\n",
      "D =  4.603174603174604\n",
      "Todas =  5 12.6 63.0 4.603174603174604\n"
     ]
    }
   ],
   "source": [
    "# cabe aclarar que 'print()' es una funcion que imrpime en consola lo que le entra por parametro entre parentesis\n",
    "#esto sirve sea uno o muchos argumentos, separados por comas.\n",
    "print(\"A = \",A )\n",
    "print(\"B = \",B )\n",
    "print(\"C = \",C )\n",
    "print(\"D = \",D )\n",
    "print (\"Todas = \",A,B,C,D)"
   ]
  },
  {
   "cell_type": "markdown",
   "metadata": {},
   "source": [
    "Las variables no solo se pueden crear sino tambien editar, permitiendo cambiar el valor de estas durante el desarrollo del codigo:"
   ]
  },
  {
   "cell_type": "code",
   "execution_count": 3,
   "metadata": {},
   "outputs": [
    {
     "name": "stdout",
     "output_type": "stream",
     "text": [
      "0.0126\n"
     ]
    }
   ],
   "source": [
    "A = 1/1000\n",
    "C= A * B  # despues de cambiar el valor de A se vuelve a computar A * B, que en el caso anterior daba 63.\n",
    "print(C)"
   ]
  },
  {
   "cell_type": "markdown",
   "metadata": {},
   "source": [
    "Hasta el momento se han tratado variables numericas, no obstante existen diferentes tipos de variable:"
   ]
  },
  {
   "cell_type": "code",
   "execution_count": 4,
   "metadata": {},
   "outputs": [
    {
     "name": "stdout",
     "output_type": "stream",
     "text": [
      "(56.54+1j)\n",
      "56.12314353424235\n",
      "True\n",
      "HolaHolaHolaHolaHolaHolaHolaHolaHolaHola\n"
     ]
    }
   ],
   "source": [
    "variable1 = 10 #valor entero (int)\n",
    "variable2 = 55.54  #valor decimal (float)\n",
    "variable3 = 55.123143534242352345543665454523545 #valor decimal con doble espacio para cifras decimales (double)\n",
    "variable4 = True #variable logica true o False (boolean)\n",
    "variable5 = \"Hola\" #cadena de caracteres o texto (string)\n",
    "variable6 = 1+1j #valor complejo con unidad real e imaginaria (complex)\n",
    "\n",
    "#propiedades entre tipos de  variable\n",
    "print(variable2+variable6) #valor complejo sumado a valor real decimal\n",
    "print(variable4+variable3) #valor logico  o booleano sumado a valor decimal (en base numerica True = 1 y False = 0)\n",
    "print(variable4) #valor booleano\n",
    "print(variable5*variable1) # string multiplicado por un entero"
   ]
  },
  {
   "cell_type": "markdown",
   "metadata": {},
   "source": [
    "### Tipos\n",
    "Como se puede ver, las variables en python pueden venir de diferentes formas. Esto implica que python necesita cierta jerarquia para la operación de variables. Para ello, existe el concepto de *Tipo* que hace referencia a la clase a la que pertenece al variable. Aunque hay diferentes Tipos de variable en python, los más básicos son:"
   ]
  },
  {
   "cell_type": "code",
   "execution_count": 5,
   "metadata": {
    "scrolled": true
   },
   "outputs": [
    {
     "name": "stdout",
     "output_type": "stream",
     "text": [
      "<class 'int'>\n",
      "<class 'float'>\n",
      "<class 'float'>\n",
      "<class 'bool'>\n",
      "<class 'str'>\n",
      "<class 'complex'>\n"
     ]
    }
   ],
   "source": [
    "#type() permite saber el tipo de la variable que se esta tratando\n",
    "\n",
    "print(type(variable1))\n",
    "print(type(variable2))\n",
    "print(type(variable3)) # lee esta variable como float , pero la idea es que sea reconocida como dobule\n",
    "print(type(variable4))\n",
    "print(type(variable5))\n",
    "print(type(variable6))"
   ]
  },
  {
   "cell_type": "markdown",
   "metadata": {},
   "source": [
    "### Castings y Converisones de Tipo\n",
    "Muchas veces se requiere que python admita solo determinado Tipo de variable en una función o incluso que un resultado venga en un tipo específico. Para solucionar este dilema se puede hacer una *Conversion de Tipo* (en tanto sea posible) haciendo uso de *funciones constructoras*:   "
   ]
  },
  {
   "cell_type": "code",
   "execution_count": 6,
   "metadata": {},
   "outputs": [
    {
     "name": "stdout",
     "output_type": "stream",
     "text": [
      "2.8 era de tipo <class 'float'> pero ahora es  2  de tipo  <class 'int'>\n",
      "10 era de tipo <class 'int'> pero ahora es  (10+0j)  de tipo  <class 'complex'>\n",
      "10 era de tipo <class 'int'> pero ahora es  10.0  de tipo  <class 'float'>\n",
      "35 era de tipo <class 'str'> pero ahora es  35  de tipo  <class 'int'>\n"
     ]
    }
   ],
   "source": [
    "variable_float = 2.8\n",
    "variable_int = 10\n",
    "variable_string = \"35\"\n",
    "\n",
    "floatToInt = int(variable_float) #conversion de float a int\n",
    "intToFloat = float(variable_int)#conversion de int a float\n",
    "intToComp = complex(variable_int)#conversion de int a complex\n",
    "stringToInt = int(variable_string)\n",
    "\n",
    "print(variable_float,\"era de tipo\",type(variable_float),\"pero ahora es \",floatToInt,\" de tipo \",type(floatToInt))\n",
    "print(variable_int,\"era de tipo\",type(variable_int),\"pero ahora es \",intToComp,\" de tipo \",type(intToComp))\n",
    "print(variable_int,\"era de tipo\",type(variable_int),\"pero ahora es \",intToFloat,\" de tipo \",type(intToFloat))\n",
    "print(variable_string,\"era de tipo\",type(variable_string),\"pero ahora es \",stringToInt,\" de tipo \",type(stringToInt))"
   ]
  },
  {
   "cell_type": "markdown",
   "metadata": {},
   "source": [
    "## Listas, Tuplas y Diccionarios\n",
    "Cuando se trata ya no de una sino de varias variables que se quieren manejar existen algunas estructuras de datos que pueden ser útiles. \n",
    "\n",
    "\n",
    "### Listas\n",
    "Las listas son contenedores ordenados de datos que no son fijos, es decir que son mutables, y que adicionalmente permite duplicados. Para declarar una lista, se peude usar la definición manual o por constructor:"
   ]
  },
  {
   "cell_type": "code",
   "execution_count": 51,
   "metadata": {},
   "outputs": [
    {
     "name": "stdout",
     "output_type": "stream",
     "text": [
      "['Leche', 'Huevos', 'Mantequilla', 'Naranjas', 'Sal', 'Pimienta', 'Azucar', 'Detergente', 'Arroz']\n"
     ]
    }
   ],
   "source": [
    "por_comprar = [\"Leche\",\"Huevos\",\"Mantequilla\",\"Naranjas\",\"Sal\",\"Pimienta\",\"Azucar\",\"Detergente\",\"Arroz\"]\n",
    "print(por_comprar) #se crea la lista y ahora se imprime"
   ]
  },
  {
   "cell_type": "code",
   "execution_count": 52,
   "metadata": {},
   "outputs": [
    {
     "name": "stdout",
     "output_type": "stream",
     "text": [
      "Leche\n",
      "Naranjas\n"
     ]
    }
   ],
   "source": [
    "print(por_comprar[0]) #para accesar alguna posicion de la lista solo basta usar su indice en corchetes cuadrados\n",
    "print(por_comprar[3]) #es importante recordar que el indice comienza desde 0 siendo este la primera posicion"
   ]
  },
  {
   "cell_type": "code",
   "execution_count": 53,
   "metadata": {},
   "outputs": [
    {
     "name": "stdout",
     "output_type": "stream",
     "text": [
      "['Huevos', 'Mantequilla', 'Naranjas', 'Sal']\n"
     ]
    }
   ],
   "source": [
    "#se pueden seleccionar varios elementos consecutivos de la lista con un corte o slice\n",
    "print(por_comprar[1:5]) #En este caso se hace un slice desde  el indice 1 (incluyendole) hasta el 5(sin incluirlo).\n",
    "                        #esto es: las posiciones 2,3,4,5 pero no la sexta."
   ]
  },
  {
   "cell_type": "code",
   "execution_count": 54,
   "metadata": {},
   "outputs": [
    {
     "name": "stdout",
     "output_type": "stream",
     "text": [
      "['Leche', 'Huevos', 'Mantequilla', 'Naranjas', 'Sal', 'Pimienta', 'Azucar', 'Detergente', 'Arroz']\n"
     ]
    }
   ],
   "source": [
    "print(por_comprar[:]) #esto imprime la lista de principio a fin, la ausencia del valor de inicio se interpreta \n",
    "#como el indice 0 y asi mismo la ausencia del valor de fin se interpreta como el ultimo indice"
   ]
  },
  {
   "cell_type": "code",
   "execution_count": 55,
   "metadata": {},
   "outputs": [
    {
     "name": "stdout",
     "output_type": "stream",
     "text": [
      "['Leche', 'Mantequilla', 'Sal', 'Azucar', 'Arroz']\n"
     ]
    }
   ],
   "source": [
    "print(por_comprar[::2]) #esto imprime la lista cada 2 valores comenzando desde el 0"
   ]
  },
  {
   "cell_type": "code",
   "execution_count": 56,
   "metadata": {},
   "outputs": [
    {
     "name": "stdout",
     "output_type": "stream",
     "text": [
      "['Mantequilla', 'Pimienta']\n"
     ]
    }
   ],
   "source": [
    "print(por_comprar[2:6:3]) #esto imprime la lista comenzando en el indice 2 hasta el 6 en pasos de a 3 eleemntos"
   ]
  },
  {
   "cell_type": "code",
   "execution_count": 57,
   "metadata": {},
   "outputs": [
    {
     "name": "stdout",
     "output_type": "stream",
     "text": [
      "Arroz\n",
      "Detergente\n",
      "['Leche', 'Huevos', 'Mantequilla', 'Naranjas', 'Sal', 'Pimienta', 'Azucar']\n",
      "['Arroz', 'Azucar', 'Sal', 'Mantequilla', 'Leche']\n"
     ]
    }
   ],
   "source": [
    " #los indices negativos corresponden a posiciones desde el final de la lista\n",
    "print(por_comprar[-1])#ultima posicion\n",
    "print(por_comprar[-2])#penultima posicion\n",
    "print(por_comprar[:-2]) #toda la lista hasta el antepenultimo elemento\n",
    "print(por_comprar[::-2]) #toda la lista desde el final en pasos de a dos hacia atras"
   ]
  },
  {
   "cell_type": "code",
   "execution_count": 58,
   "metadata": {
    "scrolled": true
   },
   "outputs": [
    {
     "name": "stdout",
     "output_type": "stream",
     "text": [
      "['Leche', 'Huevos', 'Mantequilla', 'Naranjas', 'Sal', 'Pimienta', 'Azucar', 'Detergente', 'Arroz', 'Shampoo']\n"
     ]
    }
   ],
   "source": [
    "por_comprar.append(\"Shampoo\") #'append' adiciona un item al final de la ista\n",
    "print(por_comprar) "
   ]
  },
  {
   "cell_type": "code",
   "execution_count": 59,
   "metadata": {},
   "outputs": [
    {
     "name": "stdout",
     "output_type": "stream",
     "text": [
      "['Leche', 'Huevos', 'Mantequilla', 'Harina', 'Naranjas', 'Sal', 'Pimienta', 'Azucar', 'Detergente', 'Arroz', 'Shampoo']\n"
     ]
    }
   ],
   "source": [
    "por_comprar.insert(3,\"Harina\") #'insert' adiciona el elemento indicado en el inidice proporcionado\n",
    "#se adiciona Harina en el indice 3\n",
    "print(por_comprar)"
   ]
  },
  {
   "cell_type": "code",
   "execution_count": 67,
   "metadata": {},
   "outputs": [
    {
     "name": "stdout",
     "output_type": "stream",
     "text": [
      "['Shampoo', 'Arroz', 'Detergente', 'Azucar', 'Pimienta', 'Sal', 'Naranjas', 'Harina', 'Mantequilla', 'Huevos', 'Leche']\n"
     ]
    }
   ],
   "source": [
    "por_comprar.reverse() #usar el metodo 'reverse' invierte el orden de la lista\n",
    "print(por_comprar)"
   ]
  },
  {
   "cell_type": "code",
   "execution_count": 71,
   "metadata": {},
   "outputs": [
    {
     "name": "stdout",
     "output_type": "stream",
     "text": [
      "['Arroz', 'Azucar', 'Detergente', 'Harina', 'Huevos', 'Leche', 'Mantequilla', 'Naranjas', 'Pimienta', 'Sal', 'Shampoo']\n",
      "['Shampoo', 'Sal', 'Pimienta', 'Naranjas', 'Mantequilla', 'Leche', 'Huevos', 'Harina', 'Detergente', 'Azucar', 'Arroz']\n"
     ]
    }
   ],
   "source": [
    "por_comprar.sort() #usar el metodo 'sort' organiza la lista (san valores numericos o cadenas de caracteres)\n",
    "print(por_comprar)\n",
    "\n",
    "por_comprar.sort(reverse=True) # Tambien se puede organizar de forma descendiente\n",
    "print(por_comprar)"
   ]
  },
  {
   "cell_type": "code",
   "execution_count": null,
   "metadata": {},
   "outputs": [],
   "source": []
  },
  {
   "cell_type": "markdown",
   "metadata": {},
   "source": [
    "## LIBRERIAS Y FUNCIONES\n",
    "\n",
    "Para poder acceder a más funcionalidades, y así desbloquear el potencial completo de python, es necesario aprender un poco sobre qué son las funciones y las librerías. Estas herramientas nos permitiran hacer calculos más complejos si necesidad de escribir el proceso todas las veces que lo necesitemos o tener que construir funciones super complejas a partir de operaciones sencillas.\n",
    "\n",
    "### Funciones\n",
    "Una función es un bloque compacto de código que **solo se ejecuta cuando es llamado por otra parte del código**. A la función ingresan unas variables (o ninguna) llamadas *Parámetros* y puede retornar una, varias o ninguna.Las funciones tienen nombre por el cual se les llama.\n",
    "\n",
    "Para definir una función se usa la expresión **def** seguida del nombre de la función y entre parentesis los nombres de los posibles parámetros esperados. Por ejemplo, a continuación se mustra una función que recibe como parámetro el radio de un circulo y retorna el valor de su circunferencia:\n",
    " \n",
    "\n"
   ]
  },
  {
   "cell_type": "code",
   "execution_count": 7,
   "metadata": {},
   "outputs": [],
   "source": [
    "def circunferencia(radio):\n",
    "    pi = 3.141592   #SE definE pi manualmente DENTRO DE LA FUNCION\n",
    "    circ = 2*pi*radio #Calculo de la circunferencia\n",
    "    return circ #se retorna el valor calculado"
   ]
  },
  {
   "cell_type": "markdown",
   "metadata": {},
   "source": [
    "Note que a pesar de haber definido la función y haber ejecutado la celda de código **no pasó nada**. Esto es porque ninguna parte del código la ha llamado. \n",
    "También es importante resaltar la **indentación**: Que las tres últimas lineas estén tabuladas a la derecha implica que estas perteneces a la función definida en la primera linea. En python la indentación de cierta forma simboliza que las lineas indentadas son *subordinadas* de la ultima linea con menor indentación que en este caso sería la primera. Ahora revisemos si la función sirve:"
   ]
  },
  {
   "cell_type": "code",
   "execution_count": 8,
   "metadata": {},
   "outputs": [
    {
     "data": {
      "text/plain": [
       "62.83184"
      ]
     },
     "execution_count": 8,
     "metadata": {},
     "output_type": "execute_result"
    }
   ],
   "source": [
    "circunferencia(10) #circunferencia de un circulo de radio = 10"
   ]
  },
  {
   "cell_type": "markdown",
   "metadata": {},
   "source": [
    "Otro aspecto importante es la localidad de la variable *pi*. Si bien fue definida dentro de la función circunferencia y esa fue ejecutada ya, esto pasa cuando queremos revisar el valor de pi:"
   ]
  },
  {
   "cell_type": "code",
   "execution_count": 9,
   "metadata": {},
   "outputs": [
    {
     "ename": "NameError",
     "evalue": "name 'pi' is not defined",
     "output_type": "error",
     "traceback": [
      "\u001b[0;31m---------------------------------------------------------------------------\u001b[0m",
      "\u001b[0;31mNameError\u001b[0m                                 Traceback (most recent call last)",
      "\u001b[0;32m<ipython-input-9-f84ab820532c>\u001b[0m in \u001b[0;36m<module>\u001b[0;34m()\u001b[0m\n\u001b[0;32m----> 1\u001b[0;31m \u001b[0mpi\u001b[0m\u001b[0;34m\u001b[0m\u001b[0m\n\u001b[0m",
      "\u001b[0;31mNameError\u001b[0m: name 'pi' is not defined"
     ]
    }
   ],
   "source": [
    "pi"
   ]
  },
  {
   "cell_type": "markdown",
   "metadata": {},
   "source": [
    "Este error sucede porque pi es una variable definida **localmente** dentro de la función *circunferencia()* y solo está definida dentro de esta. Por otra parte, si hacemos esto:"
   ]
  },
  {
   "cell_type": "code",
   "execution_count": 10,
   "metadata": {},
   "outputs": [],
   "source": [
    "pi = 3.141592 # En esta ocasión se define pi por fuera de la funcion \n",
    "def circunferencia(radio):\n",
    "   \n",
    "    circ = 2*pi*radio #Calculo de la circunferencia\n",
    "    return circ #se retorna el valor calculado"
   ]
  },
  {
   "cell_type": "code",
   "execution_count": 11,
   "metadata": {},
   "outputs": [
    {
     "data": {
      "text/plain": [
       "62.83184"
      ]
     },
     "execution_count": 11,
     "metadata": {},
     "output_type": "execute_result"
    }
   ],
   "source": [
    "circunferencia(10)"
   ]
  },
  {
   "cell_type": "code",
   "execution_count": 12,
   "metadata": {},
   "outputs": [
    {
     "data": {
      "text/plain": [
       "3.141592"
      ]
     },
     "execution_count": 12,
     "metadata": {},
     "output_type": "execute_result"
    }
   ],
   "source": [
    "pi"
   ]
  },
  {
   "cell_type": "markdown",
   "metadata": {},
   "source": [
    "Ahora, ya que *pi* fue definido por fuera de la función, la localidad de la variable se ve anulada. Otros ejemplos de funciones son:"
   ]
  },
  {
   "cell_type": "code",
   "execution_count": 13,
   "metadata": {},
   "outputs": [
    {
     "data": {
      "text/plain": [
       "18"
      ]
     },
     "execution_count": 13,
     "metadata": {},
     "output_type": "execute_result"
    }
   ],
   "source": [
    "def funcionA(a,b):\n",
    "    return 2*a - b  #sean cuales sean los valores a y b, funcionA retornara el doble de a menos b\n",
    "funcionA(10,2) # 2*10-2 = 18 "
   ]
  },
  {
   "cell_type": "code",
   "execution_count": 17,
   "metadata": {
    "scrolled": true
   },
   "outputs": [
    {
     "name": "stdout",
     "output_type": "stream",
     "text": [
      "2\n",
      "100\n"
     ]
    }
   ],
   "source": [
    "valor = 1\n",
    "def funcionB(): # WOW no hay parámetro\n",
    "    print(2*valor) # imprime el doble de la variable valor, sin retornar nada\n",
    "\n",
    "funcionB()\n",
    "valor = 50\n",
    "funcionB()"
   ]
  },
  {
   "cell_type": "code",
   "execution_count": 18,
   "metadata": {},
   "outputs": [
    {
     "data": {
      "text/plain": [
       "8"
      ]
     },
     "execution_count": 18,
     "metadata": {},
     "output_type": "execute_result"
    }
   ],
   "source": [
    "def funcionC(a):\n",
    "    return 2*a-1 #funcion aburrida\n",
    "\n",
    "def funcionD(a):\n",
    "    return 3*a+1 #funcion aburrida\n",
    "\n",
    "def funcionCD(a,b):\n",
    "    return funcionC(a)+funcionD(b) #funcion aburr... no del todo. Las funciones tambien llaman otras funciones \n",
    "#mas adelante veremos que tambien se puede llamar a si misma\n",
    "\n",
    "funcionCD(1,2) #(2*1-1) + (3*2+1) = 1 + 7 = 8"
   ]
  },
  {
   "cell_type": "code",
   "execution_count": null,
   "metadata": {},
   "outputs": [],
   "source": []
  },
  {
   "cell_type": "code",
   "execution_count": null,
   "metadata": {},
   "outputs": [],
   "source": []
  },
  {
   "cell_type": "markdown",
   "metadata": {},
   "source": [
    "### Librerias\n",
    "Una de las grandes ventajas de python es la diversidad de sus funcionalidades y el gran apoyo por parte de la comunidad en cuanto a la creación de nuevas herramientas y librerias. Pero ¿Qué es una librería? En simples términos *es un paquete de funciones, variables y clases que satisfacen determinado proceso  o funcionalidad*.\n",
    "\n",
    "La librería más básica en python es **numpy** que contiene utilidades para el tratamiento de cantidades numéricas."
   ]
  },
  {
   "cell_type": "code",
   "execution_count": null,
   "metadata": {},
   "outputs": [],
   "source": []
  }
 ],
 "metadata": {
  "kernelspec": {
   "display_name": "Python 3",
   "language": "python",
   "name": "python3"
  },
  "language_info": {
   "codemirror_mode": {
    "name": "ipython",
    "version": 3
   },
   "file_extension": ".py",
   "mimetype": "text/x-python",
   "name": "python",
   "nbconvert_exporter": "python",
   "pygments_lexer": "ipython3",
   "version": "3.6.5"
  }
 },
 "nbformat": 4,
 "nbformat_minor": 2
}
