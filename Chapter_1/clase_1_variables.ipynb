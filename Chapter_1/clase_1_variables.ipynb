{
 "cells": [
  {
   "cell_type": "markdown",
   "metadata": {},
   "source": [
    "# VARIABLES Y FUNCIONES\n",
    "\n",
    "Python como lenguaje de programaciòn ofrece muchas ventajas en comparacion a otros lenguajes, y una de ellas es que **es un lenguaje legible e intuitivo.** Es decir que no tiene por qué parecer lenguaje extraterrestre para cualquier programador inexperto e incluso para cualquier persona que no sepa de programación en lo absoluto. \n",
    "En esta clase se va a explorar un poco el concepto de variable, como se declaran y usan de manera adecuada. Además se abordará el tema del uso de librerias y sus respectivas funciones en conjunto con las variables definidas.\n",
    "\n",
    "## VARIABLES\n",
    "\n",
    "Una variable es un espacio que se asigna en la memoria para determinar el valor de un tokken que se especifica por el programador, por ejemplo:"
   ]
  },
  {
   "cell_type": "code",
   "execution_count": 1,
   "metadata": {
    "scrolled": true
   },
   "outputs": [
    {
     "name": "stdout",
     "output_type": "stream",
     "text": [
      "5\n",
      "12.6\n",
      "63.0\n",
      "4.603174603174604\n"
     ]
    }
   ],
   "source": [
    "# la variable A se define con el valor 5\n",
    "A = 5\n",
    "#la variable B se define con el valor 12.6\n",
    "B = 12.6\n",
    "#la variable C se define como el producto de A y B , es decir el producto de 5 y 12.6\n",
    "C = A * B\n",
    "# la variable D se define como la diferencia entre C y A ponderada por el valor de B \n",
    "D = (C-A)/B\n",
    "# se imprimen las variables en orden (A,B,C,D)\n",
    "print( A )\n",
    "print( B )  \n",
    "print( C )\n",
    "print( D )"
   ]
  },
  {
   "cell_type": "code",
   "execution_count": 2,
   "metadata": {},
   "outputs": [
    {
     "name": "stdout",
     "output_type": "stream",
     "text": [
      "A =  5\n",
      "B =  12.6\n",
      "C =  63.0\n",
      "D =  4.603174603174604\n",
      "Todas =  5 12.6 63.0 4.603174603174604\n"
     ]
    }
   ],
   "source": [
    "# cabe aclarar que 'print()' es una funcion que imrpime en consola lo que le entra por parametro entre parentesis\n",
    "#esto sirve sea uno o muchos argumentos, separados por comas.\n",
    "print(\"A = \",A )\n",
    "print(\"B = \",B )\n",
    "print(\"C = \",C )\n",
    "print(\"D = \",D )\n",
    "print (\"Todas = \",A,B,C,D)"
   ]
  },
  {
   "cell_type": "markdown",
   "metadata": {},
   "source": [
    "**[GP]** Comentar el código **describiendo lo que se hace** es, a mi parecer, la única Good Practice que no es un consejo amistoso sino un **deber como programador**, experto o inexperto. Comentar el código le permite a otra persona que lea el codigo tener mayor facilidad de **entender el proceso** que se esta haciendo. Cuando uno programa con regularidad, muchas veces es necesario consultar código que se hizo en el pasado y la mayoría de las veces sucede que uno ya no está familiarizado con el proceso que se ejecuta. Comentar el código le permite a un \"futuro Yo\" vovler a entender el código después de haberlo casi que olvidado. \n",
    "\n",
    "\n",
    "Las variables no solo se pueden crear sino tambien editar, permitiendo cambiar el valor de estas durante el desarrollo del codigo:"
   ]
  },
  {
   "cell_type": "code",
   "execution_count": 3,
   "metadata": {},
   "outputs": [
    {
     "name": "stdout",
     "output_type": "stream",
     "text": [
      "0.0126\n"
     ]
    }
   ],
   "source": [
    "A = 1/1000 \n",
    "C= A * B  # despues de cambiar el valor de A se vuelve a computar A * B, que en el caso anterior daba 63.\n",
    "print(C)"
   ]
  },
  {
   "cell_type": "code",
   "execution_count": 4,
   "metadata": {},
   "outputs": [
    {
     "name": "stdout",
     "output_type": "stream",
     "text": [
      "10\n",
      "30\n"
     ]
    }
   ],
   "source": [
    "A = 10 \n",
    "print(A)\n",
    "\n",
    "#el valor de A se puede re definir en terminos de su antiguo valor. esto aplica para cualquier tipo de variable.\n",
    "\n",
    "A = 3*A\n",
    "print(A)"
   ]
  },
  {
   "cell_type": "markdown",
   "metadata": {},
   "source": [
    "Hasta el momento se han tratado variables numericas, no obstante existen diferentes tipos de variable:"
   ]
  },
  {
   "cell_type": "code",
   "execution_count": 5,
   "metadata": {},
   "outputs": [
    {
     "name": "stdout",
     "output_type": "stream",
     "text": [
      "(56.54+1j)\n",
      "56.12314353424235\n",
      "True\n",
      "HolaHolaHolaHolaHolaHolaHolaHolaHolaHola\n"
     ]
    }
   ],
   "source": [
    "variable1 = 10 #valor entero (int)\n",
    "variable2 = 55.54  #valor decimal (float)\n",
    "variable3 = 55.123143534242352345543665454523545 #valor decimal con doble espacio para cifras decimales (double)\n",
    "variable4 = True #variable logica true o False (boolean)\n",
    "variable5 = \"Hola\" #cadena de caracteres o texto (string)\n",
    "variable6 = 1+1j #valor complejo con unidad real e imaginaria (complex)\n",
    "\n",
    "#propiedades entre tipos de  variable\n",
    "print(variable2+variable6) #valor complejo sumado a valor real decimal\n",
    "print(variable4+variable3) #valor logico  o booleano sumado a valor decimal (en base numerica True = 1 y False = 0)\n",
    "print(variable4) #valor booleano\n",
    "print(variable5*variable1) # string multiplicado por un entero"
   ]
  },
  {
   "cell_type": "markdown",
   "metadata": {},
   "source": [
    "**[GP]** Es siempre buena idea ponerle nombres descriptivos a las variables. Esto sirve a la hora de leer el código despues de mucho tiempo o mostrarselo a alguien más ya que facilita el asociar la variable con su respectiva funcionalidad. Así, si la variable corresponde a un precio , es prudente llamarla \"precio\" o algo relacionado.\n",
    "\n",
    "**[GP]** Usualmente las variables **NO** se nombran con mayúsculas. No hay ningún tipo de problema en hacerlo, solo es más facil escribir código cuando todas las letras son minusculas."
   ]
  },
  {
   "cell_type": "markdown",
   "metadata": {},
   "source": [
    "### Tipos\n",
    "Como se puede ver, las variables en python pueden venir de diferentes formas. Esto implica que python necesita cierta jerarquia para la operación de variables. Para ello, existe el concepto de *Tipo* que hace referencia a la clase a la que pertenece al variable. Aunque hay diferentes Tipos de variable en python, los más básicos son:"
   ]
  },
  {
   "cell_type": "code",
   "execution_count": 6,
   "metadata": {
    "scrolled": true
   },
   "outputs": [
    {
     "name": "stdout",
     "output_type": "stream",
     "text": [
      "<class 'int'>\n",
      "<class 'float'>\n",
      "<class 'float'>\n",
      "<class 'bool'>\n",
      "<class 'str'>\n",
      "<class 'complex'>\n"
     ]
    }
   ],
   "source": [
    "#type() permite saber el tipo de la variable que se esta tratando\n",
    "\n",
    "print(type(variable1))\n",
    "print(type(variable2))\n",
    "print(type(variable3)) # lee esta variable como float , pero la idea es que sea reconocida como dobule\n",
    "print(type(variable4))\n",
    "print(type(variable5))\n",
    "print(type(variable6))"
   ]
  },
  {
   "cell_type": "markdown",
   "metadata": {},
   "source": [
    "### Castings y Converisones de Tipo\n",
    "Muchas veces se requiere que python admita solo determinado Tipo de variable en una función o incluso que un resultado venga en un tipo específico. Para solucionar este dilema se puede hacer una *Conversion de Tipo* (en tanto sea posible) haciendo uso de *funciones constructoras*:   "
   ]
  },
  {
   "cell_type": "code",
   "execution_count": 7,
   "metadata": {},
   "outputs": [
    {
     "name": "stdout",
     "output_type": "stream",
     "text": [
      "2.8 era de tipo <class 'float'> pero ahora es  2  de tipo  <class 'int'>\n",
      "10 era de tipo <class 'int'> pero ahora es  (10+0j)  de tipo  <class 'complex'>\n",
      "10 era de tipo <class 'int'> pero ahora es  10.0  de tipo  <class 'float'>\n",
      "35 era de tipo <class 'str'> pero ahora es  35  de tipo  <class 'int'>\n"
     ]
    }
   ],
   "source": [
    "variable_float = 2.8\n",
    "variable_int = 10\n",
    "variable_string = \"35\"\n",
    "\n",
    "floatToInt = int(variable_float) #conversion de float a int\n",
    "intToFloat = float(variable_int)#conversion de int a float\n",
    "intToComp = complex(variable_int)#conversion de int a complex\n",
    "stringToInt = int(variable_string)\n",
    "\n",
    "print(variable_float,\"era de tipo\",type(variable_float),\"pero ahora es \",floatToInt,\" de tipo \",type(floatToInt))\n",
    "print(variable_int,\"era de tipo\",type(variable_int),\"pero ahora es \",intToComp,\" de tipo \",type(intToComp))\n",
    "print(variable_int,\"era de tipo\",type(variable_int),\"pero ahora es \",intToFloat,\" de tipo \",type(intToFloat))\n",
    "print(variable_string,\"era de tipo\",type(variable_string),\"pero ahora es \",stringToInt,\" de tipo \",type(stringToInt))"
   ]
  },
  {
   "cell_type": "markdown",
   "metadata": {},
   "source": [
    "#### OPERACIONES BÁSICAS\n",
    "\n",
    "Python tiene incorporado por defecto un conjunto de **operaciones matemáticas** entre variables de las cuales ya hemos visto algunos ejemplos. Con el avance del *manual* se verán más formas de **tansformar** cantidades al igual que funciones que Python también tiene incorporadas, pero por el momento es necesario tener esto en cuenta:"
   ]
  },
  {
   "cell_type": "code",
   "execution_count": 8,
   "metadata": {},
   "outputs": [],
   "source": [
    "A = 10\n",
    "B = 3   #definiendo variables para ilustrar mi punto"
   ]
  },
  {
   "cell_type": "code",
   "execution_count": 9,
   "metadata": {},
   "outputs": [
    {
     "name": "stdout",
     "output_type": "stream",
     "text": [
      "Suma 13\n",
      "Resta 7\n",
      "Multiplicacion 30\n",
      "Division 3.3333333333333335\n",
      "Modulo o Residuo 1\n",
      "Division entera 3\n",
      "Exponenciacion 1000\n"
     ]
    }
   ],
   "source": [
    "print(\"Suma\",A+B)\n",
    "print(\"Resta\",A-B)\n",
    "print(\"Multiplicacion\",A*B)\n",
    "print(\"Division\",A/B)\n",
    "print(\"Modulo o Residuo\",A%B) \n",
    "print(\"Division entera\", A//B)\n",
    "print(\"Exponenciacion\",A**B)\n"
   ]
  },
  {
   "cell_type": "markdown",
   "metadata": {},
   "source": [
    "## Listas, Tuplas y Diccionarios\n",
    "Cuando se trata ya no de una sino de varias variables que se quieren manejar existen algunas estructuras de datos que pueden ser útiles. \n",
    "\n",
    "\n",
    "### Listas\n",
    "Las listas son contenedores ordenados de datos que no son fijos, es decir que son mutables, y que adicionalmente permite duplicados. Para declarar una lista, se peude usar la definición manual o por constructor:"
   ]
  },
  {
   "cell_type": "code",
   "execution_count": 10,
   "metadata": {},
   "outputs": [
    {
     "name": "stdout",
     "output_type": "stream",
     "text": [
      "['Leche', 'Huevos', 'Mantequilla', 'Naranjas', 'Sal', 'Pimienta', 'Azucar', 'Detergente', 'Arroz']\n"
     ]
    }
   ],
   "source": [
    "#creacion de lista por definicion manual\n",
    "por_comprar = [\"Leche\",\"Huevos\",\"Mantequilla\",\"Naranjas\",\"Sal\",\"Pimienta\",\"Azucar\",\"Detergente\",\"Arroz\"]\n",
    "print(por_comprar) #se crea la lista y ahora se imprime"
   ]
  },
  {
   "cell_type": "markdown",
   "metadata": {},
   "source": [
    "Las listas almacenan información de forma ordenada y se puede acceder a ella con los *indices* de la lista:"
   ]
  },
  {
   "cell_type": "code",
   "execution_count": 11,
   "metadata": {},
   "outputs": [
    {
     "name": "stdout",
     "output_type": "stream",
     "text": [
      "Leche\n",
      "Naranjas\n"
     ]
    }
   ],
   "source": [
    "print(por_comprar[0]) #para accesar alguna posicion de la lista solo basta usar su indice en corchetes cuadrados\n",
    "print(por_comprar[3]) #es importante recordar que el indice comienza desde 0 siendo este la primera posicion"
   ]
  },
  {
   "cell_type": "code",
   "execution_count": 12,
   "metadata": {},
   "outputs": [
    {
     "name": "stdout",
     "output_type": "stream",
     "text": [
      "['Huevos', 'Mantequilla', 'Naranjas', 'Sal']\n"
     ]
    }
   ],
   "source": [
    "#se pueden seleccionar varios elementos consecutivos de la lista con un corte o slice\n",
    "print(por_comprar[1:5]) #En este caso se hace un slice desde  el indice 1 (incluyendole) hasta el 5(sin incluirlo).\n",
    "                        #esto es: las posiciones 2,3,4,5 pero no la sexta."
   ]
  },
  {
   "cell_type": "code",
   "execution_count": 13,
   "metadata": {},
   "outputs": [
    {
     "name": "stdout",
     "output_type": "stream",
     "text": [
      "['Leche', 'Huevos', 'Mantequilla', 'Naranjas', 'Sal', 'Pimienta', 'Azucar', 'Detergente', 'Arroz']\n"
     ]
    }
   ],
   "source": [
    "print(por_comprar[:]) #esto imprime la lista de principio a fin, la ausencia del valor de inicio se interpreta \n",
    "#como el indice 0 y asi mismo la ausencia del valor de fin se interpreta como el ultimo indice"
   ]
  },
  {
   "cell_type": "code",
   "execution_count": 14,
   "metadata": {},
   "outputs": [
    {
     "name": "stdout",
     "output_type": "stream",
     "text": [
      "['Leche', 'Mantequilla', 'Sal', 'Azucar', 'Arroz']\n"
     ]
    }
   ],
   "source": [
    "print(por_comprar[::2]) #esto imprime la lista cada 2 valores comenzando desde el 0"
   ]
  },
  {
   "cell_type": "code",
   "execution_count": 15,
   "metadata": {},
   "outputs": [
    {
     "name": "stdout",
     "output_type": "stream",
     "text": [
      "['Mantequilla', 'Pimienta']\n"
     ]
    }
   ],
   "source": [
    "print(por_comprar[2:6:3]) #esto imprime la lista comenzando en el indice 2 hasta el 6 en pasos de a 3 elementos"
   ]
  },
  {
   "cell_type": "code",
   "execution_count": 16,
   "metadata": {},
   "outputs": [
    {
     "name": "stdout",
     "output_type": "stream",
     "text": [
      "Arroz\n",
      "Detergente\n",
      "['Leche', 'Huevos', 'Mantequilla', 'Naranjas', 'Sal', 'Pimienta', 'Azucar']\n",
      "['Arroz', 'Azucar', 'Sal', 'Mantequilla', 'Leche']\n"
     ]
    }
   ],
   "source": [
    " #los indices negativos corresponden a posiciones desde el final de la lista\n",
    "print(por_comprar[-1])#ultima posicion\n",
    "print(por_comprar[-2])#penultima posicion\n",
    "print(por_comprar[:-2]) #toda la lista hasta el antepenultimo elemento\n",
    "print(por_comprar[::-2]) #toda la lista desde el final en pasos de a dos hacia atras"
   ]
  },
  {
   "cell_type": "markdown",
   "metadata": {},
   "source": [
    "Las listas son elementos **mutables** lo que quiere decir que una vez creadas pueden ser alteradas al igual que sus elementos."
   ]
  },
  {
   "cell_type": "code",
   "execution_count": 17,
   "metadata": {
    "scrolled": true
   },
   "outputs": [
    {
     "name": "stdout",
     "output_type": "stream",
     "text": [
      "['Leche', 'Huevos', 'Mantequilla', 'Naranjas', 'Sal', 'Pimienta', 'Azucar', 'Detergente', 'Arroz', 'Shampoo']\n"
     ]
    }
   ],
   "source": [
    "por_comprar.append(\"Shampoo\") #'append' adiciona un item al final de la ista\n",
    "print(por_comprar) "
   ]
  },
  {
   "cell_type": "code",
   "execution_count": 18,
   "metadata": {},
   "outputs": [
    {
     "name": "stdout",
     "output_type": "stream",
     "text": [
      "['Leche', 'Huevos', 'Mantequilla', 'Harina', 'Naranjas', 'Sal', 'Pimienta', 'Azucar', 'Detergente', 'Arroz', 'Shampoo']\n"
     ]
    }
   ],
   "source": [
    "por_comprar.insert(3,\"Harina\") #'insert' adiciona el elemento indicado en el inidice proporcionado\n",
    "#se adiciona Harina en el indice 3\n",
    "print(por_comprar)"
   ]
  },
  {
   "cell_type": "code",
   "execution_count": 19,
   "metadata": {},
   "outputs": [
    {
     "name": "stdout",
     "output_type": "stream",
     "text": [
      "['Shampoo', 'Arroz', 'Detergente', 'Azucar', 'Pimienta', 'Sal', 'Naranjas', 'Harina', 'Mantequilla', 'Huevos', 'Leche']\n"
     ]
    }
   ],
   "source": [
    "por_comprar.reverse() #usar el metodo 'reverse' invierte el orden de la lista\n",
    "print(por_comprar)"
   ]
  },
  {
   "cell_type": "code",
   "execution_count": 20,
   "metadata": {},
   "outputs": [
    {
     "name": "stdout",
     "output_type": "stream",
     "text": [
      "['Arroz', 'Azucar', 'Detergente', 'Harina', 'Huevos', 'Leche', 'Mantequilla', 'Naranjas', 'Pimienta', 'Sal', 'Shampoo']\n",
      "['Shampoo', 'Sal', 'Pimienta', 'Naranjas', 'Mantequilla', 'Leche', 'Huevos', 'Harina', 'Detergente', 'Azucar', 'Arroz']\n"
     ]
    }
   ],
   "source": [
    "por_comprar.sort() #usar el metodo 'sort' organiza la lista (san valores numericos o cadenas de caracteres)\n",
    "print(por_comprar)\n",
    "\n",
    "por_comprar.sort(reverse=True) # Tambien se puede organizar de forma descendiente\n",
    "print(por_comprar)"
   ]
  },
  {
   "cell_type": "markdown",
   "metadata": {},
   "source": [
    "Tambien se pueden remover elementos de la lsita:"
   ]
  },
  {
   "cell_type": "code",
   "execution_count": 21,
   "metadata": {},
   "outputs": [
    {
     "name": "stdout",
     "output_type": "stream",
     "text": [
      "['Shampoo', 'Sal', 'Pimienta', 'Naranjas', 'Mantequilla', 'Leche', 'Huevos', 'Harina', 'Detergente', 'Azucar', 'Arroz']\n",
      "['Sal', 'Pimienta', 'Mantequilla', 'Leche', 'Huevos', 'Detergente', 'Azucar', 'Arroz']\n"
     ]
    }
   ],
   "source": [
    "print(por_comprar)\n",
    "por_comprar.remove(\"Shampoo\")\n",
    "por_comprar.remove(\"Naranjas\")\n",
    "por_comprar.remove(\"Harina\")\n",
    "print(por_comprar)"
   ]
  },
  {
   "cell_type": "code",
   "execution_count": 22,
   "metadata": {},
   "outputs": [
    {
     "name": "stdout",
     "output_type": "stream",
     "text": [
      "['Sal', 'Pimienta', 'Mantequilla', 'Leche', 'Huevos', 'Detergente', 'Azucar', 'Arroz']\n",
      "['Sal', 'Pimienta', 'Leche', 'Huevos', 'Detergente', 'Azucar', 'Arroz']\n"
     ]
    }
   ],
   "source": [
    "print(por_comprar)\n",
    "del por_comprar[2] #elimina la tercera posicion de la lista\n",
    "print(por_comprar)"
   ]
  },
  {
   "cell_type": "markdown",
   "metadata": {},
   "source": [
    "\n",
    "**CONTINUANDO . . .** para crear una lista usando el constructor:"
   ]
  },
  {
   "cell_type": "code",
   "execution_count": 23,
   "metadata": {
    "scrolled": true
   },
   "outputs": [
    {
     "data": {
      "text/plain": [
       "['Queso', 'Leche', 'Yogurt']"
      ]
     },
     "execution_count": 23,
     "metadata": {},
     "output_type": "execute_result"
    }
   ],
   "source": [
    "por_comprar = list()  #se usa el constructor de la clase lista\n",
    "por_comprar.append(\"Queso\") \n",
    "por_comprar.append(\"Leche\") \n",
    "por_comprar.append(\"Yogurt\")  #se adicionan tres elementos\n",
    "\n",
    "por_comprar  #cuando se imprime la lista con print() no retorna ningun valor , solo lo muestra.\n",
    "                #al llamar la lista si se espera un valor retornado, por ende esta celda tendria un valor out.\n"
   ]
  },
  {
   "cell_type": "markdown",
   "metadata": {},
   "source": [
    "**IMPORTANTE** tener en cuenta que en ningun momento se puso una restricción sobre el contenido de la lista:"
   ]
  },
  {
   "cell_type": "code",
   "execution_count": 24,
   "metadata": {},
   "outputs": [
    {
     "data": {
      "text/plain": [
       "['Leche', 25, True, (5+1j), 'a', 3.54]"
      ]
     },
     "execution_count": 24,
     "metadata": {},
     "output_type": "execute_result"
    }
   ],
   "source": [
    "por_comprar=[\"Leche\" , 25 , True , 5+1j , 'a' ,3.54] #se puede tener todo tipo de variable en una lista\n",
    "por_comprar"
   ]
  },
  {
   "cell_type": "markdown",
   "metadata": {},
   "source": [
    "**Bastante conveniente ¿no?** viendo ya que se puede tener *cualquier* variable dentro de una lista, y ya que las listas **tambien son variables**...\n",
    "\n",
    "**¿Eso no da lugar a ideas macabras?**"
   ]
  },
  {
   "cell_type": "code",
   "execution_count": 25,
   "metadata": {},
   "outputs": [
    {
     "data": {
      "text/plain": [
       "[['Perro', 'Gato', 'Colibri'], [2.23, 3.45, 1.37], [True, False, True]]"
      ]
     },
     "execution_count": 25,
     "metadata": {},
     "output_type": "execute_result"
    }
   ],
   "source": [
    "lista1 = [\"Perro\",\"Gato\",\"Colibri\"]\n",
    "lista2 = [2.23 , 3.45 , 1.37]   # se crean tres listas de prueba\n",
    "lista3 = [True , False , True]\n",
    "\n",
    "lista_de_listas = [lista1 , lista2 , lista3] # se hace una lista cuyos elementos son las tres listas\n",
    "\n",
    "lista_de_listas"
   ]
  },
  {
   "cell_type": "markdown",
   "metadata": {},
   "source": [
    "Al tener una estructura contenedora **A** dentro de otra estructura **B** se dice que **A** está anidada dentro de **B**, O generalmente se usa el verbo en inglés *nested*. Si usted también tiene esa curiosidad innata por saber que más sucede, de seguro se preguntó cómo acceder a los valores que estan en las listas anidadas. Pero si me ha llevado el ritmo de seguro sabe la respuesta a ello:"
   ]
  },
  {
   "cell_type": "code",
   "execution_count": 26,
   "metadata": {},
   "outputs": [
    {
     "data": {
      "text/plain": [
       "'Gato'"
      ]
     },
     "execution_count": 26,
     "metadata": {},
     "output_type": "execute_result"
    }
   ],
   "source": [
    "lista_de_listas[0][1]  #de la primera lista (indice 0) retorne su segundo valor (indice 1)"
   ]
  },
  {
   "cell_type": "markdown",
   "metadata": {},
   "source": [
    "**RECUERDE** que esto sucede porque *lista_de_listas[0]* es una variable que corresponde a [\"Perro\",\"Gato\",\"Colibri\"] y el anexo [1] consulta la segunda posición de dicha lista."
   ]
  },
  {
   "cell_type": "markdown",
   "metadata": {},
   "source": [
    "**BONUS :** Las cadenas de caracteres o *strings* pueden ser interpretados como una lista de caracteres."
   ]
  },
  {
   "cell_type": "code",
   "execution_count": 27,
   "metadata": {},
   "outputs": [
    {
     "name": "stdout",
     "output_type": "stream",
     "text": [
      "electricamente\n",
      "Ajonr eran rd einádeeeleolsctm saed.\n"
     ]
    }
   ],
   "source": [
    "texto = \"Agujeros negros electricamente cargados que giran rápidamente revolviendo el espaciotiempo a su alrededor.\"\n",
    "#los espacios vacios tambien son un caracter\n",
    "print(texto[16:30])\n",
    "print(texto[::3])"
   ]
  },
  {
   "cell_type": "markdown",
   "metadata": {},
   "source": [
    "### Diccionarios\n",
    "Cuando se tiene información organizada **y etiquetada** es facil aceeder a ella usando diccionarios. Estos son estructuras contenedoras que permiten la asignación de una etiqueta al dato almacenado, lo que permite buscar información de manera ordenada. En la creación de un diccionario se debe definir la etiqueta o *key* y posteriormente su valor asociado. En el proximo ejemplo se tiene una lista compras y los precios en dolares:"
   ]
  },
  {
   "cell_type": "code",
   "execution_count": 28,
   "metadata": {},
   "outputs": [
    {
     "name": "stdout",
     "output_type": "stream",
     "text": [
      "{'Leche': 1.25, 'Huevos': 0.75, 'Mantequilla': 2.05, 'Naranjas': 1.5}\n"
     ]
    }
   ],
   "source": [
    "#definicion de un diccionario\n",
    "por_comprar = {\"Leche\":1.25,\"Huevos\":0.75,\"Mantequilla\":2.05,\"Naranjas\":1.50}\n",
    "\n",
    "print(por_comprar)"
   ]
  },
  {
   "cell_type": "markdown",
   "metadata": {},
   "source": [
    "Como se puede observar a cada elemento le corresponde un precio. Para acceder a la información del deccionario basta con: "
   ]
  },
  {
   "cell_type": "code",
   "execution_count": 29,
   "metadata": {},
   "outputs": [
    {
     "data": {
      "text/plain": [
       "1.25"
      ]
     },
     "execution_count": 29,
     "metadata": {},
     "output_type": "execute_result"
    }
   ],
   "source": [
    "por_comprar[\"Leche\"]"
   ]
  },
  {
   "cell_type": "code",
   "execution_count": 30,
   "metadata": {},
   "outputs": [
    {
     "data": {
      "text/plain": [
       "0.75"
      ]
     },
     "execution_count": 30,
     "metadata": {},
     "output_type": "execute_result"
    }
   ],
   "source": [
    "por_comprar[\"Huevos\"]"
   ]
  },
  {
   "cell_type": "markdown",
   "metadata": {},
   "source": [
    "La información tambien puede ser cambiada si se requiere:"
   ]
  },
  {
   "cell_type": "code",
   "execution_count": 31,
   "metadata": {},
   "outputs": [
    {
     "name": "stdout",
     "output_type": "stream",
     "text": [
      "{'Leche': 1.25, 'Huevos': 0.5, 'Mantequilla': 2.05, 'Naranjas': 1.5}\n"
     ]
    }
   ],
   "source": [
    "por_comprar[\"Huevos\"]=0.50\n",
    "print(por_comprar)"
   ]
  },
  {
   "cell_type": "markdown",
   "metadata": {},
   "source": [
    "**Ahora**, ¿Qué sucederá si se intenta cambiar el valor de un *key* que no existe dentro del diccionario? Lo esperado sería que se lanzara un error."
   ]
  },
  {
   "cell_type": "code",
   "execution_count": 32,
   "metadata": {},
   "outputs": [],
   "source": [
    "por_comprar[\"Manzanas\"]=1.75"
   ]
  },
  {
   "cell_type": "markdown",
   "metadata": {},
   "source": [
    "**¿Qué sucedió?** No se lanzó ningún error. Miremos que le pasó al diccionario:"
   ]
  },
  {
   "cell_type": "code",
   "execution_count": 33,
   "metadata": {},
   "outputs": [
    {
     "data": {
      "text/plain": [
       "{'Leche': 1.25,\n",
       " 'Huevos': 0.5,\n",
       " 'Mantequilla': 2.05,\n",
       " 'Naranjas': 1.5,\n",
       " 'Manzanas': 1.75}"
      ]
     },
     "execution_count": 33,
     "metadata": {},
     "output_type": "execute_result"
    }
   ],
   "source": [
    "por_comprar"
   ]
  },
  {
   "cell_type": "markdown",
   "metadata": {},
   "source": [
    "¿Astuto no? Definir el valor de un *key* inexistente **actualiza el diccionario** agregando el nuevo elemento. Al igual que con las listas, no hay problema al definir diferentes tipos de variables dentro del diccionario:"
   ]
  },
  {
   "cell_type": "code",
   "execution_count": 34,
   "metadata": {},
   "outputs": [
    {
     "data": {
      "text/plain": [
       "{'lista': [1, 2, 3, 4],\n",
       " 'entero': 5,\n",
       " 'float': 2.56,\n",
       " 'string': 'hola mundo',\n",
       " 'dict': {'valor A': 1, 'valor B': 20}}"
      ]
     },
     "execution_count": 34,
     "metadata": {},
     "output_type": "execute_result"
    }
   ],
   "source": [
    "diccionario_prueba = {\"lista\":[1,2,3,4] ,\n",
    "                     \"entero\":5 ,\n",
    "                     \"float\":2.56 ,   #cuando se esta definiendo una estructura, no debe ser todo en una\n",
    "                     \"string\":\"hola mundo\",#sola linea. Tambien se puede hacer salto de linea despues de las comas.\n",
    "                     \"dict\":{\"valor A\":1,\"valor B\":20}}#y por qué no, un diccionario anidado.... \n",
    "diccionario_prueba"
   ]
  },
  {
   "cell_type": "markdown",
   "metadata": {},
   "source": [
    "**[GP]** Cuando se esta definiendo una estructura contenedora muy grande, es mejor visto hacer estos saltos de linea para no tener lineas demasiado largas y dificiles de editar."
   ]
  },
  {
   "cell_type": "code",
   "execution_count": 35,
   "metadata": {},
   "outputs": [],
   "source": [
    "diccionario_prueba[\"dict\"][\"valor B\"]=diccionario_prueba[\"lista\"]"
   ]
  },
  {
   "cell_type": "markdown",
   "metadata": {},
   "source": [
    "¿Puede inferir que sucedio en esta última linea de código? veamos que sucedió: "
   ]
  },
  {
   "cell_type": "code",
   "execution_count": 36,
   "metadata": {
    "scrolled": true
   },
   "outputs": [
    {
     "data": {
      "text/plain": [
       "{'lista': [1, 2, 3, 4],\n",
       " 'entero': 5,\n",
       " 'float': 2.56,\n",
       " 'string': 'hola mundo',\n",
       " 'dict': {'valor A': 1, 'valor B': [1, 2, 3, 4]}}"
      ]
     },
     "execution_count": 36,
     "metadata": {},
     "output_type": "execute_result"
    }
   ],
   "source": [
    "diccionario_prueba"
   ]
  },
  {
   "cell_type": "code",
   "execution_count": 37,
   "metadata": {},
   "outputs": [
    {
     "data": {
      "text/plain": [
       "4"
      ]
     },
     "execution_count": 37,
     "metadata": {},
     "output_type": "execute_result"
    }
   ],
   "source": [
    "diccionario_prueba[\"dict\"][\"valor B\"][3]"
   ]
  },
  {
   "cell_type": "markdown",
   "metadata": {},
   "source": [
    "Sustitui el valor de \"valor B\" en el diccionario \"dict\" con la lista almacenada en \"lista\". Se pueden hacer estructuras de distintos niveles que organizen la información. Como acabe de mostrarle, se puede tener una lista en un diccionario . . . en otro diccioanrio.   "
   ]
  },
  {
   "cell_type": "markdown",
   "metadata": {},
   "source": [
    "## LIBRERIAS Y FUNCIONES\n",
    "\n",
    "Para poder acceder a más funcionalidades, y así desbloquear el potencial completo de python, es necesario aprender un poco sobre qué son las funciones y las librerías. Estas herramientas nos permitiran hacer calculos más complejos si necesidad de escribir el proceso todas las veces que lo necesitemos o tener que construir funciones super complejas a partir de operaciones sencillas.\n",
    "\n",
    "### Funciones\n",
    "Una función es un bloque compacto de código que **solo se ejecuta cuando es llamado por otra parte del código**. A la función ingresan unas variables (o ninguna) llamadas *Parámetros* y puede retornar una, varias o ninguna.Las funciones tienen nombre por el cual se les llama.\n",
    "\n",
    "Para definir una función se usa la expresión **def** seguida del nombre de la función y entre parentesis los nombres de los posibles parámetros esperados. Por ejemplo, a continuación se mustra una función que recibe como parámetro el radio de un circulo y retorna el valor de su circunferencia:\n",
    " \n",
    "\n"
   ]
  },
  {
   "cell_type": "code",
   "execution_count": 38,
   "metadata": {},
   "outputs": [],
   "source": [
    "def circunferencia(radio):\n",
    "    pi = 3.141592   #SE definE pi manualmente DENTRO DE LA FUNCION\n",
    "    circ = 2*pi*radio #Calculo de la circunferencia\n",
    "    return circ #se retorna el valor calculado"
   ]
  },
  {
   "cell_type": "markdown",
   "metadata": {},
   "source": [
    "Note que a pesar de haber definido la función y haber ejecutado la celda de código **no pasó nada**. Esto es porque ninguna parte del código la ha llamado. \n",
    "También es importante resaltar la **indentación**: Que las tres últimas lineas estén tabuladas a la derecha implica que estas perteneces a la función definida en la primera linea. En python la indentación de cierta forma simboliza que las lineas indentadas son *subordinadas* de la ultima linea con menor indentación que en este caso sería la primera. Ahora revisemos si la función sirve:"
   ]
  },
  {
   "cell_type": "code",
   "execution_count": 39,
   "metadata": {},
   "outputs": [
    {
     "data": {
      "text/plain": [
       "62.83184"
      ]
     },
     "execution_count": 39,
     "metadata": {},
     "output_type": "execute_result"
    }
   ],
   "source": [
    "circunferencia(10) #circunferencia de un circulo de radio = 10"
   ]
  },
  {
   "cell_type": "markdown",
   "metadata": {},
   "source": [
    "Otro aspecto importante es la localidad de la variable *pi*. Si bien fue definida dentro de la función circunferencia y esa fue ejecutada ya, esto pasa cuando queremos revisar el valor de pi:"
   ]
  },
  {
   "cell_type": "code",
   "execution_count": 40,
   "metadata": {},
   "outputs": [
    {
     "ename": "NameError",
     "evalue": "name 'pi' is not defined",
     "output_type": "error",
     "traceback": [
      "\u001b[0;31m---------------------------------------------------------------------------\u001b[0m",
      "\u001b[0;31mNameError\u001b[0m                                 Traceback (most recent call last)",
      "\u001b[0;32m<ipython-input-40-f84ab820532c>\u001b[0m in \u001b[0;36m<module>\u001b[0;34m()\u001b[0m\n\u001b[0;32m----> 1\u001b[0;31m \u001b[0mpi\u001b[0m\u001b[0;34m\u001b[0m\u001b[0m\n\u001b[0m",
      "\u001b[0;31mNameError\u001b[0m: name 'pi' is not defined"
     ]
    }
   ],
   "source": [
    "pi"
   ]
  },
  {
   "cell_type": "markdown",
   "metadata": {},
   "source": [
    "Este error sucede porque pi es una variable definida **localmente** dentro de la función *circunferencia()* y solo está definida dentro de esta. Por otra parte, si hacemos esto:"
   ]
  },
  {
   "cell_type": "code",
   "execution_count": 41,
   "metadata": {},
   "outputs": [],
   "source": [
    "pi = 3.141592 # En esta ocasión se define pi por fuera de la funcion \n",
    "def circunferencia(radio):\n",
    "   \n",
    "    circ = 2*pi*radio #Calculo de la circunferencia\n",
    "    return circ #se retorna el valor calculado"
   ]
  },
  {
   "cell_type": "code",
   "execution_count": 42,
   "metadata": {},
   "outputs": [
    {
     "data": {
      "text/plain": [
       "62.83184"
      ]
     },
     "execution_count": 42,
     "metadata": {},
     "output_type": "execute_result"
    }
   ],
   "source": [
    "circunferencia(10)"
   ]
  },
  {
   "cell_type": "code",
   "execution_count": 43,
   "metadata": {},
   "outputs": [
    {
     "data": {
      "text/plain": [
       "3.141592"
      ]
     },
     "execution_count": 43,
     "metadata": {},
     "output_type": "execute_result"
    }
   ],
   "source": [
    "pi"
   ]
  },
  {
   "cell_type": "markdown",
   "metadata": {},
   "source": [
    "Ahora, ya que *pi* fue definido por fuera de la función, la localidad de la variable se ve anulada. Otros ejemplos de funciones son:"
   ]
  },
  {
   "cell_type": "code",
   "execution_count": 44,
   "metadata": {},
   "outputs": [
    {
     "data": {
      "text/plain": [
       "18"
      ]
     },
     "execution_count": 44,
     "metadata": {},
     "output_type": "execute_result"
    }
   ],
   "source": [
    "def funcionA(a,b):\n",
    "    return 2*a - b  #sean cuales sean los valores a y b, funcionA retornara el doble de a menos b\n",
    "funcionA(10,2) # 2*10-2 = 18 "
   ]
  },
  {
   "cell_type": "markdown",
   "metadata": {},
   "source": [
    "**NOTE** que la funcion \"funcionA\" recibe dos valores como parámetros de entrada. **¿Cómo sabe la función cual es cual?**  Con el orden basta. El primer valor se asigna al primer parámetro, el segundo valro de entrada al segundo parámetro y asi sucesivamente para funciones con más parámetros. Otra forma que no depende del orden es simplemente asignar los valores por el nombre del parámetro (si se conoce):"
   ]
  },
  {
   "cell_type": "code",
   "execution_count": 45,
   "metadata": {},
   "outputs": [
    {
     "data": {
      "text/plain": [
       "18"
      ]
     },
     "execution_count": 45,
     "metadata": {},
     "output_type": "execute_result"
    }
   ],
   "source": [
    "funcionA(b=2,a=10)"
   ]
  },
  {
   "cell_type": "markdown",
   "metadata": {},
   "source": [
    "**[GP]** Es mejor usar los nombres de los parámetros para definir sus valores. Esto evita confusiones y posibles errores malinterpretando el orden de los párametros. También cuando se re-lee el código es mejor ya que no es necesario buscar la definición de la función para saber en que orden van los parámetros o revisar a que corresponden dentro de la función.\n",
    "\n",
    "\n",
    "También es posible tener funciones que no dependen de **ningún parámetro de entrada**:"
   ]
  },
  {
   "cell_type": "code",
   "execution_count": 46,
   "metadata": {
    "scrolled": true
   },
   "outputs": [
    {
     "name": "stdout",
     "output_type": "stream",
     "text": [
      "2\n",
      "100\n"
     ]
    }
   ],
   "source": [
    "valor = 1\n",
    "def funcionB(): # WOW no hay parámetro\n",
    "    print(2*valor) # imprime el doble de la variable valor, sin retornar nada\n",
    "\n",
    "funcionB()\n",
    "valor = 50\n",
    "funcionB()"
   ]
  },
  {
   "cell_type": "code",
   "execution_count": 47,
   "metadata": {},
   "outputs": [
    {
     "data": {
      "text/plain": [
       "8"
      ]
     },
     "execution_count": 47,
     "metadata": {},
     "output_type": "execute_result"
    }
   ],
   "source": [
    "def funcionC(a):\n",
    "    return 2*a-1 #funcion aburrida\n",
    "\n",
    "def funcionD(a):\n",
    "    return 3*a+1 #funcion aburrida\n",
    "\n",
    "def funcionCD(a,b):\n",
    "    return funcionC(a)+funcionD(b) #funcion aburr... no del todo. Las funciones tambien llaman otras funciones!\n",
    "funcionCD(1,2) #(2*1-1) + (3*2+1) = 1 + 7 = 8"
   ]
  },
  {
   "cell_type": "markdown",
   "metadata": {},
   "source": [
    "**¿Más ideas macabras?** Note que una función (CD) puede llamar a otra (C y D) y usar el valor que retorna **siempre y cuando la función de apoyo esté definida**. Y ya que la función general, que en este caso es CD, ya está definida...\n",
    "\n",
    "Para mostrarle a donde quiero llegar es necesario esperar a la siguiente clase de este capítulo, en el anexo *'Recursividad'*. Por el momento tenga fresca y presente la idea que se nos acaba de ocurrir.\n",
    "\n",
    "\n"
   ]
  },
  {
   "cell_type": "markdown",
   "metadata": {},
   "source": [
    "### Funciones incorporadas\n",
    "Antes mencioné que Python tenía unas operaciones matemáticas incorporadas por defecto al igual que unas **funciones**. a continuación mostraré algunas de las más útiles."
   ]
  },
  {
   "cell_type": "code",
   "execution_count": 48,
   "metadata": {},
   "outputs": [
    {
     "data": {
      "text/plain": [
       "9"
      ]
     },
     "execution_count": 48,
     "metadata": {},
     "output_type": "execute_result"
    }
   ],
   "source": [
    "pow(3,2) #otra forma de exponenciacion , en este caso es 3 a la potencia de 2"
   ]
  },
  {
   "cell_type": "markdown",
   "metadata": {},
   "source": [
    "Para saber la longitud de un contenedor se usa la función **'len'** que retorna un entero correspondiente a la longitud del arreglo. **Importante** notar que la longitud es absoluta, es decir que si hay 4 elementos en el contenedor entonces retorna el valor 4, y no se guia por el indice del arreglo (que iria de 0  a 3)."
   ]
  },
  {
   "cell_type": "code",
   "execution_count": 49,
   "metadata": {},
   "outputs": [
    {
     "name": "stdout",
     "output_type": "stream",
     "text": [
      "la longitud de la lista es  7\n",
      "la longitud del inventario es  4\n"
     ]
    }
   ],
   "source": [
    "lista_prueba=[-3,-2,-1,0,1,2,3] #lista de prueba\n",
    "inventario = {\"leche\":3,\"Mangos\":4,\"frijoles\":10,\"aguacate\":7} \n",
    "\n",
    "\n",
    "print(\"la longitud de la lista es \" , len(lista_prueba) )   # 'len' da la longitud de un contenedor\n",
    "print(\"la longitud del inventario es \", len(inventario) )"
   ]
  },
  {
   "cell_type": "markdown",
   "metadata": {},
   "source": [
    "Una función muy útil para transformar contenedores es **'map'** que asigna los valores de un arreglo a otro haciendo uso de una función que entra por parámetro, es decir que aplica la función a cada elemento del arreglo."
   ]
  },
  {
   "cell_type": "code",
   "execution_count": 50,
   "metadata": {},
   "outputs": [
    {
     "name": "stdout",
     "output_type": "stream",
     "text": [
      "<map object at 0x7f8b6c0e4630>\n"
     ]
    }
   ],
   "source": [
    "def duplicar(n):\n",
    "    return 2*n\n",
    "\n",
    "lista_duplicada = map(duplicar,lista_prueba)\n",
    "\n",
    "print(lista_duplicada)"
   ]
  },
  {
   "cell_type": "markdown",
   "metadata": {},
   "source": [
    "¿Qué? ¿Qué significa este resultado tan criptico? Bueno, es que la función map no retorna un contenedor como tal. Para que sea un contenedor debe ser de la clase 'list' o 'dict' si es lista o diccionario respectivamente, pero este objeto es de la clase 'map' y corresponde al mapeo que se hace de cada valor con la función dada. También se trata de un contenedor solo que en este caso es más abtracto y no se puede representar como una secuencia de numeros en un contenedor. Para obtener los valores del nuevo arreglo se usa una conversion de tipo:"
   ]
  },
  {
   "cell_type": "code",
   "execution_count": 51,
   "metadata": {},
   "outputs": [
    {
     "name": "stdout",
     "output_type": "stream",
     "text": [
      "[-6, -4, -2, 0, 2, 4, 6]\n"
     ]
    }
   ],
   "source": [
    "lista_nueva = list(lista_duplicada)\n",
    "\n",
    "print(lista_nueva)"
   ]
  },
  {
   "cell_type": "markdown",
   "metadata": {},
   "source": [
    "##### Factorial\n",
    "\n",
    "La función factorial de un numero entero corresponde a la multiplicación de todos los enteros menores o iguales a dicho numero y mayores a cero. Se denota con un signo de exclamación al lado del numero entero en cuestión. Es decir,\n",
    "\n",
    "$5! = 5 \\cdot 4 \\cdot 3 \\cdot 2 \\cdot 1  = 120$ \n",
    "\n",
    "También, \n",
    "\n",
    "$0! = 1$\n",
    "\n",
    "En este orden de ideas, una forma de mostrar la función general es:\n",
    "\n",
    " $n! = \\prod_{n}^{i = 1} i$\n",
    "\n",
    "Si se detiene a mirar bien la función factorial, en particular el caso de $5!$, es facil notar que:\n",
    "\n",
    "$5! = 5 \\cdot 4! = 5 \\cdot 4 \\cdot 3! =$. . .\n",
    "\n",
    "A este tipo de funciones que se pueden definir respecto a si mismas se les llama **funciones recursivas** y en programación suponen una herramienta demasiado poderosa: **La recursividad**. \n",
    "\n",
    "Continuando con el ejemplo de la función factorial "
   ]
  },
  {
   "cell_type": "markdown",
   "metadata": {},
   "source": [
    "### Librerias\n",
    "Una de las grandes ventajas de python es la diversidad de sus funcionalidades y el gran apoyo por parte de la comunidad en cuanto a la creación de nuevas herramientas y librerias. Pero ¿Qué es una librería? En simples términos *es un paquete de funciones, variables y clases que satisfacen determinado proceso  o funcionalidad*.\n",
    "\n",
    "La librería más básica en python es **numpy** que contiene utilidades para el tratamiento de cantidades numéricas. Finalmente podemos comenzar con la diversión...\n",
    "\n",
    "Para usar una librería es necesario importarla al código **antes** de usarla. Esto se hace con el comando **'import'**. Al importar la libreria se le puede asignar un pseudonimo con el fin de abreviar el nombre cada vez que se use. Estos e hace con el comando **'as'**:"
   ]
  },
  {
   "cell_type": "code",
   "execution_count": 52,
   "metadata": {},
   "outputs": [],
   "source": [
    "import numpy as np     # aca le asigné a la libreria numpy el pseudónimo np al momento de importarla "
   ]
  },
  {
   "cell_type": "markdown",
   "metadata": {},
   "source": [
    "**[GP]** Ya que las librerias suelen usarse varias veces en el código y técnicamente esto puede ser en cualquier parte del código, es prudente importar las librerias que se vayan a usar desde el pricnipio del código. de esta forma se puede usar cualquier elemento de la libreria en cualquier parte del código.\n",
    "\n",
    "**[GP]** A la librería *numpy* generalmente se le asigna el pseudónimo 'np'. Claro, una persona puede ponerle otro pseudónimo a numpy como 'npy','num','jorge' o como lo desee, pero personalmente la gente que hace eso me da asco. Otro grupo de programadores prefiere solo importar la libreria \n",
    "```python\n",
    "import numpy\n",
    "``` \n",
    "y llamar el nombre 'numpy' cada vez que la usan, pero bueno, con eso si soy indiferente. \n",
    "\n",
    "\n",
    "Python tiene un conjunto de librerías descargadas por defecto, numpy entre ellas, y cuando se quieren usar solo hace falta importarlas y ya está. Otras librerias más experimentales, específicas o en desarrollo por la comunidad requieren ser **descargadas o instaladas manualmente** ya que python **no** está programado para descargarlas al momento de instalarse en el computador.\n",
    "\n",
    "Tambien se puede importar solo una parte de la libreria con el fin de ahorrar memoria al momento de correr el codigo:"
   ]
  },
  {
   "cell_type": "code",
   "execution_count": 53,
   "metadata": {},
   "outputs": [],
   "source": [
    "from numpy import linalg as lng"
   ]
  },
  {
   "cell_type": "markdown",
   "metadata": {},
   "source": [
    "En esta ocasión se importó de *numpy* un conjunto de funcionalidades utiles para el álgebra lineal llamado 'linalg' (que veremos más adelante). También se importó con un pseudonimo. *NO* se importó toda la librería de numpy, sino solo la parte que nos interesaba.\n",
    "\n",
    "Una de las grandes ventajas de Python como lenguaje de programación es la facilidad con la que se lee el código. La interpretabilidad que ofrece permite que lineas de código como la de arriba parezcan más una oración de un texto que un trozo de código para informática."
   ]
  },
  {
   "cell_type": "markdown",
   "metadata": {},
   "source": [
    "### Leve introducción a numpy\n",
    "\n",
    "Numpy es una libreria cuyo objetivo principal es el tratamiento de cantidades numericas con operaciones matemáticas del mundo moderno. A continuación mostraré algunas funcionalidades que tiene, sin embargo la mayoria de ellas se irán mostrando más adelante en el desarrollo de clases posteriores del manual."
   ]
  },
  {
   "cell_type": "markdown",
   "metadata": {},
   "source": [
    "#### Arrays, vectores o arreglos\n",
    "\n",
    "En numpy se tiene una nueva clase de contendor, en este caso si está restringido a valores numericos en general: enteros, decimales o complejos. El Arreglo de numpy es editable pero de tamaño fijo , es decir que sus valores pueden ser cambiados , sin embargo no se pueden tener más o menos elementos en el vector."
   ]
  },
  {
   "cell_type": "code",
   "execution_count": 54,
   "metadata": {},
   "outputs": [
    {
     "name": "stdout",
     "output_type": "stream",
     "text": [
      "[1 2 3 4 6]\n",
      "[1 2 3 4 5]\n"
     ]
    }
   ],
   "source": [
    "lista_prueba = [1,2,3,4,6]\n",
    "\n",
    "array_lista = np.array(lista_prueba)\n",
    "\n",
    "# asi es, se peude crear un vector a partir de una lista de valores\n",
    "\n",
    "print(array_lista)\n",
    "\n",
    "\n",
    "array_lista[4] = 5 # y se puede editar\n",
    "\n",
    "print(array_lista)"
   ]
  },
  {
   "cell_type": "code",
   "execution_count": 55,
   "metadata": {},
   "outputs": [
    {
     "data": {
      "text/plain": [
       "[1, 2, 3, 4, 5]"
      ]
     },
     "execution_count": 55,
     "metadata": {},
     "output_type": "execute_result"
    }
   ],
   "source": [
    "#tambien puedo vovler un array una lista\n",
    "lista_back = list(array_lista)\n",
    "lista_back"
   ]
  },
  {
   "cell_type": "markdown",
   "metadata": {},
   "source": [
    "#### Más dimensiones , Rick . . .\n",
    "¿Qué sucede en matemáticas cuando tengo un vector de vectores? Claro! una matriz."
   ]
  },
  {
   "cell_type": "code",
   "execution_count": 56,
   "metadata": {},
   "outputs": [
    {
     "data": {
      "text/plain": [
       "array([[1, 2, 3],\n",
       "       [4, 5, 6],\n",
       "       [7, 8, 9]])"
      ]
     },
     "execution_count": 56,
     "metadata": {},
     "output_type": "execute_result"
    }
   ],
   "source": [
    "matriz = [[1,2,3],[4,5,6],[7,8,9]] # se comienza con una lista de listas\n",
    "\n",
    "matriz = np.array(matriz) #redefino matriz como un array de si mismo \n",
    "\n",
    "matriz # et voilá! tenemos una matriz! "
   ]
  },
  {
   "cell_type": "code",
   "execution_count": 57,
   "metadata": {},
   "outputs": [
    {
     "name": "stdout",
     "output_type": "stream",
     "text": [
      "como listas =  8\n",
      "como matriz =  8\n"
     ]
    }
   ],
   "source": [
    "print(\"como listas = \",matriz[2][1])\n",
    "#al igual que con las listas, se pueden consultar valores viendolo como una lista anidada dentr de otra\n",
    "\n",
    "\n",
    "# pero tambien se pueden consultar como una coordenada de la matriz (tercera fila, segunda columna)\n",
    "print(\"como matriz = \",matriz[2,1])"
   ]
  },
  {
   "cell_type": "code",
   "execution_count": 58,
   "metadata": {},
   "outputs": [
    {
     "data": {
      "text/plain": [
       "array([[4, 5],\n",
       "       [7, 8]])"
      ]
     },
     "execution_count": 58,
     "metadata": {},
     "output_type": "execute_result"
    }
   ],
   "source": [
    "matriz[ 1: , :-1 ] #toda la matriz, excepto la ultima columna y la primera fila"
   ]
  },
  {
   "cell_type": "code",
   "execution_count": 59,
   "metadata": {
    "scrolled": true
   },
   "outputs": [
    {
     "data": {
      "text/plain": [
       "array([2, 5, 8])"
      ]
     },
     "execution_count": 59,
     "metadata": {},
     "output_type": "execute_result"
    }
   ],
   "source": [
    "matriz[:,1] # todos los valores de la segunda columna"
   ]
  },
  {
   "cell_type": "code",
   "execution_count": 60,
   "metadata": {},
   "outputs": [
    {
     "data": {
      "text/plain": [
       "array([[1, 4, 7],\n",
       "       [2, 5, 8],\n",
       "       [3, 6, 9]])"
      ]
     },
     "execution_count": 60,
     "metadata": {},
     "output_type": "execute_result"
    }
   ],
   "source": [
    "#con el comando .T se puede transponer un elemento lineal, como la matriz\n",
    "matriz.T"
   ]
  },
  {
   "cell_type": "markdown",
   "metadata": {},
   "source": [
    "##### ceros y unos\n",
    "Se pueden crear automáticamente vectores de cualquier tamaño con solo ceros o unos en cada valor. Son más útiles de lo que uno pensaría."
   ]
  },
  {
   "cell_type": "code",
   "execution_count": 61,
   "metadata": {},
   "outputs": [
    {
     "name": "stdout",
     "output_type": "stream",
     "text": [
      "[0. 0. 0. 0. 0. 0. 0. 0. 0. 0.]\n",
      "[1. 1. 1. 1. 1. 1. 1. 1. 1. 1.]\n"
     ]
    }
   ],
   "source": [
    "array_cero = np.zeros(10) #array de ceros con 20 elementos\n",
    "array_uno = np.ones(10) #array de unos con 20 elementos\n",
    "\n",
    "\n",
    "print(array_cero)\n",
    "print(array_uno)"
   ]
  },
  {
   "cell_type": "code",
   "execution_count": 62,
   "metadata": {},
   "outputs": [
    {
     "data": {
      "text/plain": [
       "array([[1., 1., 1., 1., 1.],\n",
       "       [1., 1., 1., 1., 1.],\n",
       "       [1., 1., 1., 1., 1.],\n",
       "       [1., 1., 1., 1., 1.],\n",
       "       [1., 1., 1., 1., 1.]])"
      ]
     },
     "execution_count": 62,
     "metadata": {},
     "output_type": "execute_result"
    }
   ],
   "source": [
    "np.ones([5,5]) #genera una matriz de 5x5 de unos"
   ]
  },
  {
   "cell_type": "markdown",
   "metadata": {},
   "source": [
    "#### Diferencias\n",
    "Pero . . . ya habiendo visto las listas, se preguntará, ¿En qué se diferencia un array de una lista? ¿No es más sencillo solo dejar la lista creada y ya? Bueno, es que el array puede ser interpretado como un Vector matemático, con todos los beneficios que ello trae:"
   ]
  },
  {
   "cell_type": "code",
   "execution_count": 63,
   "metadata": {},
   "outputs": [
    {
     "name": "stdout",
     "output_type": "stream",
     "text": [
      "lista doble =  [1, 2, 3, 4, 6, 1, 2, 3, 4, 6]\n",
      "array doble =  [ 2  4  6  8 10]\n",
      "array doble +1 =  [ 3  5  7  9 11]\n"
     ]
    },
    {
     "ename": "TypeError",
     "evalue": "can only concatenate list (not \"int\") to list",
     "output_type": "error",
     "traceback": [
      "\u001b[0;31m---------------------------------------------------------------------------\u001b[0m",
      "\u001b[0;31mTypeError\u001b[0m                                 Traceback (most recent call last)",
      "\u001b[0;32m<ipython-input-63-8b80da85fee1>\u001b[0m in \u001b[0;36m<module>\u001b[0;34m()\u001b[0m\n\u001b[1;32m      6\u001b[0m \u001b[0mprint\u001b[0m\u001b[0;34m(\u001b[0m\u001b[0;34m\"array doble = \"\u001b[0m\u001b[0;34m,\u001b[0m\u001b[0marray_doble\u001b[0m\u001b[0;34m)\u001b[0m\u001b[0;34m\u001b[0m\u001b[0m\n\u001b[1;32m      7\u001b[0m \u001b[0mprint\u001b[0m\u001b[0;34m(\u001b[0m\u001b[0;34m\"array doble +1 = \"\u001b[0m\u001b[0;34m,\u001b[0m\u001b[0marray_doble\u001b[0m \u001b[0;34m+\u001b[0m \u001b[0;36m1\u001b[0m\u001b[0;34m)\u001b[0m\u001b[0;34m\u001b[0m\u001b[0m\n\u001b[0;32m----> 8\u001b[0;31m \u001b[0mprint\u001b[0m\u001b[0;34m(\u001b[0m\u001b[0;34m\"lista doble +1 = \"\u001b[0m\u001b[0;34m,\u001b[0m\u001b[0mlista_doble\u001b[0m\u001b[0;34m+\u001b[0m\u001b[0;36m1\u001b[0m\u001b[0;34m)\u001b[0m\u001b[0;34m\u001b[0m\u001b[0m\n\u001b[0m",
      "\u001b[0;31mTypeError\u001b[0m: can only concatenate list (not \"int\") to list"
     ]
    }
   ],
   "source": [
    "lista_doble = 2 * lista_prueba #multiplico la lista por 2\n",
    "array_doble = 2 * array_lista #multiplico el array por 2\n",
    "\n",
    "\n",
    "print(\"lista doble = \",lista_doble)\n",
    "print(\"array doble = \",array_doble)\n",
    "print(\"array doble +1 = \",array_doble + 1)\n",
    "print(\"lista doble +1 = \",lista_doble+1)"
   ]
  },
  {
   "cell_type": "markdown",
   "metadata": {},
   "source": [
    "Como vemos la lista es tan incomoda matemáticamente hablando que hasta lanzó un error cuando intenté sumarle un numero. Los arrays en general son las estructuras predilectas para hacer  operaciones matemáticas. Las listas son más útiles como formas de almacenar información , pero no para procesarla. "
   ]
  },
  {
   "cell_type": "code",
   "execution_count": 64,
   "metadata": {},
   "outputs": [
    {
     "data": {
      "text/plain": [
       "array([[ 4,  8, 12],\n",
       "       [16, 20, 24],\n",
       "       [28, 32, 36]])"
      ]
     },
     "execution_count": 64,
     "metadata": {},
     "output_type": "execute_result"
    }
   ],
   "source": [
    "4 * matriz #estas propiedades se extienden a matrices, eventualmente"
   ]
  },
  {
   "cell_type": "markdown",
   "metadata": {},
   "source": [
    "#### Linspace\n",
    "\n",
    "Cuando uno desea geenrar un espacion lineal de valores, con N valores distribuidos en intervalos iguales entre numeros A y B se usa **'linspace'** para generarlos automáticamente: "
   ]
  },
  {
   "cell_type": "code",
   "execution_count": 65,
   "metadata": {},
   "outputs": [
    {
     "name": "stdout",
     "output_type": "stream",
     "text": [
      "[2.  2.5 3.  3.5 4. ]\n"
     ]
    }
   ],
   "source": [
    "valores = np.linspace(2,4,5) # quiero generar 5 numeros igualmente distribuidos entre 2 y 4\n",
    "print(valores)  #notese que linspace retorna un array de valores"
   ]
  },
  {
   "cell_type": "markdown",
   "metadata": {},
   "source": [
    "#### Valores aleatorios\n",
    "Un buen lenguaje de programación siempre tiene una forma de generar valores aleatorios. En este caso numpy ofrece una variedad de posibilidades para esta tarea con uno de sus paquetes : numpy.random"
   ]
  },
  {
   "cell_type": "markdown",
   "metadata": {},
   "source": [
    "la función **'random'** genera un numero aleatorio entre 0  y 1"
   ]
  },
  {
   "cell_type": "code",
   "execution_count": 66,
   "metadata": {
    "scrolled": true
   },
   "outputs": [
    {
     "data": {
      "text/plain": [
       "0.8067919630796608"
      ]
     },
     "execution_count": 66,
     "metadata": {},
     "output_type": "execute_result"
    }
   ],
   "source": [
    "np.random.random()  # esta funcion genera un numero aleatorio entre 0  y 1"
   ]
  },
  {
   "cell_type": "code",
   "execution_count": 67,
   "metadata": {},
   "outputs": [
    {
     "data": {
      "text/plain": [
       "array([[0.69352422, 0.32524815, 0.99293407],\n",
       "       [0.78085255, 0.25262048, 0.91332957]])"
      ]
     },
     "execution_count": 67,
     "metadata": {},
     "output_type": "execute_result"
    }
   ],
   "source": [
    "np.random.random([2,3]) # se le puede suministrar un arreglo con las dimensiones de una matriz y retorna una matriz"
   ]
  },
  {
   "cell_type": "markdown",
   "metadata": {},
   "source": [
    "Para generar numeros enteros aleatorios se usa **'randint'**"
   ]
  },
  {
   "cell_type": "code",
   "execution_count": 68,
   "metadata": {
    "scrolled": true
   },
   "outputs": [
    {
     "data": {
      "text/plain": [
       "14"
      ]
     },
     "execution_count": 68,
     "metadata": {},
     "output_type": "execute_result"
    }
   ],
   "source": [
    "np.random.randint(10,20) # randint retorna un valor entero aleatorio entre los dos valores proporcionados"
   ]
  },
  {
   "cell_type": "code",
   "execution_count": 69,
   "metadata": {},
   "outputs": [
    {
     "data": {
      "text/plain": [
       "array([[15, 13, 13],\n",
       "       [19, 18, 14],\n",
       "       [11, 19, 16],\n",
       "       [11, 19, 17],\n",
       "       [13, 17, 10],\n",
       "       [18, 17, 15],\n",
       "       [15, 10, 10],\n",
       "       [14, 18, 19],\n",
       "       [17, 17, 15],\n",
       "       [18, 19, 10]])"
      ]
     },
     "execution_count": 69,
     "metadata": {},
     "output_type": "execute_result"
    }
   ],
   "source": [
    "np.random.randint(10,20,[10,3]) # tambien recibe un argumento adicional para la forma del arreglo de salida"
   ]
  },
  {
   "cell_type": "markdown",
   "metadata": {},
   "source": [
    "La función **'normal'**  genera un numero aleatorio dentro de una distribucion normal o Gaussiana. Si no se le proporcionan parametros, genera el numero aleatorio de una distribucion gaussiana ceentrda en 0 y con desviación standard de 1 ($\\mu = 0$ , $\\sigma = 1$)"
   ]
  },
  {
   "cell_type": "code",
   "execution_count": 70,
   "metadata": {},
   "outputs": [
    {
     "data": {
      "text/plain": [
       "-0.27560564088439526"
      ]
     },
     "execution_count": 70,
     "metadata": {},
     "output_type": "execute_result"
    }
   ],
   "source": [
    "np.random.normal()"
   ]
  },
  {
   "cell_type": "code",
   "execution_count": 71,
   "metadata": {
    "scrolled": true
   },
   "outputs": [
    {
     "data": {
      "text/plain": [
       "9.02013074832749"
      ]
     },
     "execution_count": 71,
     "metadata": {},
     "output_type": "execute_result"
    }
   ],
   "source": [
    "np.random.normal(10,5) #le ingresan como parametros el centro de la distribucion y la desviacion(mu = 10, sigma =5)"
   ]
  },
  {
   "cell_type": "code",
   "execution_count": 72,
   "metadata": {},
   "outputs": [
    {
     "data": {
      "text/plain": [
       "array([[ 8.41552402, 11.7010232 ,  9.57068709],\n",
       "       [ 2.65087587, 17.54022563,  8.98722703],\n",
       "       [ 9.07959272,  9.00148204,  5.86083873]])"
      ]
     },
     "execution_count": 72,
     "metadata": {},
     "output_type": "execute_result"
    }
   ],
   "source": [
    "np.random.normal(10,5,[3,3]) #de nuevo, la forma ...."
   ]
  },
  {
   "cell_type": "markdown",
   "metadata": {},
   "source": [
    "La función **'uniform'** sirve para generar numeros aleatorios en una distribución uniforme. Se comporta similar a **'random'** solo que esta vez le ingresan como parametros los valores limites de la distribución."
   ]
  },
  {
   "cell_type": "code",
   "execution_count": 73,
   "metadata": {},
   "outputs": [
    {
     "data": {
      "text/plain": [
       "array([[ 2.47344658, -0.39821985,  0.83958101],\n",
       "       [ 2.27437061, -2.50223938,  0.54273573],\n",
       "       [ 0.16465541, -2.15529385, -1.05455294]])"
      ]
     },
     "execution_count": 73,
     "metadata": {},
     "output_type": "execute_result"
    }
   ],
   "source": [
    "np.random.uniform(-5,5,[3,3]) #genera una matriz de 3 x 3 con valores aleatorios entre -5 y 5"
   ]
  },
  {
   "cell_type": "markdown",
   "metadata": {},
   "source": [
    "#### Funciones matemáticas\n",
    "Numpy tiene un conjunto de funciones que son familiares a cualquiera que haya tenido una formación básica en matemáticas. De la misma forma, tiene constantes que ayudan al proceso de cálculo en muchas de ellas."
   ]
  },
  {
   "cell_type": "code",
   "execution_count": 74,
   "metadata": {},
   "outputs": [
    {
     "data": {
      "text/plain": [
       "3.141592653589793"
      ]
     },
     "execution_count": 74,
     "metadata": {},
     "output_type": "execute_result"
    }
   ],
   "source": [
    "np.pi # tiene una definicion decente de pi, no como la que hice en la funcion circunferencia"
   ]
  },
  {
   "cell_type": "code",
   "execution_count": 75,
   "metadata": {},
   "outputs": [
    {
     "data": {
      "text/plain": [
       "10.0"
      ]
     },
     "execution_count": 75,
     "metadata": {},
     "output_type": "execute_result"
    }
   ],
   "source": [
    "np.sqrt(100) # raiz cuadrada"
   ]
  },
  {
   "cell_type": "code",
   "execution_count": 76,
   "metadata": {},
   "outputs": [
    {
     "data": {
      "text/plain": [
       "2.0"
      ]
     },
     "execution_count": 76,
     "metadata": {},
     "output_type": "execute_result"
    }
   ],
   "source": [
    "np.log10(100) #logaritmo base 10"
   ]
  },
  {
   "cell_type": "code",
   "execution_count": 77,
   "metadata": {},
   "outputs": [
    {
     "data": {
      "text/plain": [
       "4.0"
      ]
     },
     "execution_count": 77,
     "metadata": {},
     "output_type": "execute_result"
    }
   ],
   "source": [
    "np.log2(16) #logaritmo base 2"
   ]
  },
  {
   "cell_type": "code",
   "execution_count": 78,
   "metadata": {},
   "outputs": [
    {
     "data": {
      "text/plain": [
       "1.0"
      ]
     },
     "execution_count": 78,
     "metadata": {},
     "output_type": "execute_result"
    }
   ],
   "source": [
    "np.log(np.e) #logaritmo natural o neperiano. Tambien tiene definida la constante de Euler (e) "
   ]
  },
  {
   "cell_type": "markdown",
   "metadata": {},
   "source": [
    "Ya que tiene incorporado el valor de pi, ¿por qué no tendría todo el paquete de operaciones trigonométricas?"
   ]
  },
  {
   "cell_type": "code",
   "execution_count": 79,
   "metadata": {},
   "outputs": [
    {
     "data": {
      "text/plain": [
       "0.0"
      ]
     },
     "execution_count": 79,
     "metadata": {},
     "output_type": "execute_result"
    }
   ],
   "source": [
    "np.sin(0) # funcion seno (calculo en radianes)"
   ]
  },
  {
   "cell_type": "code",
   "execution_count": 80,
   "metadata": {},
   "outputs": [
    {
     "data": {
      "text/plain": [
       "1.0"
      ]
     },
     "execution_count": 80,
     "metadata": {},
     "output_type": "execute_result"
    }
   ],
   "source": [
    "np.sin( np.pi/2 )"
   ]
  },
  {
   "cell_type": "code",
   "execution_count": 81,
   "metadata": {},
   "outputs": [
    {
     "data": {
      "text/plain": [
       "6.123233995736766e-17"
      ]
     },
     "execution_count": 81,
     "metadata": {},
     "output_type": "execute_result"
    }
   ],
   "source": [
    "np.cos(np.pi/2) # y la funcion coseno tambien está"
   ]
  },
  {
   "cell_type": "code",
   "execution_count": 82,
   "metadata": {},
   "outputs": [
    {
     "name": "stdout",
     "output_type": "stream",
     "text": [
      "0.0\n",
      "1.5707963267948966\n"
     ]
    }
   ],
   "source": [
    "print(np.arccos(1)) # funcion inversa de coseno, se espera 0 como resultado\n",
    "print(np.arcsin(1)) # funcion inversa de seno, se espera  pi/2 (1.57...) como resultado"
   ]
  },
  {
   "cell_type": "markdown",
   "metadata": {},
   "source": [
    "Esto que sucedio con la función coseno es posible que pase de vez en cuando y es necesario tener un poco de 'criterio científico' para dicernir si se trata de un error. En este caso, coseno de $\\frac{\\pi}{2}$ es igual a 0, pero la respuesta que se recibe **NO** es cero. Pero a pesar de ser distint0 de cero, el resultado es un valor bastante cercano. \n",
    "\n",
    "Python no es perfecto y trabaja con cierta precisión numerica  (mas o menos 16 decimales de precision), este tipo de 'desatinos' por lo general no representan un inconveniente y recae sobre el programador determinar si decide ver ese resultado como un cero o no."
   ]
  },
  {
   "cell_type": "code",
   "execution_count": 83,
   "metadata": {},
   "outputs": [
    {
     "data": {
      "text/plain": [
       "1.633123935319537e+16"
      ]
     },
     "execution_count": 83,
     "metadata": {},
     "output_type": "execute_result"
    }
   ],
   "source": [
    "np.tan(np.pi/2)  #tangente tambien esta disponible.\n",
    "#Aunque de tangente de pi/2 se espera una indeterminacion a infinito(o algo cercano)"
   ]
  },
  {
   "cell_type": "markdown",
   "metadata": {},
   "source": [
    "Python muchas veces en lugar de dar indeterminacions a infinito retorna valores muy grandes, a pesar de que tiene su propioa definición de infinito."
   ]
  },
  {
   "cell_type": "code",
   "execution_count": 84,
   "metadata": {
    "scrolled": true
   },
   "outputs": [
    {
     "data": {
      "text/plain": [
       "inf"
      ]
     },
     "execution_count": 84,
     "metadata": {},
     "output_type": "execute_result"
    }
   ],
   "source": [
    "np.inf #definicion de infinito de numpy"
   ]
  },
  {
   "cell_type": "code",
   "execution_count": 85,
   "metadata": {},
   "outputs": [
    {
     "data": {
      "text/plain": [
       "0.0"
      ]
     },
     "execution_count": 85,
     "metadata": {},
     "output_type": "execute_result"
    }
   ],
   "source": [
    "100/np.inf #dividamos algo ente infinito"
   ]
  },
  {
   "cell_type": "code",
   "execution_count": 86,
   "metadata": {},
   "outputs": [
    {
     "data": {
      "text/plain": [
       "1.5707963267948966"
      ]
     },
     "execution_count": 86,
     "metadata": {},
     "output_type": "execute_result"
    }
   ],
   "source": [
    "np.arctan(np.inf) #funcion inversa de tangente, de nuevo se espera pi/2 (1.57..)"
   ]
  },
  {
   "cell_type": "markdown",
   "metadata": {},
   "source": [
    "Otra ventaja de numpy es que permite aplicar funciones sobre sus vectores:"
   ]
  },
  {
   "cell_type": "code",
   "execution_count": 87,
   "metadata": {},
   "outputs": [
    {
     "name": "stdout",
     "output_type": "stream",
     "text": [
      "[ 1.          0.76604444  0.17364818 -0.5        -0.93969262 -0.93969262\n",
      " -0.5         0.17364818  0.76604444  1.        ]\n"
     ]
    }
   ],
   "source": [
    "numeros = np.linspace(0,np.pi*2,10) #10 numeros entre 0 y 2*pi distribuidos de manera uniforme\n",
    "\n",
    "coseno = np.cos(numeros) #coseno para todos\n",
    "\n",
    "print(coseno)"
   ]
  },
  {
   "cell_type": "markdown",
   "metadata": {},
   "source": [
    "#### Algo de estadistica\n",
    "Cuando se tratan muchos numeros, en ocasiones se quieren obtener datos sobre su distribución y sobre el conjunto en general. Para ello numpy tiene algunas funciones para determinar estadisticos de arreglos:"
   ]
  },
  {
   "cell_type": "code",
   "execution_count": 88,
   "metadata": {},
   "outputs": [],
   "source": [
    "array_prueba = np.random.uniform(-10,10,100) #100 numeros entre -10 y 10"
   ]
  },
  {
   "cell_type": "code",
   "execution_count": 89,
   "metadata": {},
   "outputs": [
    {
     "data": {
      "text/plain": [
       "0.6041697556668927"
      ]
     },
     "execution_count": 89,
     "metadata": {},
     "output_type": "execute_result"
    }
   ],
   "source": [
    "np.mean(array_prueba) # retorna el promedio del parametro de entrada , sea lista o array"
   ]
  },
  {
   "cell_type": "code",
   "execution_count": 90,
   "metadata": {},
   "outputs": [
    {
     "data": {
      "text/plain": [
       "0.8916024659336044"
      ]
     },
     "execution_count": 90,
     "metadata": {},
     "output_type": "execute_result"
    }
   ],
   "source": [
    "np.median(array_prueba) # mediana del arreglo"
   ]
  },
  {
   "cell_type": "code",
   "execution_count": 91,
   "metadata": {},
   "outputs": [
    {
     "data": {
      "text/plain": [
       "5.9721958227824405"
      ]
     },
     "execution_count": 91,
     "metadata": {},
     "output_type": "execute_result"
    }
   ],
   "source": [
    "np.std(array_prueba)# desviacion standard"
   ]
  },
  {
   "cell_type": "code",
   "execution_count": 92,
   "metadata": {},
   "outputs": [
    {
     "data": {
      "text/plain": [
       "35.66712294566003"
      ]
     },
     "execution_count": 92,
     "metadata": {},
     "output_type": "execute_result"
    }
   ],
   "source": [
    "np.var(array_prueba) #varianza"
   ]
  },
  {
   "cell_type": "code",
   "execution_count": 93,
   "metadata": {},
   "outputs": [
    {
     "data": {
      "text/plain": [
       "9.98091336173417"
      ]
     },
     "execution_count": 93,
     "metadata": {},
     "output_type": "execute_result"
    }
   ],
   "source": [
    "np.amax(array_prueba) # maximo valor del arreglo"
   ]
  },
  {
   "cell_type": "code",
   "execution_count": 94,
   "metadata": {},
   "outputs": [
    {
     "data": {
      "text/plain": [
       "-9.932910513866357"
      ]
     },
     "execution_count": 94,
     "metadata": {},
     "output_type": "execute_result"
    }
   ],
   "source": [
    "np.amin(array_prueba) #valor minimo"
   ]
  },
  {
   "cell_type": "code",
   "execution_count": 95,
   "metadata": {},
   "outputs": [
    {
     "data": {
      "text/plain": [
       "95"
      ]
     },
     "execution_count": 95,
     "metadata": {},
     "output_type": "execute_result"
    }
   ],
   "source": [
    "np.argmax(array_prueba) # la POSICION o INDICE del maximo valor\n"
   ]
  },
  {
   "cell_type": "code",
   "execution_count": 96,
   "metadata": {},
   "outputs": [
    {
     "data": {
      "text/plain": [
       "13"
      ]
     },
     "execution_count": 96,
     "metadata": {},
     "output_type": "execute_result"
    }
   ],
   "source": [
    "np.argmin(array_prueba) # la POSICION o INDICE del minimo valor"
   ]
  },
  {
   "cell_type": "code",
   "execution_count": 97,
   "metadata": {},
   "outputs": [
    {
     "data": {
      "text/plain": [
       "array([ 1,  4,  7, 10, 13, 16, 19])"
      ]
     },
     "execution_count": 97,
     "metadata": {},
     "output_type": "execute_result"
    }
   ],
   "source": [
    "np.arange(1,20,3) # genera un arreglo de enteros entre 1 y 20 dando pasos de a 3 numeros"
   ]
  },
  {
   "cell_type": "code",
   "execution_count": 98,
   "metadata": {},
   "outputs": [
    {
     "data": {
      "text/plain": [
       "array([20, 18, 16, 14, 12])"
      ]
     },
     "execution_count": 98,
     "metadata": {},
     "output_type": "execute_result"
    }
   ],
   "source": [
    "np.arange(20,10,-2) #tambien se puede hacia atras, en este caso de 20 a 10 en pasos hacia atras de 2 numeros"
   ]
  },
  {
   "cell_type": "markdown",
   "metadata": {},
   "source": [
    "#### Where ...?\n",
    "La función **'where'** permite buscar las posiciones de elementos dentro del arreglo que cumplen con determinadas condiciones. "
   ]
  },
  {
   "cell_type": "code",
   "execution_count": 99,
   "metadata": {
    "scrolled": true
   },
   "outputs": [
    {
     "data": {
      "text/plain": [
       "array([14.85967305, 19.4226324 , 10.25634335, 17.61997445, 20.21260393,\n",
       "       27.13017982, 24.42411867, 19.24891631, 21.63255682, 16.37494142,\n",
       "       14.07408471, 12.35223545, 23.39185168, 24.70702802, 27.42256629,\n",
       "       22.1969361 , 24.54231987, 25.31199489, 10.6838358 , 10.40272868,\n",
       "       12.8927233 , 28.79280649, 23.67149503, 17.58933817, 13.95860773,\n",
       "       14.78200452, 18.71995772, 12.05248821, 12.6554569 , 15.55552361,\n",
       "       20.6420821 , 13.13840986, 28.91914778, 26.11877687, 14.77569914,\n",
       "       24.79134273, 16.75165674, 11.77211752, 25.55563736, 17.08471338,\n",
       "       29.60088509, 25.63440317, 12.87786266, 12.92144209, 10.45197746,\n",
       "       12.14488679, 19.97709859, 27.0599166 , 16.55932046, 12.72783633,\n",
       "       24.73171052, 27.55424889, 24.3549522 , 16.54671841, 10.86511671,\n",
       "       29.40354869, 27.14797733, 22.14584456, 22.12182057, 12.55349594,\n",
       "       15.66218772, 12.30345004, 25.68510188, 12.29239613, 18.05712719,\n",
       "       20.65952343, 13.4165498 , 25.04376949, 18.51610017, 14.69247132,\n",
       "       29.1628953 , 25.62723143, 17.42874512, 14.6015271 , 10.41567416,\n",
       "       13.46277891, 19.66913989, 12.80181903, 15.08430137, 19.60274161])"
      ]
     },
     "execution_count": 99,
     "metadata": {},
     "output_type": "execute_result"
    }
   ],
   "source": [
    "array_prueba = np.random.uniform(10,30,80)\n",
    "array_prueba"
   ]
  },
  {
   "cell_type": "code",
   "execution_count": 100,
   "metadata": {},
   "outputs": [
    {
     "data": {
      "text/plain": [
       "(array([ 4,  5,  6,  8, 12, 13, 14, 15, 16, 17, 21, 22, 30, 32, 33, 35, 38,\n",
       "        40, 41, 47, 50, 51, 52, 55, 56, 57, 58, 62, 65, 67, 70, 71]),)"
      ]
     },
     "execution_count": 100,
     "metadata": {},
     "output_type": "execute_result"
    }
   ],
   "source": [
    "indices = np.where(array_prueba > 20) #quiero saber las posiciones donde los valores son mayores a 150\n",
    "indices"
   ]
  },
  {
   "cell_type": "markdown",
   "metadata": {},
   "source": [
    "Si lo nota bien, esto retorna un arreglo las posiciones donde se cumple la condición x > 20. Pero lo retorna como un array donde su primer elemento es la lista de indices, pero tiene un misterioso segundo elemento vacio. Por ello solo vamos a tomar ese primer elemento:"
   ]
  },
  {
   "cell_type": "code",
   "execution_count": 101,
   "metadata": {},
   "outputs": [
    {
     "data": {
      "text/plain": [
       "array([20.21260393, 27.13017982, 24.42411867, 21.63255682, 23.39185168,\n",
       "       24.70702802, 27.42256629, 22.1969361 , 24.54231987, 25.31199489,\n",
       "       28.79280649, 23.67149503, 20.6420821 , 28.91914778, 26.11877687,\n",
       "       24.79134273, 25.55563736, 29.60088509, 25.63440317, 27.0599166 ,\n",
       "       24.73171052, 27.55424889, 24.3549522 , 29.40354869, 27.14797733,\n",
       "       22.14584456, 22.12182057, 25.68510188, 20.65952343, 25.04376949,\n",
       "       29.1628953 , 25.62723143])"
      ]
     },
     "execution_count": 101,
     "metadata": {},
     "output_type": "execute_result"
    }
   ],
   "source": [
    "indices = indices[0] # solo tomando el primer elemento correspondiente a los inidices\n",
    "\n",
    "array_prueba[indices] #miremos que hay en los inidices que solicitamos..."
   ]
  },
  {
   "cell_type": "markdown",
   "metadata": {},
   "source": [
    "En efecto, encontramos valores superiores a 20."
   ]
  },
  {
   "cell_type": "markdown",
   "metadata": {},
   "source": [
    "## RESUMEN\n",
    "\n",
    "* **Variables** son todas aquellas asignaciones en la memoria del computador que corresponden a elementos que se desean guardar. La declaración de variables es la base de la programación en python y entender su comportamiento es escencial para seguir con lecciones posteriores.\n",
    "\n",
    "\n",
    "* Existen variables denominadas **Contenedoras** que sirven para estructurar, jerarquizar y ordenar otras variables. Usar con destreza estas variables permite la creación de redes de información complejas como bases de datos y clases, que se tocarán más adelante.\n",
    "\n",
    "\n",
    "* Las **Funciones** son otro pilar de la programación en python, puesto que permiten realizar transformaciones en variables o extraer información del código. Estas funciones son trozos de código que solo se ejecuta si se llama directamente. Estas funciones pueden llamar otras funciones o como veremos más adelante, también se pueden llamar a si mismas.\n",
    "\n",
    "\n",
    "* Las **Librerías** sirven para ahorrar código programando al usar funciones,variables y clases que alguien más ya programó y que pueden ser útiles para el trabajo de otros. Son paquetes funcionales cuyo objetivo es facilitar algún proceso en específico.\n",
    "\n",
    "\n",
    "* Librerías como **Numpy** son usadas con frecuencia en la programación por las herramientas que ofrecen. Numpy en particular ofrece funciones y constantes utiles para cualquier cálculo matemático. La cantidad de librerias que hay para python es absurda, en este manual trataremos muchas de las escenciales, pero no estaremos ni cerca de tratarlas todas. Por el momento solo es necesario tener presente que si se requiere hace una tarea compleja o un calculo absurdo, posiblemente python ya tenga una solución para ese problema."
   ]
  },
  {
   "cell_type": "markdown",
   "metadata": {},
   "source": [
    "## EJERCICIOS\n",
    "\n",
    "La base de todo aprendizaje es implementar lo aprendido. Para aplicar lo aprendido en esta clase puede realizar los ejercicios correspondientes a la clase 1 de la hoja de ejercicios. "
   ]
  }
 ],
 "metadata": {
  "kernelspec": {
   "display_name": "Python 3",
   "language": "python",
   "name": "python3"
  },
  "language_info": {
   "codemirror_mode": {
    "name": "ipython",
    "version": 3
   },
   "file_extension": ".py",
   "mimetype": "text/x-python",
   "name": "python",
   "nbconvert_exporter": "python",
   "pygments_lexer": "ipython3",
   "version": "3.6.5"
  }
 },
 "nbformat": 4,
 "nbformat_minor": 2
}
