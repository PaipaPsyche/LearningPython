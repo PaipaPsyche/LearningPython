{
 "cells": [
  {
   "cell_type": "markdown",
   "metadata": {},
   "source": [
    "# LIBRERIAS, VARIABLES Y FUNCIONES\n",
    "\n",
    "Python como lenguaje de programaciòn ofrece muchas ventajas en comparacion a otros lenguajes, y una de ellas es que **es un lenguaje legible e intuitivo.** Es decir que no tiene por qué parecer lenguaje extraterrestre para cualquier programador inexperto e incluso para cualquier persona que no sepa de programación en lo absoluto. \n",
    "En esta clase se va a explorar un poco el concepto de variable, como se declaran y usan de manera adecuada. Además se abordará el tema del uso de librerias y sus respectivas funciones en conjunto con las variables definidas.\n",
    "\n",
    "## VARIABLES\n",
    "\n",
    "Una variable es un espacio que se asigna en la memoria para determinar el valor de un tokken que se especifica por el programador, por ejemplo:"
   ]
  },
  {
   "cell_type": "code",
   "execution_count": 6,
   "metadata": {
    "scrolled": true
   },
   "outputs": [
    {
     "name": "stdout",
     "output_type": "stream",
     "text": [
      "5\n",
      "12.6\n",
      "63.0\n",
      "4.603174603174604\n"
     ]
    }
   ],
   "source": [
    "# la variable A se define con el valor 5\n",
    "A = 5\n",
    "#la variable B se define con el valor 12.6\n",
    "B = 12.6\n",
    "#la variable C se define como el producto de A y B , es decir el producto de 5 y 12.6\n",
    "C = A * B\n",
    "# la variable D se define como la diferencia entre C y A ponderada por el valor de B \n",
    "D = (C-A)/B\n",
    "\n",
    "# se imprimen las variables en orden (A,B,C,D)\n",
    "print( A )\n",
    "print( B )  \n",
    "print( C )\n",
    "print( D )"
   ]
  },
  {
   "cell_type": "code",
   "execution_count": 9,
   "metadata": {},
   "outputs": [
    {
     "name": "stdout",
     "output_type": "stream",
     "text": [
      "A =  55\n",
      "B =  12.6\n",
      "C =  693.0\n",
      "D =  4.603174603174604\n",
      "Todas =  55 12.6 693.0 4.603174603174604\n"
     ]
    }
   ],
   "source": [
    "# cabe aclarar que 'print()' es una funcion que imrpime en consola lo que le entra por parametro entre parentesis\n",
    "#esto sirve sea uno o muchos argumentos, separados por comas.\n",
    "print(\"A = \",A )\n",
    "print(\"B = \",B )\n",
    "print(\"C = \",C )\n",
    "print(\"D = \",D )\n",
    "print (\"Todas = \",A,B,C,D)"
   ]
  },
  {
   "cell_type": "markdown",
   "metadata": {},
   "source": [
    "Las variables no solo se pueden crear sino tambien editar, permitiendo cambiar el valor de estas durante el desarrollo del codigo:"
   ]
  },
  {
   "cell_type": "code",
   "execution_count": 10,
   "metadata": {},
   "outputs": [
    {
     "name": "stdout",
     "output_type": "stream",
     "text": [
      "0.0126\n"
     ]
    }
   ],
   "source": [
    "A = 1/1000\n",
    "C= A * B  # despues de cambiar el valor de A se vuelve a computar A * B, que en el caso anterior daba 63.\n",
    "print(C)"
   ]
  },
  {
   "cell_type": "markdown",
   "metadata": {},
   "source": [
    "Hasta el momento se han tratado variables numericas, no obstante existen diferentes tipos de variable:"
   ]
  },
  {
   "cell_type": "code",
   "execution_count": 30,
   "metadata": {},
   "outputs": [
    {
     "name": "stdout",
     "output_type": "stream",
     "text": [
      "(56.54+1j)\n",
      "56.12314353424235\n",
      "True\n",
      "HolaHolaHolaHolaHolaHolaHolaHolaHolaHola\n"
     ]
    }
   ],
   "source": [
    "variable1 = 10 #valor entero (int)\n",
    "variable2 = 55.54  #valor decimal (float)\n",
    "variable3 = 55.123143534242352345543665454523545 #valor decimal con doble espacio para cifras decimales (double)\n",
    "variable4 = True #variable logica true o False (boolean)\n",
    "variable5 = \"Hola\" #cadena de caracteres o texto (string)\n",
    "variable6 = 1+1j #valor complejo con unidad real e imaginaria (complex)\n",
    "\n",
    "#propiedades entre tipos de  variable\n",
    "print(variable2+variable6) #valor complejo sumado a valor real decimal\n",
    "print(variable4+variable3) #valor logico  o booleano sumado a valor decimal (en base numerica True = 1 y False = 0)\n",
    "print(variable4) #valor booleano\n",
    "print(variable5*variable1) # string multiplicado por un entero"
   ]
  },
  {
   "cell_type": "code",
   "execution_count": 36,
   "metadata": {
    "scrolled": true
   },
   "outputs": [
    {
     "name": "stdout",
     "output_type": "stream",
     "text": [
      "<class 'int'>\n",
      "<class 'float'>\n",
      "<class 'float'>\n",
      "<class 'bool'>\n",
      "<class 'str'>\n",
      "<class 'complex'>\n"
     ]
    }
   ],
   "source": [
    "#type() permite saber el tipo de la variable que se esta tratando\n",
    "\n",
    "print(type(variable1))\n",
    "print(type(variable2))\n",
    "print(type(variable3)) # lee esta variable como float , pero la idea es que sea reconocida como dobule\n",
    "print(type(variable4))\n",
    "print(type(variable5))\n",
    "print(type(variable6))"
   ]
  },
  {
   "cell_type": "code",
   "execution_count": null,
   "metadata": {},
   "outputs": [],
   "source": []
  }
 ],
 "metadata": {
  "kernelspec": {
   "display_name": "Python 3",
   "language": "python",
   "name": "python3"
  },
  "language_info": {
   "codemirror_mode": {
    "name": "ipython",
    "version": 3
   },
   "file_extension": ".py",
   "mimetype": "text/x-python",
   "name": "python",
   "nbconvert_exporter": "python",
   "pygments_lexer": "ipython3",
   "version": "3.7.3"
  }
 },
 "nbformat": 4,
 "nbformat_minor": 2
}
